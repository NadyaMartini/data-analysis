{
 "cells": [
  {
   "cell_type": "markdown",
   "id": "7bfa0144",
   "metadata": {},
   "source": [
    "# Кросс-категорийные продажи P&G в магазинах «Магнит Косметик».\n"
   ]
  },
  {
   "cell_type": "markdown",
   "id": "ecd9d33d",
   "metadata": {},
   "source": [
    "В нашем распряжении два датасета. Датасет \"customers\" содержит в себе информацию о покупателях, зарегистрированных в системе \"Магнит Косметик\" через персональную карту. Каждому из этих покупателей приписан уникальный id в  системе. У нас есть информация о возрастной группе, поле покупателя и дате регистрации в системе, канал попадания покупателя в систему \"Магнит Косметик\". \n",
    "\n",
    "Второй датасет \"purchases\" представляет собой чеки из магазина \"Магнит Косметик\", в которых есть товар компании P&G. Приобретенная категория товара хранится в столбце \"product\". Есть информация о цене проданного товара, преобразованная в данные от -1 до 1, ценовой сегмент купленного товара (от \"1\" - Эконом, до \"4\" - Премиум), информация о других товарах в чеке (относящихся и не относящихся к P&G).      "
   ]
  },
  {
   "cell_type": "markdown",
   "id": "7842b40b",
   "metadata": {},
   "source": [
    "Необходимо: \n",
    "1. Провести обработку исходных данных и исследовать датасет на наличие определенных последовательностей и трендов. \n",
    "2. Составить матрицу кросс-продаж non-food категорий в «Магнит Косметик» и понять, как увеличить рост продаж товаров P&G. \n",
    "3. Исходя из анализа данных и взаимосвязи товаров в матрице кросс-продаж, сделать выводы и дать рекомендации по повышению объема продаж с учетом выявленных закономерностей."
   ]
  },
  {
   "cell_type": "markdown",
   "id": "ba2dc34b",
   "metadata": {},
   "source": [
    "### 1. Выгрузка и первичная обработка данных"
   ]
  },
  {
   "cell_type": "code",
   "execution_count": 1,
   "id": "3e301376",
   "metadata": {},
   "outputs": [],
   "source": [
    "# загрузка библиотек\n",
    "import pandas as pd\n",
    "pd.options.mode.chained_assignment = None\n",
    "import warnings\n",
    "warnings.simplefilter(action='ignore', category=FutureWarning)\n",
    "import numpy as np\n",
    "import datetime as dt\n",
    "import matplotlib.pyplot as plt\n",
    "%matplotlib inline\n",
    "from matplotlib.ticker import PercentFormatter\n",
    "from pandas.plotting import register_matplotlib_converters\n",
    "import warnings\n",
    "import scipy.stats as stats\n",
    "import csv\n",
    "import seaborn as sns\n",
    "import mlxtend.frequent_patterns \n",
    "import mlxtend.preprocessing"
   ]
  },
  {
   "cell_type": "code",
   "execution_count": 2,
   "id": "027ba90a",
   "metadata": {
    "scrolled": true
   },
   "outputs": [],
   "source": [
    "# загружаем данные из файла purchases - покупки \n",
    "purchases = pd.read_csv('C:\\\\Users\\\\Пользователь\\\\Desktop\\\\it\\\\png_magnit_purchases.csv')"
   ]
  },
  {
   "cell_type": "code",
   "execution_count": 3,
   "id": "f343903b",
   "metadata": {
    "scrolled": false
   },
   "outputs": [
    {
     "data": {
      "text/html": [
       "<div>\n",
       "<style scoped>\n",
       "    .dataframe tbody tr th:only-of-type {\n",
       "        vertical-align: middle;\n",
       "    }\n",
       "\n",
       "    .dataframe tbody tr th {\n",
       "        vertical-align: top;\n",
       "    }\n",
       "\n",
       "    .dataframe thead th {\n",
       "        text-align: right;\n",
       "    }\n",
       "</style>\n",
       "<table border=\"1\" class=\"dataframe\">\n",
       "  <thead>\n",
       "    <tr style=\"text-align: right;\">\n",
       "      <th></th>\n",
       "      <th>purchase date</th>\n",
       "      <th>customer</th>\n",
       "      <th>product</th>\n",
       "      <th>other_product</th>\n",
       "      <th>p&amp;g_product</th>\n",
       "      <th>cost_product</th>\n",
       "      <th>cost_p&amp;g</th>\n",
       "      <th>product_segment</th>\n",
       "      <th>p&amp;g_segment</th>\n",
       "    </tr>\n",
       "  </thead>\n",
       "  <tbody>\n",
       "    <tr>\n",
       "      <th>0</th>\n",
       "      <td>2021-12-05</td>\n",
       "      <td>46501ab5e1d554f1a40c</td>\n",
       "      <td>Бумажные салфетки</td>\n",
       "      <td>1.0</td>\n",
       "      <td>0.0</td>\n",
       "      <td>0.719656</td>\n",
       "      <td>NaN</td>\n",
       "      <td>2.0</td>\n",
       "      <td>NaN</td>\n",
       "    </tr>\n",
       "    <tr>\n",
       "      <th>1</th>\n",
       "      <td>2021-11-29</td>\n",
       "      <td>fe4b24b8d77d1ac3990f</td>\n",
       "      <td>Мыло кусковое</td>\n",
       "      <td>5.0</td>\n",
       "      <td>0.0</td>\n",
       "      <td>-0.612290</td>\n",
       "      <td>NaN</td>\n",
       "      <td>3.0</td>\n",
       "      <td>NaN</td>\n",
       "    </tr>\n",
       "    <tr>\n",
       "      <th>2</th>\n",
       "      <td>2021-01-26</td>\n",
       "      <td>ed14e760a20f500bbbeb</td>\n",
       "      <td>Упаковка подарков</td>\n",
       "      <td>1.0</td>\n",
       "      <td>0.0</td>\n",
       "      <td>0.034713</td>\n",
       "      <td>NaN</td>\n",
       "      <td>3.0</td>\n",
       "      <td>NaN</td>\n",
       "    </tr>\n",
       "    <tr>\n",
       "      <th>3</th>\n",
       "      <td>2021-12-02</td>\n",
       "      <td>06337c560d6052ab73e4</td>\n",
       "      <td>Соли для душа</td>\n",
       "      <td>1.0</td>\n",
       "      <td>0.0</td>\n",
       "      <td>-0.468906</td>\n",
       "      <td>NaN</td>\n",
       "      <td>3.0</td>\n",
       "      <td>NaN</td>\n",
       "    </tr>\n",
       "    <tr>\n",
       "      <th>4</th>\n",
       "      <td>2021-03-03</td>\n",
       "      <td>92d6c8144600df232b8e</td>\n",
       "      <td>Маски для лица</td>\n",
       "      <td>1.0</td>\n",
       "      <td>0.0</td>\n",
       "      <td>4.273955</td>\n",
       "      <td>NaN</td>\n",
       "      <td>3.0</td>\n",
       "      <td>NaN</td>\n",
       "    </tr>\n",
       "  </tbody>\n",
       "</table>\n",
       "</div>"
      ],
      "text/plain": [
       "  purchase date              customer            product  other_product  \\\n",
       "0    2021-12-05  46501ab5e1d554f1a40c  Бумажные салфетки            1.0   \n",
       "1    2021-11-29  fe4b24b8d77d1ac3990f      Мыло кусковое            5.0   \n",
       "2    2021-01-26  ed14e760a20f500bbbeb  Упаковка подарков            1.0   \n",
       "3    2021-12-02  06337c560d6052ab73e4      Соли для душа            1.0   \n",
       "4    2021-03-03  92d6c8144600df232b8e     Маски для лица            1.0   \n",
       "\n",
       "   p&g_product  cost_product  cost_p&g  product_segment  p&g_segment  \n",
       "0          0.0      0.719656       NaN              2.0          NaN  \n",
       "1          0.0     -0.612290       NaN              3.0          NaN  \n",
       "2          0.0      0.034713       NaN              3.0          NaN  \n",
       "3          0.0     -0.468906       NaN              3.0          NaN  \n",
       "4          0.0      4.273955       NaN              3.0          NaN  "
      ]
     },
     "execution_count": 3,
     "metadata": {},
     "output_type": "execute_result"
    }
   ],
   "source": [
    "# первые 5 строк данных \"покупки\"\n",
    "purchases.head(5)"
   ]
  },
  {
   "cell_type": "markdown",
   "id": "bc456c55",
   "metadata": {},
   "source": [
    "Мы видим отсутствующие значения в первых пяти строках столбцов \"cost_p&g\" и \"p&g_segment\", так как в этих чеках значится только один купленный продукт P&G, отраженный в столбце \"product\". Информация о его стоимости предоставлена в столбцах \"cost_product\" (цена товара), \"product_segment\" (сегмент товара). Если бы в столбце \"p&g_product\" была бы отражена информация о еще одном купленном товаре P&G, данные в столбцах \"cost_p&g\" и \"p&g_segment\" могли бы быть заполнены.   "
   ]
  },
  {
   "cell_type": "code",
   "execution_count": 4,
   "id": "99e0bd77",
   "metadata": {},
   "outputs": [],
   "source": [
    "# убедимся в верности гипотезы выше: столбцы \"p&g_segment\" и \"cost_p&g\" \n",
    "# содержат в себе информацию только тогда, когда \"p&g_product\" не равен нулю.  \n",
    "# purchases[(purchases['p&g_segment'].notna()) & (purchases['p&g_product']< 1)].head(10) \n",
    "# в данных нет строк, которые одновременно были бы пустыми в \"p&g_product\" и содержали информацию в \"p&g_segment\"\n",
    "# это же работает и в обратную сторону:\n",
    "# purchases[(purchases['p&g_product'].notna()) & (purchases['p&g_segment']< 1)].head(10) "
   ]
  },
  {
   "cell_type": "code",
   "execution_count": 5,
   "id": "46cff6f0",
   "metadata": {},
   "outputs": [],
   "source": [
    "#проверим, что отражает информация в данных о сегменте дополнительного купленного товара P&G (\"p&g_segment\"), если в чеке указано (\"p&g_product\"), что куплено несколько товаров P&G\n",
    "# purchases[purchases['p&g_product'] > 1].head(10)\n",
    "# столбец \"p&g_segment\" не оказался пустым, однако мы не можем знать наверняка, к какому из двух и более дополнительных купленных товаров в чеке (\"p&g_product\") относятся данные по сегменту (\"p&g_segment\")  "
   ]
  },
  {
   "cell_type": "code",
   "execution_count": 6,
   "id": "a201e53d",
   "metadata": {
    "scrolled": true
   },
   "outputs": [
    {
     "name": "stdout",
     "output_type": "stream",
     "text": [
      "<class 'pandas.core.frame.DataFrame'>\n",
      "RangeIndex: 14441625 entries, 0 to 14441624\n",
      "Data columns (total 9 columns):\n",
      " #   Column           Dtype  \n",
      "---  ------           -----  \n",
      " 0   purchase date    object \n",
      " 1   customer         object \n",
      " 2   product          object \n",
      " 3   other_product    float64\n",
      " 4   p&g_product      float64\n",
      " 5   cost_product     float64\n",
      " 6   cost_p&g         float64\n",
      " 7   product_segment  float64\n",
      " 8   p&g_segment      float64\n",
      "dtypes: float64(6), object(3)\n",
      "memory usage: 991.6+ MB\n"
     ]
    }
   ],
   "source": [
    "purchases.info()"
   ]
  },
  {
   "cell_type": "markdown",
   "id": "813404b4",
   "metadata": {},
   "source": [
    "В данных \"покупки\" (\"purchases\") сохранено 14 млн 441 тыс. 625 строк с уникальными чеками.   "
   ]
  },
  {
   "cell_type": "code",
   "execution_count": 7,
   "id": "95823d57",
   "metadata": {},
   "outputs": [],
   "source": [
    "# можем убедиться, что товары из столбца ['product'] не разделены по сегментам\n",
    "# purchases[(purchases['product'] == 'Бумажные салфетки')].sort_values(by = 'product_segment')\n",
    "# purchases[(purchases['product'] == 'Мыло кусковое')].sort_values(by = 'product_segment')"
   ]
  },
  {
   "cell_type": "code",
   "execution_count": 8,
   "id": "d7835082",
   "metadata": {},
   "outputs": [
    {
     "data": {
      "text/plain": [
       "array([ 1.,  5.,  0.,  3.,  4.,  2.,  9.,  8.,  6.,  7., 13., 10., 12.,\n",
       "       14., 17., 11., 16., 19., 15., 18., 28., 20., 23., 21., 22., 25.,\n",
       "       32., 24., 26., 30., 27., 31., 29., 37., 36., 34., 38.])"
      ]
     },
     "execution_count": 8,
     "metadata": {},
     "output_type": "execute_result"
    }
   ],
   "source": [
    "# узнаем, есть ли у нас в данных выбросы по типам данных: в данных не может быть куплены дробное число товаров, не может быть дробное число категории сегмента\n",
    "# уникальные значения столбцов дадут нам представление о необходимости удалить данные \n",
    "purchases['other_product'].unique()"
   ]
  },
  {
   "cell_type": "code",
   "execution_count": 9,
   "id": "4377133d",
   "metadata": {},
   "outputs": [
    {
     "data": {
      "text/plain": [
       "array([ 0.,  1.,  2.,  3.,  4.,  5.,  8.,  6.,  7., 11.])"
      ]
     },
     "execution_count": 9,
     "metadata": {},
     "output_type": "execute_result"
    }
   ],
   "source": [
    "purchases['p&g_product'].unique()"
   ]
  },
  {
   "cell_type": "code",
   "execution_count": 10,
   "id": "e6424701",
   "metadata": {},
   "outputs": [
    {
     "data": {
      "text/plain": [
       "array([2.      , 3.      , 4.      ,      nan, 3.5     , 3.666666,\n",
       "       3.833333, 3.75    , 1.      , 3.333333, 3.25    , 3.90909 ,\n",
       "       3.8     , 3.6     , 3.4     , 3.714285, 3.571428, 3.888888,\n",
       "       3.857142, 3.2     , 3.222222, 3.875   , 3.777777, 3.9     ,\n",
       "       3.727272, 3.428571, 3.285714, 3.866666, 3.166666, 3.636363,\n",
       "       3.7     , 3.625   , 3.705882, 3.142857, 3.916666, 3.444444,\n",
       "       3.583333, 3.181818, 3.8125  ])"
      ]
     },
     "execution_count": 10,
     "metadata": {},
     "output_type": "execute_result"
    }
   ],
   "source": [
    "purchases['product_segment'].unique()"
   ]
  },
  {
   "cell_type": "code",
   "execution_count": 11,
   "id": "6e16e645",
   "metadata": {},
   "outputs": [
    {
     "data": {
      "text/plain": [
       "13173586"
      ]
     },
     "execution_count": 11,
     "metadata": {},
     "output_type": "execute_result"
    }
   ],
   "source": [
    "# посчитаем, сколько у нас строк до удаления \n",
    "purchases['product_segment'].count()"
   ]
  },
  {
   "cell_type": "code",
   "execution_count": 12,
   "id": "61e5389e",
   "metadata": {},
   "outputs": [],
   "source": [
    "# удалим из таблицы строки с дробными числами в столбце сегмента\n",
    "allowedseg = [1,2,3,4, np.nan]\n",
    "purchases = purchases.loc[purchases['product_segment'].isin(allowedseg)]"
   ]
  },
  {
   "cell_type": "code",
   "execution_count": 13,
   "id": "d7dff064",
   "metadata": {},
   "outputs": [
    {
     "data": {
      "text/plain": [
       "13154434"
      ]
     },
     "execution_count": 13,
     "metadata": {},
     "output_type": "execute_result"
    }
   ],
   "source": [
    "# посчитаем, сколько у нас строк после удаления \n",
    "purchases['product_segment'].count()"
   ]
  },
  {
   "cell_type": "code",
   "execution_count": 14,
   "id": "152736b6",
   "metadata": {},
   "outputs": [
    {
     "name": "stdout",
     "output_type": "stream",
     "text": [
      "Процент удаленных дробных данных: 0.15%\n"
     ]
    }
   ],
   "source": [
    "print (f'Процент удаленных дробных данных: {1-(13154434/13173586):.2%}')"
   ]
  },
  {
   "cell_type": "code",
   "execution_count": 15,
   "id": "d17b45c9",
   "metadata": {},
   "outputs": [
    {
     "data": {
      "text/plain": [
       "array([ 2.,  3.,  4., nan,  1.])"
      ]
     },
     "execution_count": 15,
     "metadata": {},
     "output_type": "execute_result"
    }
   ],
   "source": [
    "# проверка\n",
    "purchases['product_segment'].unique()"
   ]
  },
  {
   "cell_type": "code",
   "execution_count": 16,
   "id": "63e15909",
   "metadata": {},
   "outputs": [
    {
     "data": {
      "text/plain": [
       "array([nan,  3.,  2.])"
      ]
     },
     "execution_count": 16,
     "metadata": {},
     "output_type": "execute_result"
    }
   ],
   "source": [
    "purchases['p&g_segment'].unique()"
   ]
  },
  {
   "cell_type": "code",
   "execution_count": 17,
   "id": "a4954740",
   "metadata": {},
   "outputs": [
    {
     "name": "stdout",
     "output_type": "stream",
     "text": [
      "Процент пропущенных значений в столбце 'product_segment': 8.8%\n"
     ]
    }
   ],
   "source": [
    "# если отсутствующих данных немного в датасете, их можно безболезненно удалить\n",
    "# посчитаем проценты nan в данных\n",
    "print(f\"Процент пропущенных значений в столбце 'product_segment': {purchases['product_segment'].isna().sum()/len(purchases['product_segment']):.1%}\")"
   ]
  },
  {
   "cell_type": "code",
   "execution_count": 18,
   "id": "30d9af51",
   "metadata": {},
   "outputs": [],
   "source": [
    "# удалим пропущенные значения в 'product_segment'\n",
    "purchases = purchases.dropna(subset= ['product_segment']).reset_index()"
   ]
  },
  {
   "cell_type": "code",
   "execution_count": 19,
   "id": "0daecb8a",
   "metadata": {},
   "outputs": [
    {
     "name": "stdout",
     "output_type": "stream",
     "text": [
      "Процент пропущенных значений в столбце 'p&g_segment': 99.2%\n"
     ]
    }
   ],
   "source": [
    "print(f\"Процент пропущенных значений в столбце 'p&g_segment': {purchases['p&g_segment'].isna().sum()/len(purchases['product_segment']):.1%}\")"
   ]
  },
  {
   "cell_type": "code",
   "execution_count": 20,
   "id": "368ea520",
   "metadata": {},
   "outputs": [],
   "source": [
    "#преобразуем где возможно данные в необходимые для вычислений и обработки формат int и datetime\n",
    "purchases['other_product'] = purchases['other_product'].astype(\"int\")\n",
    "purchases['p&g_product'] = purchases['p&g_product'].astype(\"int\")\n",
    "purchases['purchase date'] = pd.to_datetime(purchases['purchase date'])\n",
    "purchases['product_segment'] = purchases['product_segment'].astype(\"int\")"
   ]
  },
  {
   "cell_type": "code",
   "execution_count": 21,
   "id": "a04c8570",
   "metadata": {},
   "outputs": [
    {
     "name": "stdout",
     "output_type": "stream",
     "text": [
      "<class 'pandas.core.frame.DataFrame'>\n",
      "RangeIndex: 13154434 entries, 0 to 13154433\n",
      "Data columns (total 10 columns):\n",
      " #   Column           Dtype         \n",
      "---  ------           -----         \n",
      " 0   index            int64         \n",
      " 1   purchase date    datetime64[ns]\n",
      " 2   customer         object        \n",
      " 3   product          object        \n",
      " 4   other_product    int32         \n",
      " 5   p&g_product      int32         \n",
      " 6   cost_product     float64       \n",
      " 7   cost_p&g         float64       \n",
      " 8   product_segment  int32         \n",
      " 9   p&g_segment      float64       \n",
      "dtypes: datetime64[ns](1), float64(3), int32(3), int64(1), object(2)\n",
      "memory usage: 853.1+ MB\n"
     ]
    }
   ],
   "source": [
    "purchases.info()"
   ]
  },
  {
   "cell_type": "code",
   "execution_count": 22,
   "id": "3818027e",
   "metadata": {},
   "outputs": [
    {
     "name": "stdout",
     "output_type": "stream",
     "text": [
      "В данных обнаружено 0 дубликатов\n"
     ]
    }
   ],
   "source": [
    "#проверим, есть ли в данных явные дубликаты\n",
    "print(f\"В данных обнаружено {purchases.duplicated().sum()} дубликатов\")"
   ]
  },
  {
   "cell_type": "code",
   "execution_count": 23,
   "id": "6b8d2748",
   "metadata": {},
   "outputs": [],
   "source": [
    "# проверим наличие скрытых дубликатов, например, за счет разны названий одной и той же категории продукта в столбце \"product\"\n",
    "# также ознакомимся с предоставленными категориями товаров\n",
    "#display(purchases['product'].unique())"
   ]
  },
  {
   "cell_type": "code",
   "execution_count": 24,
   "id": "a4376509",
   "metadata": {
    "scrolled": false
   },
   "outputs": [
    {
     "name": "stdout",
     "output_type": "stream",
     "text": [
      "Количество аномальных данных в столбце 'cost_product': 2474501\n"
     ]
    }
   ],
   "source": [
    "# в столбце \"cost_product\" должны быть числа от -1 до 1. посчитаем количество аномальных данных (больше 1 или меньше -1)\n",
    "print (f\"Количество аномальных данных в столбце 'cost_product': {purchases[(purchases['cost_product']>1) | (purchases['cost_product']< -1) ]['cost_product'].count()}\")"
   ]
  },
  {
   "cell_type": "code",
   "execution_count": 25,
   "id": "2b3e8899",
   "metadata": {},
   "outputs": [
    {
     "name": "stdout",
     "output_type": "stream",
     "text": [
      "Количество аномальных данных в столбце 'cost_product': 18.81%\n"
     ]
    }
   ],
   "source": [
    "print (f\"Количество аномальных данных в столбце 'cost_product': {(2474501/len(purchases['cost_product'])):.2%}\" ) "
   ]
  },
  {
   "cell_type": "markdown",
   "id": "a53408bb",
   "metadata": {},
   "source": [
    "В данных обнаружено 2 млн 474 тыс 501 данных, в которых 'cost_product' выходит за рамки -1 до 1. Это почти 19% от всех данных. Мы не можем удалить эти данные, так как это может нарушить статистический баланс при исследовании иных характеристек покупок. Данные необходимо будет удалить только в случае исследовании цен на продукты."
   ]
  },
  {
   "cell_type": "code",
   "execution_count": 26,
   "id": "b6e6434f",
   "metadata": {},
   "outputs": [
    {
     "data": {
      "text/plain": [
       "7498764    2021-01-01\n",
       "10115667   2021-01-01\n",
       "12704511   2021-01-01\n",
       "Name: purchase date, dtype: datetime64[ns]"
      ]
     },
     "execution_count": 26,
     "metadata": {},
     "output_type": "execute_result"
    }
   ],
   "source": [
    "# какого числа были совершены самые ранние покупки в чеках\n",
    "purchases['purchase date'].sort_values().head(3) "
   ]
  },
  {
   "cell_type": "code",
   "execution_count": 27,
   "id": "933c5ccc",
   "metadata": {},
   "outputs": [
    {
     "data": {
      "text/plain": [
       "12581365   2021-12-31\n",
       "12062964   2021-12-31\n",
       "6137717    2021-12-31\n",
       "Name: purchase date, dtype: datetime64[ns]"
      ]
     },
     "execution_count": 27,
     "metadata": {},
     "output_type": "execute_result"
    }
   ],
   "source": [
    "# какого числа были совершены самые поздние покупки в чеках\n",
    "purchases['purchase date'].sort_values().tail(3) "
   ]
  },
  {
   "cell_type": "markdown",
   "id": "5406869d",
   "metadata": {},
   "source": [
    "<b> Общий вывод по предобработке данных датасета \"покупки\" - \"purchases\": </b>\n",
    "\n",
    "1!) В данных обнаружено 18.81 % аномальных данных, в которых 'cost_product' выходит за рамки -1 до 1. Принято решение оставить данные, чтобы не потерять остальную важную информацию в чеке. \n",
    "\n",
    "2!) Процент пропущенных значений в столбце 'product_segment' - 8.8%, присутствовали дробные значения(0.15%). Эти данные удалены.\n",
    "\n",
    "3!) Нет информации о том, к какому из двух и более дополнительных купленных товаров в чеке (\"p&g_product\") относятся данные по сегменту (\"p&g_segment\"). \n",
    "\n",
    "4.) Размер данных до обработки 14441624 строк и 9 столбцов. После первичной обработки 13154434 строк и 9 столбцов.  \n",
    "В данных не обнаружены дубликаты скрытые и явные. Где возможно, данные приведены к стандартному типу данных int и datetime. В данных много пропусков в столбцах \"cost_p&g\" и \"p&g_segment\", что объясняется тем, что эти заполнены только в тех чеках, где был куплен дополнительный товар p&g. Данные в чеках представлены за год: с 1 января 2021 года до 31 декабря 2021 года. "
   ]
  },
  {
   "cell_type": "code",
   "execution_count": 28,
   "id": "b5510474",
   "metadata": {},
   "outputs": [],
   "source": [
    "# загружаем данные из файла customers - покупатели\n",
    "customers = pd.read_csv('C:\\\\Users\\\\Пользователь\\\\Desktop\\\\it\\\\png_magnit_customers.csv')"
   ]
  },
  {
   "cell_type": "code",
   "execution_count": 29,
   "id": "58208c4c",
   "metadata": {
    "scrolled": true
   },
   "outputs": [
    {
     "data": {
      "text/html": [
       "<div>\n",
       "<style scoped>\n",
       "    .dataframe tbody tr th:only-of-type {\n",
       "        vertical-align: middle;\n",
       "    }\n",
       "\n",
       "    .dataframe tbody tr th {\n",
       "        vertical-align: top;\n",
       "    }\n",
       "\n",
       "    .dataframe thead th {\n",
       "        text-align: right;\n",
       "    }\n",
       "</style>\n",
       "<table border=\"1\" class=\"dataframe\">\n",
       "  <thead>\n",
       "    <tr style=\"text-align: right;\">\n",
       "      <th></th>\n",
       "      <th>customer</th>\n",
       "      <th>customer_age_group</th>\n",
       "      <th>gender</th>\n",
       "      <th>enr_channel</th>\n",
       "      <th>enr_date</th>\n",
       "    </tr>\n",
       "  </thead>\n",
       "  <tbody>\n",
       "    <tr>\n",
       "      <th>0</th>\n",
       "      <td>e0efeacbbbbc72f53a0c</td>\n",
       "      <td>[21 - 25]</td>\n",
       "      <td>F</td>\n",
       "      <td>SMS</td>\n",
       "      <td>2019-10-27</td>\n",
       "    </tr>\n",
       "    <tr>\n",
       "      <th>1</th>\n",
       "      <td>3211c12941b73356a68e</td>\n",
       "      <td>[36 - 40]</td>\n",
       "      <td>F</td>\n",
       "      <td>Mobile App</td>\n",
       "      <td>2019-11-02</td>\n",
       "    </tr>\n",
       "    <tr>\n",
       "      <th>2</th>\n",
       "      <td>4c2c6c4175dc9a75e134</td>\n",
       "      <td>[51 and more]</td>\n",
       "      <td>U</td>\n",
       "      <td>Mobile App</td>\n",
       "      <td>2019-11-01</td>\n",
       "    </tr>\n",
       "    <tr>\n",
       "      <th>3</th>\n",
       "      <td>2698e403385bf0e02553</td>\n",
       "      <td>[31 - 35]</td>\n",
       "      <td>F</td>\n",
       "      <td>Mobile App</td>\n",
       "      <td>2019-10-25</td>\n",
       "    </tr>\n",
       "    <tr>\n",
       "      <th>4</th>\n",
       "      <td>5580c83260e4a918965e</td>\n",
       "      <td>[26 - 30]</td>\n",
       "      <td>F</td>\n",
       "      <td>SMS</td>\n",
       "      <td>2019-10-27</td>\n",
       "    </tr>\n",
       "  </tbody>\n",
       "</table>\n",
       "</div>"
      ],
      "text/plain": [
       "               customer customer_age_group gender enr_channel    enr_date\n",
       "0  e0efeacbbbbc72f53a0c          [21 - 25]      F         SMS  2019-10-27\n",
       "1  3211c12941b73356a68e          [36 - 40]      F  Mobile App  2019-11-02\n",
       "2  4c2c6c4175dc9a75e134      [51 and more]      U  Mobile App  2019-11-01\n",
       "3  2698e403385bf0e02553          [31 - 35]      F  Mobile App  2019-10-25\n",
       "4  5580c83260e4a918965e          [26 - 30]      F         SMS  2019-10-27"
      ]
     },
     "execution_count": 29,
     "metadata": {},
     "output_type": "execute_result"
    }
   ],
   "source": [
    "# первые 5 строк данных \"покупатели\"\n",
    "customers.head(5)"
   ]
  },
  {
   "cell_type": "code",
   "execution_count": 30,
   "id": "6b0bcea8",
   "metadata": {},
   "outputs": [
    {
     "name": "stdout",
     "output_type": "stream",
     "text": [
      "<class 'pandas.core.frame.DataFrame'>\n",
      "RangeIndex: 352547 entries, 0 to 352546\n",
      "Data columns (total 5 columns):\n",
      " #   Column              Non-Null Count   Dtype \n",
      "---  ------              --------------   ----- \n",
      " 0   customer            352547 non-null  object\n",
      " 1   customer_age_group  351951 non-null  object\n",
      " 2   gender              352547 non-null  object\n",
      " 3   enr_channel         352547 non-null  object\n",
      " 4   enr_date            352547 non-null  object\n",
      "dtypes: object(5)\n",
      "memory usage: 13.4+ MB\n"
     ]
    }
   ],
   "source": [
    "# общая информация о данных \"покупатели\"\n",
    "customers.info()"
   ]
  },
  {
   "cell_type": "code",
   "execution_count": 31,
   "id": "19849265",
   "metadata": {},
   "outputs": [],
   "source": [
    "# пропущенных данных немного, можем их удалить\n",
    "customers = customers.dropna(axis = 0) "
   ]
  },
  {
   "cell_type": "code",
   "execution_count": 32,
   "id": "1daebdcc",
   "metadata": {},
   "outputs": [
    {
     "data": {
      "text/plain": [
       "0"
      ]
     },
     "metadata": {},
     "output_type": "display_data"
    }
   ],
   "source": [
    "# наличие явных дубликатов\n",
    "display(customers.duplicated().sum())"
   ]
  },
  {
   "cell_type": "code",
   "execution_count": 33,
   "id": "d5def52f",
   "metadata": {},
   "outputs": [],
   "source": [
    "# тип данных \n",
    "customers['enr_date'] = pd.to_datetime(customers['enr_date'])"
   ]
  },
  {
   "cell_type": "code",
   "execution_count": 34,
   "id": "c3ff4773",
   "metadata": {},
   "outputs": [
    {
     "data": {
      "text/plain": [
       "[51 and more]    79499\n",
       "[31 - 35]        55574\n",
       "[36 - 40]        51297\n",
       "[26 - 30]        44295\n",
       "[21 - 25]        42398\n",
       "[41 - 45]        40217\n",
       "[46 - 50]        29813\n",
       "[18 - 20]         8858\n",
       "Name: customer_age_group, dtype: int64"
      ]
     },
     "execution_count": 34,
     "metadata": {},
     "output_type": "execute_result"
    }
   ],
   "source": [
    "# уникальные значения групп возраста покупателей в системе \"магнит косметик\"\n",
    "customers['customer_age_group'].value_counts().sort_values(ascending = False)"
   ]
  },
  {
   "cell_type": "code",
   "execution_count": 35,
   "id": "bc88d3ed",
   "metadata": {},
   "outputs": [
    {
     "data": {
      "text/plain": [
       "F    219338\n",
       "M    100723\n",
       "U     31890\n",
       "Name: gender, dtype: int64"
      ]
     },
     "execution_count": 35,
     "metadata": {},
     "output_type": "execute_result"
    }
   ],
   "source": [
    "# уникальные значения групп пола покупателей в системе \"магнит косметик\"\n",
    "customers['gender'].value_counts().sort_values(ascending = False)"
   ]
  },
  {
   "cell_type": "code",
   "execution_count": 36,
   "id": "b0965a86",
   "metadata": {},
   "outputs": [
    {
     "name": "stdout",
     "output_type": "stream",
     "text": [
      "Процент покупателей с неопределенным полом в данных: 9.06%\n"
     ]
    }
   ],
   "source": [
    "print(f\"Процент покупателей с неопределенным полом в данных: {31890/ customers['gender'].count():.2%}\")"
   ]
  },
  {
   "cell_type": "code",
   "execution_count": 37,
   "id": "2483271b",
   "metadata": {
    "scrolled": true
   },
   "outputs": [
    {
     "data": {
      "text/plain": [
       "SMS                    178661\n",
       "Mobile App             120511\n",
       "Customer Web Portal     31576\n",
       "Back Office             12122\n",
       "Koshelok                 6106\n",
       "Batch File               2975\n",
       "Name: enr_channel, dtype: int64"
      ]
     },
     "execution_count": 37,
     "metadata": {},
     "output_type": "execute_result"
    }
   ],
   "source": [
    "# униклаьные значения групп источника регистраци покупателей в системе \"магнит косметик\"\n",
    "customers['enr_channel'].value_counts().sort_values(ascending = False)"
   ]
  },
  {
   "cell_type": "code",
   "execution_count": 38,
   "id": "78aba630",
   "metadata": {},
   "outputs": [
    {
     "name": "stdout",
     "output_type": "stream",
     "text": [
      "<class 'pandas.core.frame.DataFrame'>\n",
      "Int64Index: 351951 entries, 0 to 352546\n",
      "Data columns (total 5 columns):\n",
      " #   Column              Non-Null Count   Dtype         \n",
      "---  ------              --------------   -----         \n",
      " 0   customer            351951 non-null  object        \n",
      " 1   customer_age_group  351951 non-null  object        \n",
      " 2   gender              351951 non-null  object        \n",
      " 3   enr_channel         351951 non-null  object        \n",
      " 4   enr_date            351951 non-null  datetime64[ns]\n",
      "dtypes: datetime64[ns](1), object(4)\n",
      "memory usage: 16.1+ MB\n"
     ]
    }
   ],
   "source": [
    "customers.info()"
   ]
  },
  {
   "cell_type": "markdown",
   "id": "2262f277",
   "metadata": {},
   "source": [
    "<b> Общий вывод по предобработке данных датасета \"покупатели\" - \"customers\":</b>\n",
    "\n",
    "В данных процент покупателей с неопределенным полом 9%. В данных удалены пропуски, преобразован тип данных. Отсутствуют скрытые дубликаты. После обработки в данных 351951 строки, 5 столбцов.        "
   ]
  },
  {
   "cell_type": "markdown",
   "id": "ef1d9595",
   "metadata": {},
   "source": [
    "Для работы с данными объединим таблицы \"покупателей\" - \"customers\" и совершенных покупок - \"purchases\" в общую таблицу \"data\". "
   ]
  },
  {
   "cell_type": "code",
   "execution_count": 39,
   "id": "b0b5cf30",
   "metadata": {
    "scrolled": true
   },
   "outputs": [],
   "source": [
    "# объединим таблицы с приоритетом чеков, покупок 'purchases'\n",
    "data = customers.merge(right = purchases, on='customer', how='right') "
   ]
  },
  {
   "cell_type": "code",
   "execution_count": 40,
   "id": "c2b1188b",
   "metadata": {},
   "outputs": [
    {
     "data": {
      "text/html": [
       "<div>\n",
       "<style scoped>\n",
       "    .dataframe tbody tr th:only-of-type {\n",
       "        vertical-align: middle;\n",
       "    }\n",
       "\n",
       "    .dataframe tbody tr th {\n",
       "        vertical-align: top;\n",
       "    }\n",
       "\n",
       "    .dataframe thead th {\n",
       "        text-align: right;\n",
       "    }\n",
       "</style>\n",
       "<table border=\"1\" class=\"dataframe\">\n",
       "  <thead>\n",
       "    <tr style=\"text-align: right;\">\n",
       "      <th></th>\n",
       "      <th>customer</th>\n",
       "      <th>customer_age_group</th>\n",
       "      <th>gender</th>\n",
       "      <th>enr_channel</th>\n",
       "      <th>enr_date</th>\n",
       "      <th>purchase date</th>\n",
       "      <th>product</th>\n",
       "      <th>other_product</th>\n",
       "      <th>p&amp;g_product</th>\n",
       "      <th>cost_product</th>\n",
       "      <th>cost_p&amp;g</th>\n",
       "      <th>product_segment</th>\n",
       "      <th>p&amp;g_segment</th>\n",
       "    </tr>\n",
       "  </thead>\n",
       "  <tbody>\n",
       "    <tr>\n",
       "      <th>0</th>\n",
       "      <td>46501ab5e1d554f1a40c</td>\n",
       "      <td>[51 and more]</td>\n",
       "      <td>M</td>\n",
       "      <td>Mobile App</td>\n",
       "      <td>2019-11-01</td>\n",
       "      <td>2021-12-05</td>\n",
       "      <td>Бумажные салфетки</td>\n",
       "      <td>1</td>\n",
       "      <td>0</td>\n",
       "      <td>0.719656</td>\n",
       "      <td>NaN</td>\n",
       "      <td>2</td>\n",
       "      <td>NaN</td>\n",
       "    </tr>\n",
       "    <tr>\n",
       "      <th>1</th>\n",
       "      <td>fe4b24b8d77d1ac3990f</td>\n",
       "      <td>[31 - 35]</td>\n",
       "      <td>M</td>\n",
       "      <td>SMS</td>\n",
       "      <td>2019-11-07</td>\n",
       "      <td>2021-11-29</td>\n",
       "      <td>Мыло кусковое</td>\n",
       "      <td>5</td>\n",
       "      <td>0</td>\n",
       "      <td>-0.612290</td>\n",
       "      <td>NaN</td>\n",
       "      <td>3</td>\n",
       "      <td>NaN</td>\n",
       "    </tr>\n",
       "    <tr>\n",
       "      <th>2</th>\n",
       "      <td>ed14e760a20f500bbbeb</td>\n",
       "      <td>[21 - 25]</td>\n",
       "      <td>F</td>\n",
       "      <td>SMS</td>\n",
       "      <td>2019-12-14</td>\n",
       "      <td>2021-01-26</td>\n",
       "      <td>Упаковка подарков</td>\n",
       "      <td>1</td>\n",
       "      <td>0</td>\n",
       "      <td>0.034713</td>\n",
       "      <td>NaN</td>\n",
       "      <td>3</td>\n",
       "      <td>NaN</td>\n",
       "    </tr>\n",
       "    <tr>\n",
       "      <th>3</th>\n",
       "      <td>06337c560d6052ab73e4</td>\n",
       "      <td>[31 - 35]</td>\n",
       "      <td>F</td>\n",
       "      <td>SMS</td>\n",
       "      <td>2020-06-16</td>\n",
       "      <td>2021-12-02</td>\n",
       "      <td>Соли для душа</td>\n",
       "      <td>1</td>\n",
       "      <td>0</td>\n",
       "      <td>-0.468906</td>\n",
       "      <td>NaN</td>\n",
       "      <td>3</td>\n",
       "      <td>NaN</td>\n",
       "    </tr>\n",
       "    <tr>\n",
       "      <th>4</th>\n",
       "      <td>92d6c8144600df232b8e</td>\n",
       "      <td>[31 - 35]</td>\n",
       "      <td>F</td>\n",
       "      <td>Customer Web Portal</td>\n",
       "      <td>2020-05-24</td>\n",
       "      <td>2021-03-03</td>\n",
       "      <td>Маски для лица</td>\n",
       "      <td>1</td>\n",
       "      <td>0</td>\n",
       "      <td>4.273955</td>\n",
       "      <td>NaN</td>\n",
       "      <td>3</td>\n",
       "      <td>NaN</td>\n",
       "    </tr>\n",
       "  </tbody>\n",
       "</table>\n",
       "</div>"
      ],
      "text/plain": [
       "               customer customer_age_group gender          enr_channel  \\\n",
       "0  46501ab5e1d554f1a40c      [51 and more]      M           Mobile App   \n",
       "1  fe4b24b8d77d1ac3990f          [31 - 35]      M                  SMS   \n",
       "2  ed14e760a20f500bbbeb          [21 - 25]      F                  SMS   \n",
       "3  06337c560d6052ab73e4          [31 - 35]      F                  SMS   \n",
       "4  92d6c8144600df232b8e          [31 - 35]      F  Customer Web Portal   \n",
       "\n",
       "    enr_date purchase date            product  other_product  p&g_product  \\\n",
       "0 2019-11-01    2021-12-05  Бумажные салфетки              1            0   \n",
       "1 2019-11-07    2021-11-29      Мыло кусковое              5            0   \n",
       "2 2019-12-14    2021-01-26  Упаковка подарков              1            0   \n",
       "3 2020-06-16    2021-12-02      Соли для душа              1            0   \n",
       "4 2020-05-24    2021-03-03     Маски для лица              1            0   \n",
       "\n",
       "   cost_product  cost_p&g  product_segment  p&g_segment  \n",
       "0      0.719656       NaN                2          NaN  \n",
       "1     -0.612290       NaN                3          NaN  \n",
       "2      0.034713       NaN                3          NaN  \n",
       "3     -0.468906       NaN                3          NaN  \n",
       "4      4.273955       NaN                3          NaN  "
      ]
     },
     "metadata": {},
     "output_type": "display_data"
    }
   ],
   "source": [
    "data = data [['customer', 'customer_age_group', 'gender', 'enr_channel', 'enr_date', 'purchase date', 'product', 'other_product', 'p&g_product',\n",
    "       'cost_product', 'cost_p&g', 'product_segment', 'p&g_segment']]\n",
    "display(data.head(5))"
   ]
  },
  {
   "cell_type": "code",
   "execution_count": 41,
   "id": "3e06e24f",
   "metadata": {},
   "outputs": [
    {
     "name": "stdout",
     "output_type": "stream",
     "text": [
      "<class 'pandas.core.frame.DataFrame'>\n",
      "Int64Index: 13154434 entries, 0 to 13154433\n",
      "Data columns (total 13 columns):\n",
      " #   Column              Dtype         \n",
      "---  ------              -----         \n",
      " 0   customer            object        \n",
      " 1   customer_age_group  object        \n",
      " 2   gender              object        \n",
      " 3   enr_channel         object        \n",
      " 4   enr_date            datetime64[ns]\n",
      " 5   purchase date       datetime64[ns]\n",
      " 6   product             object        \n",
      " 7   other_product       int32         \n",
      " 8   p&g_product         int32         \n",
      " 9   cost_product        float64       \n",
      " 10  cost_p&g            float64       \n",
      " 11  product_segment     int32         \n",
      " 12  p&g_segment         float64       \n",
      "dtypes: datetime64[ns](2), float64(3), int32(3), object(5)\n",
      "memory usage: 1.2+ GB\n"
     ]
    }
   ],
   "source": [
    "data.info()"
   ]
  },
  {
   "cell_type": "markdown",
   "id": "70ad413d",
   "metadata": {},
   "source": [
    "### 2. Первичный анализ данных"
   ]
  },
  {
   "cell_type": "markdown",
   "id": "a6fa8a07",
   "metadata": {},
   "source": [
    "Данные \"data\" представляют собой чеки покупателей, в которых куплен товар P&G, с информацией об этих покупателях (возраст, гендер, канал регистрации в \"магнит косметик\", дата регистрации. \n",
    "Чеки представляют собой покупки за 2021 год. \n",
    "Узнаем, кто совершил хотя бы одну покупку P&G продуктов в \"Магнит косметик\" за 2021 год. "
   ]
  },
  {
   "cell_type": "code",
   "execution_count": 42,
   "id": "31fe2857",
   "metadata": {},
   "outputs": [
    {
     "data": {
      "text/html": [
       "<div>\n",
       "<style scoped>\n",
       "    .dataframe tbody tr th:only-of-type {\n",
       "        vertical-align: middle;\n",
       "    }\n",
       "\n",
       "    .dataframe tbody tr th {\n",
       "        vertical-align: top;\n",
       "    }\n",
       "\n",
       "    .dataframe thead th {\n",
       "        text-align: right;\n",
       "    }\n",
       "</style>\n",
       "<table border=\"1\" class=\"dataframe\">\n",
       "  <thead>\n",
       "    <tr style=\"text-align: right;\">\n",
       "      <th></th>\n",
       "      <th>customer</th>\n",
       "      <th>customer_age_group</th>\n",
       "      <th>gender</th>\n",
       "      <th>enr_channel</th>\n",
       "      <th>enr_date</th>\n",
       "      <th>purchase date</th>\n",
       "      <th>product</th>\n",
       "      <th>other_product</th>\n",
       "      <th>p&amp;g_product</th>\n",
       "      <th>cost_product</th>\n",
       "      <th>cost_p&amp;g</th>\n",
       "      <th>product_segment</th>\n",
       "      <th>p&amp;g_segment</th>\n",
       "    </tr>\n",
       "  </thead>\n",
       "  <tbody>\n",
       "    <tr>\n",
       "      <th>0</th>\n",
       "      <td>46501ab5e1d554f1a40c</td>\n",
       "      <td>[51 and more]</td>\n",
       "      <td>M</td>\n",
       "      <td>Mobile App</td>\n",
       "      <td>2019-11-01</td>\n",
       "      <td>2021-12-05</td>\n",
       "      <td>Бумажные салфетки</td>\n",
       "      <td>1</td>\n",
       "      <td>0</td>\n",
       "      <td>0.719656</td>\n",
       "      <td>NaN</td>\n",
       "      <td>2</td>\n",
       "      <td>NaN</td>\n",
       "    </tr>\n",
       "    <tr>\n",
       "      <th>1</th>\n",
       "      <td>fe4b24b8d77d1ac3990f</td>\n",
       "      <td>[31 - 35]</td>\n",
       "      <td>M</td>\n",
       "      <td>SMS</td>\n",
       "      <td>2019-11-07</td>\n",
       "      <td>2021-11-29</td>\n",
       "      <td>Мыло кусковое</td>\n",
       "      <td>5</td>\n",
       "      <td>0</td>\n",
       "      <td>-0.612290</td>\n",
       "      <td>NaN</td>\n",
       "      <td>3</td>\n",
       "      <td>NaN</td>\n",
       "    </tr>\n",
       "    <tr>\n",
       "      <th>2</th>\n",
       "      <td>ed14e760a20f500bbbeb</td>\n",
       "      <td>[21 - 25]</td>\n",
       "      <td>F</td>\n",
       "      <td>SMS</td>\n",
       "      <td>2019-12-14</td>\n",
       "      <td>2021-01-26</td>\n",
       "      <td>Упаковка подарков</td>\n",
       "      <td>1</td>\n",
       "      <td>0</td>\n",
       "      <td>0.034713</td>\n",
       "      <td>NaN</td>\n",
       "      <td>3</td>\n",
       "      <td>NaN</td>\n",
       "    </tr>\n",
       "    <tr>\n",
       "      <th>3</th>\n",
       "      <td>06337c560d6052ab73e4</td>\n",
       "      <td>[31 - 35]</td>\n",
       "      <td>F</td>\n",
       "      <td>SMS</td>\n",
       "      <td>2020-06-16</td>\n",
       "      <td>2021-12-02</td>\n",
       "      <td>Соли для душа</td>\n",
       "      <td>1</td>\n",
       "      <td>0</td>\n",
       "      <td>-0.468906</td>\n",
       "      <td>NaN</td>\n",
       "      <td>3</td>\n",
       "      <td>NaN</td>\n",
       "    </tr>\n",
       "    <tr>\n",
       "      <th>4</th>\n",
       "      <td>92d6c8144600df232b8e</td>\n",
       "      <td>[31 - 35]</td>\n",
       "      <td>F</td>\n",
       "      <td>Customer Web Portal</td>\n",
       "      <td>2020-05-24</td>\n",
       "      <td>2021-03-03</td>\n",
       "      <td>Маски для лица</td>\n",
       "      <td>1</td>\n",
       "      <td>0</td>\n",
       "      <td>4.273955</td>\n",
       "      <td>NaN</td>\n",
       "      <td>3</td>\n",
       "      <td>NaN</td>\n",
       "    </tr>\n",
       "  </tbody>\n",
       "</table>\n",
       "</div>"
      ],
      "text/plain": [
       "               customer customer_age_group gender          enr_channel  \\\n",
       "0  46501ab5e1d554f1a40c      [51 and more]      M           Mobile App   \n",
       "1  fe4b24b8d77d1ac3990f          [31 - 35]      M                  SMS   \n",
       "2  ed14e760a20f500bbbeb          [21 - 25]      F                  SMS   \n",
       "3  06337c560d6052ab73e4          [31 - 35]      F                  SMS   \n",
       "4  92d6c8144600df232b8e          [31 - 35]      F  Customer Web Portal   \n",
       "\n",
       "    enr_date purchase date            product  other_product  p&g_product  \\\n",
       "0 2019-11-01    2021-12-05  Бумажные салфетки              1            0   \n",
       "1 2019-11-07    2021-11-29      Мыло кусковое              5            0   \n",
       "2 2019-12-14    2021-01-26  Упаковка подарков              1            0   \n",
       "3 2020-06-16    2021-12-02      Соли для душа              1            0   \n",
       "4 2020-05-24    2021-03-03     Маски для лица              1            0   \n",
       "\n",
       "   cost_product  cost_p&g  product_segment  p&g_segment  \n",
       "0      0.719656       NaN                2          NaN  \n",
       "1     -0.612290       NaN                3          NaN  \n",
       "2      0.034713       NaN                3          NaN  \n",
       "3     -0.468906       NaN                3          NaN  \n",
       "4      4.273955       NaN                3          NaN  "
      ]
     },
     "metadata": {},
     "output_type": "display_data"
    }
   ],
   "source": [
    "display(data.head(5))"
   ]
  },
  {
   "cell_type": "code",
   "execution_count": 43,
   "id": "c5d632cf",
   "metadata": {},
   "outputs": [
    {
     "data": {
      "text/plain": [
       "[51 and more]    2966247\n",
       "[31 - 35]        2174658\n",
       "[36 - 40]        2135196\n",
       "[41 - 45]        1655399\n",
       "[26 - 30]        1524191\n",
       "[21 - 25]        1285748\n",
       "[46 - 50]        1179419\n",
       "[18 - 20]         211931\n",
       "Name: customer_age_group, dtype: int64"
      ]
     },
     "execution_count": 43,
     "metadata": {},
     "output_type": "execute_result"
    }
   ],
   "source": [
    "# чеки в разных возрастных группах \n",
    "data['customer_age_group'].value_counts().sort_values(ascending = False)"
   ]
  },
  {
   "cell_type": "code",
   "execution_count": 44,
   "id": "1e564e8e",
   "metadata": {},
   "outputs": [
    {
     "data": {
      "text/plain": [
       "F    9327130\n",
       "M    2713993\n",
       "U    1091666\n",
       "Name: gender, dtype: int64"
      ]
     },
     "execution_count": 44,
     "metadata": {},
     "output_type": "execute_result"
    }
   ],
   "source": [
    "# покупки людей разного гендера\n",
    "data['gender'].value_counts().sort_values(ascending = False)"
   ]
  },
  {
   "cell_type": "code",
   "execution_count": 45,
   "id": "5d151a63",
   "metadata": {},
   "outputs": [
    {
     "data": {
      "text/plain": [
       "SMS                    7092865\n",
       "Mobile App             4233289\n",
       "Customer Web Portal    1170406\n",
       "Back Office             473868\n",
       "Koshelok                 88103\n",
       "Batch File               74258\n",
       "Name: enr_channel, dtype: int64"
      ]
     },
     "execution_count": 45,
     "metadata": {},
     "output_type": "execute_result"
    }
   ],
   "source": [
    "# способ регистрации в системе \"Магнит-косметик\" \n",
    "data['enr_channel'].value_counts().sort_values(ascending = False)"
   ]
  },
  {
   "cell_type": "code",
   "execution_count": 46,
   "id": "8e095da2",
   "metadata": {},
   "outputs": [
    {
     "data": {
      "text/plain": [
       "Туалетная бумага                           599948\n",
       "Хозяйственные товары для уборки            452007\n",
       "Пасты зубные                               392917\n",
       "Влажные корма для кошек и котят            348507\n",
       "Шампуни                                    328159\n",
       "Чулочно-носочные изделия                   309642\n",
       "Краска для волос                           309139\n",
       "Ватная продукция                           302008\n",
       "Влажные салфетки                           295728\n",
       "Дезодоранты женские                        294830\n",
       "Чистящие средства                          287994\n",
       "Мыло жидкое                                253888\n",
       "Мыло кусковое                              236161\n",
       "Сухие корма для кошек и котят              219503\n",
       "Женские гели                               216727\n",
       "Бумажные салфетки                          205546\n",
       "Ополаскиватели для белья                   203557\n",
       "Для глаз                                   196122\n",
       "Прокладки                                  189656\n",
       "Для губ                                    187241\n",
       "Маски для лица                             177593\n",
       "Дезинфицирующие средства для сантехники    174924\n",
       "Блоки для унитаза                          169577\n",
       "Очищение                                   168109\n",
       "Средства для ручного мытья посуды          167556\n",
       "Для ногтей                                 162213\n",
       "Кремы                                      154754\n",
       "Бальзамы и кондиционеры                    150913\n",
       "Прокладки ежедневные                       143884\n",
       "Средства для укладки и стайлинга волос     134712\n",
       "Name: product, dtype: int64"
      ]
     },
     "execution_count": 46,
     "metadata": {},
     "output_type": "execute_result"
    }
   ],
   "source": [
    "# топ-30 самых покупаемых товаров в чеках\n",
    "data['product'].value_counts().sort_values(ascending = False).head(30) "
   ]
  },
  {
   "cell_type": "markdown",
   "id": "7ac22c8b",
   "metadata": {},
   "source": [
    "<div class=\"alert alert-block alert-warning\">\n",
    "<b> Обнаружены противоречия в данных. Требуется консультация с инженером данных. </b>\n",
    "(Информация, размышления, комментарии представлены ниже)\n",
    "</div>"
   ]
  },
  {
   "cell_type": "markdown",
   "id": "74261473",
   "metadata": {},
   "source": [
    "Если человек купил в один день три товара P&G, будет ли это отражено в данных как три разных строки, либо это будет отражено как одна строка - один чек? Проверим.   "
   ]
  },
  {
   "cell_type": "code",
   "execution_count": 47,
   "id": "e9d5e312",
   "metadata": {
    "scrolled": true
   },
   "outputs": [
    {
     "data": {
      "text/html": [
       "<div>\n",
       "<style scoped>\n",
       "    .dataframe tbody tr th:only-of-type {\n",
       "        vertical-align: middle;\n",
       "    }\n",
       "\n",
       "    .dataframe tbody tr th {\n",
       "        vertical-align: top;\n",
       "    }\n",
       "\n",
       "    .dataframe thead th {\n",
       "        text-align: right;\n",
       "    }\n",
       "</style>\n",
       "<table border=\"1\" class=\"dataframe\">\n",
       "  <thead>\n",
       "    <tr style=\"text-align: right;\">\n",
       "      <th></th>\n",
       "      <th>customer</th>\n",
       "      <th>customer_age_group</th>\n",
       "      <th>gender</th>\n",
       "      <th>enr_channel</th>\n",
       "      <th>enr_date</th>\n",
       "      <th>purchase date</th>\n",
       "      <th>product</th>\n",
       "      <th>other_product</th>\n",
       "      <th>p&amp;g_product</th>\n",
       "      <th>cost_product</th>\n",
       "      <th>cost_p&amp;g</th>\n",
       "      <th>product_segment</th>\n",
       "      <th>p&amp;g_segment</th>\n",
       "    </tr>\n",
       "  </thead>\n",
       "  <tbody>\n",
       "    <tr>\n",
       "      <th>38834</th>\n",
       "      <td>e2a09da6b7ecd1bef2c1</td>\n",
       "      <td>[21 - 25]</td>\n",
       "      <td>U</td>\n",
       "      <td>Mobile App</td>\n",
       "      <td>2020-07-29</td>\n",
       "      <td>2021-05-22</td>\n",
       "      <td>Подгузники</td>\n",
       "      <td>1</td>\n",
       "      <td>4</td>\n",
       "      <td>1.009199</td>\n",
       "      <td>4.286732</td>\n",
       "      <td>3</td>\n",
       "      <td>3.0</td>\n",
       "    </tr>\n",
       "  </tbody>\n",
       "</table>\n",
       "</div>"
      ],
      "text/plain": [
       "                   customer customer_age_group gender enr_channel   enr_date  \\\n",
       "38834  e2a09da6b7ecd1bef2c1          [21 - 25]      U  Mobile App 2020-07-29   \n",
       "\n",
       "      purchase date     product  other_product  p&g_product  cost_product  \\\n",
       "38834    2021-05-22  Подгузники              1            4      1.009199   \n",
       "\n",
       "       cost_p&g  product_segment  p&g_segment  \n",
       "38834  4.286732                3          3.0  "
      ]
     },
     "execution_count": 47,
     "metadata": {},
     "output_type": "execute_result"
    }
   ],
   "source": [
    "# выведем информацию о покупателе, у которого информация в столбце p&g_product - 4 продукта: \n",
    "data[data[\"p&g_product\"] == 4 ].head(1) "
   ]
  },
  {
   "cell_type": "code",
   "execution_count": 48,
   "id": "b69fefff",
   "metadata": {
    "scrolled": true
   },
   "outputs": [
    {
     "data": {
      "text/html": [
       "<div>\n",
       "<style scoped>\n",
       "    .dataframe tbody tr th:only-of-type {\n",
       "        vertical-align: middle;\n",
       "    }\n",
       "\n",
       "    .dataframe tbody tr th {\n",
       "        vertical-align: top;\n",
       "    }\n",
       "\n",
       "    .dataframe thead th {\n",
       "        text-align: right;\n",
       "    }\n",
       "</style>\n",
       "<table border=\"1\" class=\"dataframe\">\n",
       "  <thead>\n",
       "    <tr style=\"text-align: right;\">\n",
       "      <th></th>\n",
       "      <th>customer</th>\n",
       "      <th>customer_age_group</th>\n",
       "      <th>gender</th>\n",
       "      <th>enr_channel</th>\n",
       "      <th>enr_date</th>\n",
       "      <th>purchase date</th>\n",
       "      <th>product</th>\n",
       "      <th>other_product</th>\n",
       "      <th>p&amp;g_product</th>\n",
       "      <th>cost_product</th>\n",
       "      <th>cost_p&amp;g</th>\n",
       "      <th>product_segment</th>\n",
       "      <th>p&amp;g_segment</th>\n",
       "    </tr>\n",
       "  </thead>\n",
       "  <tbody>\n",
       "    <tr>\n",
       "      <th>38834</th>\n",
       "      <td>e2a09da6b7ecd1bef2c1</td>\n",
       "      <td>[21 - 25]</td>\n",
       "      <td>U</td>\n",
       "      <td>Mobile App</td>\n",
       "      <td>2020-07-29</td>\n",
       "      <td>2021-05-22</td>\n",
       "      <td>Подгузники</td>\n",
       "      <td>1</td>\n",
       "      <td>4</td>\n",
       "      <td>1.009199</td>\n",
       "      <td>4.286732</td>\n",
       "      <td>3</td>\n",
       "      <td>3.0</td>\n",
       "    </tr>\n",
       "    <tr>\n",
       "      <th>344635</th>\n",
       "      <td>e2a09da6b7ecd1bef2c1</td>\n",
       "      <td>[21 - 25]</td>\n",
       "      <td>U</td>\n",
       "      <td>Mobile App</td>\n",
       "      <td>2020-07-29</td>\n",
       "      <td>2021-05-22</td>\n",
       "      <td>Покрывала</td>\n",
       "      <td>1</td>\n",
       "      <td>0</td>\n",
       "      <td>-0.086752</td>\n",
       "      <td>NaN</td>\n",
       "      <td>4</td>\n",
       "      <td>NaN</td>\n",
       "    </tr>\n",
       "    <tr>\n",
       "      <th>893804</th>\n",
       "      <td>e2a09da6b7ecd1bef2c1</td>\n",
       "      <td>[21 - 25]</td>\n",
       "      <td>U</td>\n",
       "      <td>Mobile App</td>\n",
       "      <td>2020-07-29</td>\n",
       "      <td>2021-05-22</td>\n",
       "      <td>Зубные щетки и насадки</td>\n",
       "      <td>1</td>\n",
       "      <td>1</td>\n",
       "      <td>-0.906314</td>\n",
       "      <td>-0.395008</td>\n",
       "      <td>3</td>\n",
       "      <td>3.0</td>\n",
       "    </tr>\n",
       "    <tr>\n",
       "      <th>1645132</th>\n",
       "      <td>e2a09da6b7ecd1bef2c1</td>\n",
       "      <td>[21 - 25]</td>\n",
       "      <td>U</td>\n",
       "      <td>Mobile App</td>\n",
       "      <td>2020-07-29</td>\n",
       "      <td>2021-05-22</td>\n",
       "      <td>Наполнители</td>\n",
       "      <td>1</td>\n",
       "      <td>0</td>\n",
       "      <td>3.190346</td>\n",
       "      <td>NaN</td>\n",
       "      <td>3</td>\n",
       "      <td>NaN</td>\n",
       "    </tr>\n",
       "    <tr>\n",
       "      <th>3258819</th>\n",
       "      <td>e2a09da6b7ecd1bef2c1</td>\n",
       "      <td>[21 - 25]</td>\n",
       "      <td>U</td>\n",
       "      <td>Mobile App</td>\n",
       "      <td>2020-07-29</td>\n",
       "      <td>2021-05-22</td>\n",
       "      <td>Хозяйственные товары для уборки</td>\n",
       "      <td>1</td>\n",
       "      <td>0</td>\n",
       "      <td>-0.735308</td>\n",
       "      <td>NaN</td>\n",
       "      <td>4</td>\n",
       "      <td>NaN</td>\n",
       "    </tr>\n",
       "    <tr>\n",
       "      <th>3389429</th>\n",
       "      <td>e2a09da6b7ecd1bef2c1</td>\n",
       "      <td>[21 - 25]</td>\n",
       "      <td>U</td>\n",
       "      <td>Mobile App</td>\n",
       "      <td>2020-07-29</td>\n",
       "      <td>2021-05-22</td>\n",
       "      <td>Упаковка для выпечки и хранения продуктов</td>\n",
       "      <td>2</td>\n",
       "      <td>0</td>\n",
       "      <td>-0.188076</td>\n",
       "      <td>NaN</td>\n",
       "      <td>4</td>\n",
       "      <td>NaN</td>\n",
       "    </tr>\n",
       "    <tr>\n",
       "      <th>6202893</th>\n",
       "      <td>e2a09da6b7ecd1bef2c1</td>\n",
       "      <td>[21 - 25]</td>\n",
       "      <td>U</td>\n",
       "      <td>Mobile App</td>\n",
       "      <td>2020-07-29</td>\n",
       "      <td>2021-05-22</td>\n",
       "      <td>Товары для ванной</td>\n",
       "      <td>1</td>\n",
       "      <td>0</td>\n",
       "      <td>-0.091050</td>\n",
       "      <td>NaN</td>\n",
       "      <td>4</td>\n",
       "      <td>NaN</td>\n",
       "    </tr>\n",
       "    <tr>\n",
       "      <th>6638268</th>\n",
       "      <td>e2a09da6b7ecd1bef2c1</td>\n",
       "      <td>[21 - 25]</td>\n",
       "      <td>U</td>\n",
       "      <td>Mobile App</td>\n",
       "      <td>2020-07-29</td>\n",
       "      <td>2021-05-22</td>\n",
       "      <td>Товары для чистки/уборки</td>\n",
       "      <td>1</td>\n",
       "      <td>0</td>\n",
       "      <td>-0.748478</td>\n",
       "      <td>NaN</td>\n",
       "      <td>4</td>\n",
       "      <td>NaN</td>\n",
       "    </tr>\n",
       "    <tr>\n",
       "      <th>7057012</th>\n",
       "      <td>e2a09da6b7ecd1bef2c1</td>\n",
       "      <td>[21 - 25]</td>\n",
       "      <td>U</td>\n",
       "      <td>Mobile App</td>\n",
       "      <td>2020-07-29</td>\n",
       "      <td>2021-05-22</td>\n",
       "      <td>Влажные салфетки</td>\n",
       "      <td>1</td>\n",
       "      <td>0</td>\n",
       "      <td>-0.647407</td>\n",
       "      <td>NaN</td>\n",
       "      <td>2</td>\n",
       "      <td>NaN</td>\n",
       "    </tr>\n",
       "    <tr>\n",
       "      <th>10755145</th>\n",
       "      <td>e2a09da6b7ecd1bef2c1</td>\n",
       "      <td>[21 - 25]</td>\n",
       "      <td>U</td>\n",
       "      <td>Mobile App</td>\n",
       "      <td>2020-07-29</td>\n",
       "      <td>2021-05-22</td>\n",
       "      <td>Скрабы и пилинги</td>\n",
       "      <td>1</td>\n",
       "      <td>0</td>\n",
       "      <td>0.151023</td>\n",
       "      <td>NaN</td>\n",
       "      <td>3</td>\n",
       "      <td>NaN</td>\n",
       "    </tr>\n",
       "    <tr>\n",
       "      <th>11910251</th>\n",
       "      <td>e2a09da6b7ecd1bef2c1</td>\n",
       "      <td>[21 - 25]</td>\n",
       "      <td>U</td>\n",
       "      <td>Mobile App</td>\n",
       "      <td>2020-07-29</td>\n",
       "      <td>2021-05-22</td>\n",
       "      <td>Носовые бумажные платки</td>\n",
       "      <td>1</td>\n",
       "      <td>0</td>\n",
       "      <td>0.605364</td>\n",
       "      <td>NaN</td>\n",
       "      <td>2</td>\n",
       "      <td>NaN</td>\n",
       "    </tr>\n",
       "    <tr>\n",
       "      <th>12474053</th>\n",
       "      <td>e2a09da6b7ecd1bef2c1</td>\n",
       "      <td>[21 - 25]</td>\n",
       "      <td>U</td>\n",
       "      <td>Mobile App</td>\n",
       "      <td>2020-07-29</td>\n",
       "      <td>2021-05-22</td>\n",
       "      <td>Средства для загара</td>\n",
       "      <td>1</td>\n",
       "      <td>0</td>\n",
       "      <td>-0.549098</td>\n",
       "      <td>NaN</td>\n",
       "      <td>3</td>\n",
       "      <td>NaN</td>\n",
       "    </tr>\n",
       "    <tr>\n",
       "      <th>12592577</th>\n",
       "      <td>e2a09da6b7ecd1bef2c1</td>\n",
       "      <td>[21 - 25]</td>\n",
       "      <td>U</td>\n",
       "      <td>Mobile App</td>\n",
       "      <td>2020-07-29</td>\n",
       "      <td>2021-05-22</td>\n",
       "      <td>Свечи, подсвечники</td>\n",
       "      <td>1</td>\n",
       "      <td>0</td>\n",
       "      <td>2.705685</td>\n",
       "      <td>NaN</td>\n",
       "      <td>3</td>\n",
       "      <td>NaN</td>\n",
       "    </tr>\n",
       "  </tbody>\n",
       "</table>\n",
       "</div>"
      ],
      "text/plain": [
       "                      customer customer_age_group gender enr_channel  \\\n",
       "38834     e2a09da6b7ecd1bef2c1          [21 - 25]      U  Mobile App   \n",
       "344635    e2a09da6b7ecd1bef2c1          [21 - 25]      U  Mobile App   \n",
       "893804    e2a09da6b7ecd1bef2c1          [21 - 25]      U  Mobile App   \n",
       "1645132   e2a09da6b7ecd1bef2c1          [21 - 25]      U  Mobile App   \n",
       "3258819   e2a09da6b7ecd1bef2c1          [21 - 25]      U  Mobile App   \n",
       "3389429   e2a09da6b7ecd1bef2c1          [21 - 25]      U  Mobile App   \n",
       "6202893   e2a09da6b7ecd1bef2c1          [21 - 25]      U  Mobile App   \n",
       "6638268   e2a09da6b7ecd1bef2c1          [21 - 25]      U  Mobile App   \n",
       "7057012   e2a09da6b7ecd1bef2c1          [21 - 25]      U  Mobile App   \n",
       "10755145  e2a09da6b7ecd1bef2c1          [21 - 25]      U  Mobile App   \n",
       "11910251  e2a09da6b7ecd1bef2c1          [21 - 25]      U  Mobile App   \n",
       "12474053  e2a09da6b7ecd1bef2c1          [21 - 25]      U  Mobile App   \n",
       "12592577  e2a09da6b7ecd1bef2c1          [21 - 25]      U  Mobile App   \n",
       "\n",
       "           enr_date purchase date                                    product  \\\n",
       "38834    2020-07-29    2021-05-22                                 Подгузники   \n",
       "344635   2020-07-29    2021-05-22                                  Покрывала   \n",
       "893804   2020-07-29    2021-05-22                     Зубные щетки и насадки   \n",
       "1645132  2020-07-29    2021-05-22                                Наполнители   \n",
       "3258819  2020-07-29    2021-05-22            Хозяйственные товары для уборки   \n",
       "3389429  2020-07-29    2021-05-22  Упаковка для выпечки и хранения продуктов   \n",
       "6202893  2020-07-29    2021-05-22                          Товары для ванной   \n",
       "6638268  2020-07-29    2021-05-22                   Товары для чистки/уборки   \n",
       "7057012  2020-07-29    2021-05-22                           Влажные салфетки   \n",
       "10755145 2020-07-29    2021-05-22                           Скрабы и пилинги   \n",
       "11910251 2020-07-29    2021-05-22                    Носовые бумажные платки   \n",
       "12474053 2020-07-29    2021-05-22                        Средства для загара   \n",
       "12592577 2020-07-29    2021-05-22                         Свечи, подсвечники   \n",
       "\n",
       "          other_product  p&g_product  cost_product  cost_p&g  product_segment  \\\n",
       "38834                 1            4      1.009199  4.286732                3   \n",
       "344635                1            0     -0.086752       NaN                4   \n",
       "893804                1            1     -0.906314 -0.395008                3   \n",
       "1645132               1            0      3.190346       NaN                3   \n",
       "3258819               1            0     -0.735308       NaN                4   \n",
       "3389429               2            0     -0.188076       NaN                4   \n",
       "6202893               1            0     -0.091050       NaN                4   \n",
       "6638268               1            0     -0.748478       NaN                4   \n",
       "7057012               1            0     -0.647407       NaN                2   \n",
       "10755145              1            0      0.151023       NaN                3   \n",
       "11910251              1            0      0.605364       NaN                2   \n",
       "12474053              1            0     -0.549098       NaN                3   \n",
       "12592577              1            0      2.705685       NaN                3   \n",
       "\n",
       "          p&g_segment  \n",
       "38834             3.0  \n",
       "344635            NaN  \n",
       "893804            3.0  \n",
       "1645132           NaN  \n",
       "3258819           NaN  \n",
       "3389429           NaN  \n",
       "6202893           NaN  \n",
       "6638268           NaN  \n",
       "7057012           NaN  \n",
       "10755145          NaN  \n",
       "11910251          NaN  \n",
       "12474053          NaN  \n",
       "12592577          NaN  "
      ]
     },
     "execution_count": 48,
     "metadata": {},
     "output_type": "execute_result"
    }
   ],
   "source": [
    "# теперь изучим, сколько этот человек купил товаров в один день, сколько строк к нему относится:   \n",
    "data[(data[\"customer\"] == \"e2a09da6b7ecd1bef2c1\" ) & (data[\"purchase date\"] == \"2021-05-22\")]"
   ]
  },
  {
   "cell_type": "markdown",
   "id": "34505044",
   "metadata": {},
   "source": [
    "Мы видим, что здесь подозрительно много \"чеков\" (если мы считаем 1 строка = один чек) на одного человека в один день, а также число 4 в столбце не соответвует количеству купленных P&G товаров в этот день (если мы считаем, что представленные строки относятся только к одному чеку). Так что из себя представляет каждая строка? Один отдельный чек? Или отдельный P&G товар из чека? Возможно, мы сможем ответить на вопрос, посчитав, сколько в наших данных приходится чеков на одного покупателя в один день.  "
   ]
  },
  {
   "cell_type": "code",
   "execution_count": 49,
   "id": "1d27c58d",
   "metadata": {},
   "outputs": [],
   "source": [
    "# создадим строку с индексами чеков\n",
    "data['index_bill'] = data.index\n",
    "cols = data.columns.tolist()\n",
    "cols = cols[-1:] + cols[:-1]\n",
    "data = data[cols]\n",
    "groupedpс = data.groupby(['purchase date', 'customer']).agg({\"index_bill\":'count'}).reset_index()"
   ]
  },
  {
   "cell_type": "code",
   "execution_count": 50,
   "id": "81d0f073",
   "metadata": {},
   "outputs": [
    {
     "data": {
      "text/plain": [
       "1     1378804\n",
       "2     1065101\n",
       "3      705240\n",
       "4      448301\n",
       "5      282066\n",
       "6      179306\n",
       "7      116448\n",
       "8       76558\n",
       "9       51535\n",
       "10      34837\n",
       "Name: index_bill, dtype: int64"
      ]
     },
     "execution_count": 50,
     "metadata": {},
     "output_type": "execute_result"
    }
   ],
   "source": [
    "# количество чеков на одного человека в один день\n",
    "groupedpс['index_bill'].value_counts().head(10)"
   ]
  },
  {
   "cell_type": "code",
   "execution_count": 51,
   "id": "4a212d16",
   "metadata": {},
   "outputs": [
    {
     "data": {
      "text/plain": [
       "0.01     1.0\n",
       "0.25     1.0\n",
       "0.50     2.0\n",
       "0.75     4.0\n",
       "0.95     8.0\n",
       "0.99    12.0\n",
       "Name: index_bill, dtype: float64"
      ]
     },
     "execution_count": 51,
     "metadata": {},
     "output_type": "execute_result"
    }
   ],
   "source": [
    "# посчитаем процентное соотношение чеков: \n",
    "groupedpс['index_bill'].quantile([0.01, 0.25, 0.5, 0.75, 0.95, 0.99])"
   ]
  },
  {
   "cell_type": "markdown",
   "id": "f7acfcea",
   "metadata": {},
   "source": [
    "У 50 процентов наших данных: это больше чем два строки на одного человека в один день. (следовательно, два чека в один день у 50% покупателей, если мы считаем, что чек - это одна строка). Тогда у 25% покупателей в один день 4 чека (если чек - это одна строка). Конечно, можно сказать, что один и тот же покупатель несколько раз в день заходит в магазин и покупает товары, но тогда получится, что у нас 25% покупателей заходят в магазин по 4 раза в день(хоть и не каждый день). Логичным кажется предположить, что данные, представленные нам - это не каждый отдельный чек, а данные по каждому отдельному товару P&G. И несколько строк в данных могут принадлежать к одному чеку. Однако тогда возникает другая проблема. Если мы сгруппировали данные по покупателю и дате (как если бы это был один чек) - (один покупатель - в один день совершает одну покупку - должен быть один чек в строке), то мы ожидаем увидеть, что количество \"other_product\" и \"p&g_product\" будет одинаковым для каждой строки, однако в данных это не так. Демонстрация ниже:"
   ]
  },
  {
   "cell_type": "code",
   "execution_count": 52,
   "id": "bd6c3b23",
   "metadata": {
    "scrolled": true
   },
   "outputs": [],
   "source": [
    "# начнем с удаления столбца index_bill, так как он не отражает действительно уникальные чеки  \n",
    "data = data.drop('index_bill', 1)"
   ]
  },
  {
   "cell_type": "code",
   "execution_count": 53,
   "id": "782d6146",
   "metadata": {},
   "outputs": [],
   "source": [
    "# сcheck = data.groupby(['purchase date', 'customer'])\n",
    "# требуется слишком много памяти, чтобы открыть таблицу (и полностью посмотреть информацию)\n",
    "# сcheck.apply(display).head(30)"
   ]
  },
  {
   "cell_type": "markdown",
   "id": "c05d78df",
   "metadata": {},
   "source": [
    "Так, например, у нас есть покупательница \"00187df32ea47dc11b19\", которая 1 января купила: прокладки, набор подарочный косметический женский, интерьерные украшения и маски для лица. При этом у нее количество P&G продуктов остается 0 (хотя мы уже выяснили, что в \"product\" отражаются - P&G продукты). Либо покупательница 4 раза зашла в магазин и купила разные товары, либо если все это была одна покупка, значит, у нее должно было в P&G отражаться 3 товара. И количество товаров в чеке other_product - должно быть одинаковым. Что не так в нашем датасете.  "
   ]
  },
  {
   "cell_type": "code",
   "execution_count": 54,
   "id": "a93abee5",
   "metadata": {},
   "outputs": [
    {
     "data": {
      "text/html": [
       "<div>\n",
       "<style scoped>\n",
       "    .dataframe tbody tr th:only-of-type {\n",
       "        vertical-align: middle;\n",
       "    }\n",
       "\n",
       "    .dataframe tbody tr th {\n",
       "        vertical-align: top;\n",
       "    }\n",
       "\n",
       "    .dataframe thead th {\n",
       "        text-align: right;\n",
       "    }\n",
       "</style>\n",
       "<table border=\"1\" class=\"dataframe\">\n",
       "  <thead>\n",
       "    <tr style=\"text-align: right;\">\n",
       "      <th></th>\n",
       "      <th>customer</th>\n",
       "      <th>customer_age_group</th>\n",
       "      <th>gender</th>\n",
       "      <th>enr_channel</th>\n",
       "      <th>enr_date</th>\n",
       "      <th>purchase date</th>\n",
       "      <th>product</th>\n",
       "      <th>other_product</th>\n",
       "      <th>p&amp;g_product</th>\n",
       "      <th>cost_product</th>\n",
       "      <th>cost_p&amp;g</th>\n",
       "      <th>product_segment</th>\n",
       "      <th>p&amp;g_segment</th>\n",
       "    </tr>\n",
       "  </thead>\n",
       "  <tbody>\n",
       "    <tr>\n",
       "      <th>820729</th>\n",
       "      <td>00187df32ea47dc11b19</td>\n",
       "      <td>[41 - 45]</td>\n",
       "      <td>F</td>\n",
       "      <td>SMS</td>\n",
       "      <td>2019-11-09</td>\n",
       "      <td>2021-01-01</td>\n",
       "      <td>Прокладки</td>\n",
       "      <td>1</td>\n",
       "      <td>0</td>\n",
       "      <td>-1.053834</td>\n",
       "      <td>NaN</td>\n",
       "      <td>2</td>\n",
       "      <td>NaN</td>\n",
       "    </tr>\n",
       "    <tr>\n",
       "      <th>923113</th>\n",
       "      <td>00187df32ea47dc11b19</td>\n",
       "      <td>[41 - 45]</td>\n",
       "      <td>F</td>\n",
       "      <td>SMS</td>\n",
       "      <td>2019-11-09</td>\n",
       "      <td>2021-01-01</td>\n",
       "      <td>Наборы подарочные косметические женские</td>\n",
       "      <td>2</td>\n",
       "      <td>0</td>\n",
       "      <td>-0.213984</td>\n",
       "      <td>NaN</td>\n",
       "      <td>2</td>\n",
       "      <td>NaN</td>\n",
       "    </tr>\n",
       "    <tr>\n",
       "      <th>2665363</th>\n",
       "      <td>00187df32ea47dc11b19</td>\n",
       "      <td>[41 - 45]</td>\n",
       "      <td>F</td>\n",
       "      <td>SMS</td>\n",
       "      <td>2019-11-09</td>\n",
       "      <td>2021-01-01</td>\n",
       "      <td>Маски для лица</td>\n",
       "      <td>2</td>\n",
       "      <td>0</td>\n",
       "      <td>-0.751108</td>\n",
       "      <td>NaN</td>\n",
       "      <td>3</td>\n",
       "      <td>NaN</td>\n",
       "    </tr>\n",
       "    <tr>\n",
       "      <th>2716153</th>\n",
       "      <td>00187df32ea47dc11b19</td>\n",
       "      <td>[41 - 45]</td>\n",
       "      <td>F</td>\n",
       "      <td>SMS</td>\n",
       "      <td>2019-11-09</td>\n",
       "      <td>2021-01-01</td>\n",
       "      <td>Интерьерные украшения</td>\n",
       "      <td>1</td>\n",
       "      <td>0</td>\n",
       "      <td>-0.877924</td>\n",
       "      <td>NaN</td>\n",
       "      <td>4</td>\n",
       "      <td>NaN</td>\n",
       "    </tr>\n",
       "  </tbody>\n",
       "</table>\n",
       "</div>"
      ],
      "text/plain": [
       "                     customer customer_age_group gender enr_channel  \\\n",
       "820729   00187df32ea47dc11b19          [41 - 45]      F         SMS   \n",
       "923113   00187df32ea47dc11b19          [41 - 45]      F         SMS   \n",
       "2665363  00187df32ea47dc11b19          [41 - 45]      F         SMS   \n",
       "2716153  00187df32ea47dc11b19          [41 - 45]      F         SMS   \n",
       "\n",
       "          enr_date purchase date                                  product  \\\n",
       "820729  2019-11-09    2021-01-01                                Прокладки   \n",
       "923113  2019-11-09    2021-01-01  Наборы подарочные косметические женские   \n",
       "2665363 2019-11-09    2021-01-01                           Маски для лица   \n",
       "2716153 2019-11-09    2021-01-01                    Интерьерные украшения   \n",
       "\n",
       "         other_product  p&g_product  cost_product  cost_p&g  product_segment  \\\n",
       "820729               1            0     -1.053834       NaN                2   \n",
       "923113               2            0     -0.213984       NaN                2   \n",
       "2665363              2            0     -0.751108       NaN                3   \n",
       "2716153              1            0     -0.877924       NaN                4   \n",
       "\n",
       "         p&g_segment  \n",
       "820729           NaN  \n",
       "923113           NaN  \n",
       "2665363          NaN  \n",
       "2716153          NaN  "
      ]
     },
     "execution_count": 54,
     "metadata": {},
     "output_type": "execute_result"
    }
   ],
   "source": [
    "data[(data['customer'] == \"00187df32ea47dc11b19\") & (data['purchase date'] == \"2021-01-01\")]"
   ]
  },
  {
   "cell_type": "markdown",
   "id": "550b50e9",
   "metadata": {},
   "source": [
    "Что нам делать с разнородными противоречивыми данными? Для учебных целей мы предположим, что самое большое количество других продуктов(\"other_product\"), указанное в одном чеке одного человека, - это и есть количество не-P&G продуктов в чеке этого человека. В то время как столбц \"p&g_product\" и \"p&g_segment\" вообще не дает нам информации о купленных товарах, если мы уже сгруппировали чеки, и видим купленные P&G товары в столбце \"product\".  "
   ]
  },
  {
   "cell_type": "code",
   "execution_count": 55,
   "id": "fdc24445",
   "metadata": {},
   "outputs": [],
   "source": [
    "# создадим таблицу с уникальными чеками, в которых покупатель покупает несколько продуктов\n",
    "check = data.groupby(['purchase date', 'customer']).agg({\"product\":'count', 'other_product':'max', 'p&g_product':'max'}).reset_index()"
   ]
  },
  {
   "cell_type": "markdown",
   "id": "645ac128",
   "metadata": {},
   "source": [
    "# 3. Анализ данных"
   ]
  },
  {
   "cell_type": "markdown",
   "id": "f9589099",
   "metadata": {},
   "source": [
    "Рассмотрим, как часто покупают продукты P&G и не-P&G с помощью графиков боксплот"
   ]
  },
  {
   "cell_type": "code",
   "execution_count": 56,
   "id": "1a6df0c3",
   "metadata": {},
   "outputs": [
    {
     "data": {
      "text/plain": [
       "(0.0, 10.0)"
      ]
     },
     "execution_count": 56,
     "metadata": {},
     "output_type": "execute_result"
    },
    {
     "data": {
      "image/png": "[encoded data removed]",
      "text/plain": [
       "<Figure size 432x288 with 1 Axes>"
      ]
     },
     "metadata": {
      "needs_background": "light"
     },
     "output_type": "display_data"
    }
   ],
   "source": [
    "# график боксплот по общему числу продуктов p&g\n",
    "sns.set_palette('pastel') \n",
    "sns.boxplot(y=check[\"product\"])\n",
    "plt.ylim(0, 10) "
   ]
  },
  {
   "cell_type": "code",
   "execution_count": 57,
   "id": "d3a246bb",
   "metadata": {},
   "outputs": [
    {
     "data": {
      "text/plain": [
       "(0.0, 16.0)"
      ]
     },
     "execution_count": 57,
     "metadata": {},
     "output_type": "execute_result"
    },
    {
     "data": {
      "image/png": "[encoded data removed]",
      "text/plain": [
       "<Figure size 432x288 with 1 Axes>"
      ]
     },
     "metadata": {
      "needs_background": "light"
     },
     "output_type": "display_data"
    }
   ],
   "source": [
    "#график боксплот по общему числу продуктов не - p&g в чеках\n",
    "sns.boxplot(y=check[\"other_product\"])\n",
    "plt.ylim(0, 16)"
   ]
  },
  {
   "cell_type": "code",
   "execution_count": 58,
   "id": "c5517248",
   "metadata": {
    "scrolled": true
   },
   "outputs": [
    {
     "data": {
      "text/plain": [
       "0.01     1.0\n",
       "0.25     1.0\n",
       "0.50     2.0\n",
       "0.75     4.0\n",
       "0.95     8.0\n",
       "0.99    12.0\n",
       "Name: product, dtype: float64"
      ]
     },
     "execution_count": 58,
     "metadata": {},
     "output_type": "execute_result"
    }
   ],
   "source": [
    "check['product'].quantile([0.01, 0.25, 0.5, 0.75, 0.95, 0.99])"
   ]
  },
  {
   "cell_type": "markdown",
   "id": "17481b9c",
   "metadata": {},
   "source": [
    "Меньше 5% товаров в чеках содержат больше 8 товаров P&G. Удалим эти выбросы. "
   ]
  },
  {
   "cell_type": "code",
   "execution_count": 59,
   "id": "e363e2c0",
   "metadata": {},
   "outputs": [
    {
     "data": {
      "text/plain": [
       "0.01    1.0\n",
       "0.25    1.0\n",
       "0.50    1.0\n",
       "0.75    2.0\n",
       "0.95    3.0\n",
       "0.99    5.0\n",
       "Name: other_product, dtype: float64"
      ]
     },
     "execution_count": 59,
     "metadata": {},
     "output_type": "execute_result"
    }
   ],
   "source": [
    "check['other_product'].quantile([0.01, 0.25, 0.5, 0.75, 0.95, 0.99])"
   ]
  },
  {
   "cell_type": "markdown",
   "id": "28b9858f",
   "metadata": {},
   "source": [
    "Меньше 5% товаров в чеках содержат больше 8 товаров P&G. Удалим эти выбросы. "
   ]
  },
  {
   "cell_type": "code",
   "execution_count": 60,
   "id": "3fbfd39c",
   "metadata": {},
   "outputs": [],
   "source": [
    "# избавимся от выбросов\n",
    "check = check[check['other_product'] < 4]\n",
    "check = check[check['product'] < 8]"
   ]
  },
  {
   "cell_type": "code",
   "execution_count": 61,
   "id": "85fc61d5",
   "metadata": {},
   "outputs": [],
   "source": [
    "# создадим общее количество товаров в столбце total \n",
    "check['total'] = check['product'] + check['other_product']"
   ]
  },
  {
   "cell_type": "code",
   "execution_count": 62,
   "id": "39f697cf",
   "metadata": {
    "scrolled": true
   },
   "outputs": [
    {
     "data": {
      "image/png": "[encoded data removed]",
      "text/plain": [
       "<Figure size 432x288 with 1 Axes>"
      ]
     },
     "metadata": {
      "needs_background": "light"
     },
     "output_type": "display_data"
    }
   ],
   "source": [
    "fig = sns.barplot(x = 'product', y = 'other_product', data = check, estimator=np.mean)\n",
    "plt.xlabel(\"Количество продуктов P&G в чеке\")\n",
    "plt.ylabel(\"Среднее кол-во продуктов не-P&G в чеке\")\n",
    "plt.title(\"Соотношение продуктов в чеке (P&G и среднее число товаров не-P&G )\") \n",
    "plt.show(fig)"
   ]
  },
  {
   "cell_type": "code",
   "execution_count": 63,
   "id": "61ab400d",
   "metadata": {
    "scrolled": true
   },
   "outputs": [
    {
     "data": {
      "image/png": "[encoded data removed]",
      "text/plain": [
       "<Figure size 432x288 with 1 Axes>"
      ]
     },
     "metadata": {
      "needs_background": "light"
     },
     "output_type": "display_data"
    }
   ],
   "source": [
    "plt.hist(check['product'], weights=np.ones(len(check['product'])) / len(check['product']), range = (0, 20),bins=[0, 1, 2, 3, 4, 5, 6,7,8,9,10])\n",
    "plt.grid()\n",
    "plt.gca().yaxis.set_major_formatter(PercentFormatter(1))\n",
    "plt.title('Количество товаров P&G в чеках, процентное соотношение чеков') \n",
    "plt.xlabel(\"Количество продуктов P&G в чеке\")\n",
    "plt.ylabel(\"Процент чеков, %\")\n",
    "plt.show()"
   ]
  },
  {
   "cell_type": "markdown",
   "id": "6febac55",
   "metadata": {},
   "source": [
    "Создадим таблицу, в которой представлены не данные по покупкам, а чеки c полной информацией о купленных товарах и информацией о покупателях. "
   ]
  },
  {
   "cell_type": "code",
   "execution_count": 64,
   "id": "fcc5069a",
   "metadata": {},
   "outputs": [],
   "source": [
    "checks = check.merge(right = customers, on='customer', how='left') \n",
    "#checks "
   ]
  },
  {
   "cell_type": "code",
   "execution_count": 65,
   "id": "5e559699",
   "metadata": {},
   "outputs": [
    {
     "data": {
      "text/html": [
       "<div>\n",
       "<style scoped>\n",
       "    .dataframe tbody tr th:only-of-type {\n",
       "        vertical-align: middle;\n",
       "    }\n",
       "\n",
       "    .dataframe tbody tr th {\n",
       "        vertical-align: top;\n",
       "    }\n",
       "\n",
       "    .dataframe thead th {\n",
       "        text-align: right;\n",
       "    }\n",
       "</style>\n",
       "<table border=\"1\" class=\"dataframe\">\n",
       "  <thead>\n",
       "    <tr style=\"text-align: right;\">\n",
       "      <th></th>\n",
       "      <th>purchase date</th>\n",
       "      <th>customer</th>\n",
       "      <th>product</th>\n",
       "      <th>other_product</th>\n",
       "      <th>p&amp;g_product</th>\n",
       "      <th>total</th>\n",
       "      <th>customer_age_group</th>\n",
       "      <th>gender</th>\n",
       "      <th>enr_channel</th>\n",
       "      <th>enr_date</th>\n",
       "    </tr>\n",
       "  </thead>\n",
       "  <tbody>\n",
       "    <tr>\n",
       "      <th>0</th>\n",
       "      <td>2021-01-01</td>\n",
       "      <td>0008953dbc5953295be0</td>\n",
       "      <td>1</td>\n",
       "      <td>1</td>\n",
       "      <td>0</td>\n",
       "      <td>2</td>\n",
       "      <td>[26 - 30]</td>\n",
       "      <td>F</td>\n",
       "      <td>SMS</td>\n",
       "      <td>2020-09-12</td>\n",
       "    </tr>\n",
       "    <tr>\n",
       "      <th>1</th>\n",
       "      <td>2021-01-01</td>\n",
       "      <td>00187df32ea47dc11b19</td>\n",
       "      <td>4</td>\n",
       "      <td>2</td>\n",
       "      <td>0</td>\n",
       "      <td>6</td>\n",
       "      <td>[41 - 45]</td>\n",
       "      <td>F</td>\n",
       "      <td>SMS</td>\n",
       "      <td>2019-11-09</td>\n",
       "    </tr>\n",
       "    <tr>\n",
       "      <th>2</th>\n",
       "      <td>2021-01-01</td>\n",
       "      <td>0046501ed1ef6caca36e</td>\n",
       "      <td>2</td>\n",
       "      <td>1</td>\n",
       "      <td>0</td>\n",
       "      <td>3</td>\n",
       "      <td>[31 - 35]</td>\n",
       "      <td>M</td>\n",
       "      <td>Mobile App</td>\n",
       "      <td>2019-10-25</td>\n",
       "    </tr>\n",
       "    <tr>\n",
       "      <th>3</th>\n",
       "      <td>2021-01-01</td>\n",
       "      <td>006c1fd27cd3eec956d6</td>\n",
       "      <td>2</td>\n",
       "      <td>1</td>\n",
       "      <td>0</td>\n",
       "      <td>3</td>\n",
       "      <td>[46 - 50]</td>\n",
       "      <td>U</td>\n",
       "      <td>Mobile App</td>\n",
       "      <td>2020-03-14</td>\n",
       "    </tr>\n",
       "    <tr>\n",
       "      <th>4</th>\n",
       "      <td>2021-01-01</td>\n",
       "      <td>00a4706b922f66bc2d0b</td>\n",
       "      <td>2</td>\n",
       "      <td>1</td>\n",
       "      <td>0</td>\n",
       "      <td>3</td>\n",
       "      <td>[31 - 35]</td>\n",
       "      <td>M</td>\n",
       "      <td>Mobile App</td>\n",
       "      <td>2019-11-03</td>\n",
       "    </tr>\n",
       "    <tr>\n",
       "      <th>...</th>\n",
       "      <td>...</td>\n",
       "      <td>...</td>\n",
       "      <td>...</td>\n",
       "      <td>...</td>\n",
       "      <td>...</td>\n",
       "      <td>...</td>\n",
       "      <td>...</td>\n",
       "      <td>...</td>\n",
       "      <td>...</td>\n",
       "      <td>...</td>\n",
       "    </tr>\n",
       "    <tr>\n",
       "      <th>4041987</th>\n",
       "      <td>2021-12-31</td>\n",
       "      <td>fff4c6f39c08a9cb5b55</td>\n",
       "      <td>2</td>\n",
       "      <td>2</td>\n",
       "      <td>0</td>\n",
       "      <td>4</td>\n",
       "      <td>[36 - 40]</td>\n",
       "      <td>F</td>\n",
       "      <td>Mobile App</td>\n",
       "      <td>2019-10-28</td>\n",
       "    </tr>\n",
       "    <tr>\n",
       "      <th>4041988</th>\n",
       "      <td>2021-12-31</td>\n",
       "      <td>fff5a4b98e96b4363e5e</td>\n",
       "      <td>1</td>\n",
       "      <td>1</td>\n",
       "      <td>0</td>\n",
       "      <td>2</td>\n",
       "      <td>[26 - 30]</td>\n",
       "      <td>M</td>\n",
       "      <td>Batch File</td>\n",
       "      <td>2020-10-10</td>\n",
       "    </tr>\n",
       "    <tr>\n",
       "      <th>4041989</th>\n",
       "      <td>2021-12-31</td>\n",
       "      <td>fff652b6e52c0778c2de</td>\n",
       "      <td>2</td>\n",
       "      <td>2</td>\n",
       "      <td>1</td>\n",
       "      <td>4</td>\n",
       "      <td>[51 and more]</td>\n",
       "      <td>F</td>\n",
       "      <td>SMS</td>\n",
       "      <td>2019-11-05</td>\n",
       "    </tr>\n",
       "    <tr>\n",
       "      <th>4041990</th>\n",
       "      <td>2021-12-31</td>\n",
       "      <td>fff99802e958caf47ceb</td>\n",
       "      <td>7</td>\n",
       "      <td>1</td>\n",
       "      <td>0</td>\n",
       "      <td>8</td>\n",
       "      <td>[36 - 40]</td>\n",
       "      <td>F</td>\n",
       "      <td>Customer Web Portal</td>\n",
       "      <td>2019-10-31</td>\n",
       "    </tr>\n",
       "    <tr>\n",
       "      <th>4041991</th>\n",
       "      <td>2021-12-31</td>\n",
       "      <td>fffe956d3fce9c2251dd</td>\n",
       "      <td>4</td>\n",
       "      <td>2</td>\n",
       "      <td>0</td>\n",
       "      <td>6</td>\n",
       "      <td>[36 - 40]</td>\n",
       "      <td>F</td>\n",
       "      <td>Back Office</td>\n",
       "      <td>2020-04-11</td>\n",
       "    </tr>\n",
       "  </tbody>\n",
       "</table>\n",
       "<p>4041992 rows × 10 columns</p>\n",
       "</div>"
      ],
      "text/plain": [
       "        purchase date              customer  product  other_product  \\\n",
       "0          2021-01-01  0008953dbc5953295be0        1              1   \n",
       "1          2021-01-01  00187df32ea47dc11b19        4              2   \n",
       "2          2021-01-01  0046501ed1ef6caca36e        2              1   \n",
       "3          2021-01-01  006c1fd27cd3eec956d6        2              1   \n",
       "4          2021-01-01  00a4706b922f66bc2d0b        2              1   \n",
       "...               ...                   ...      ...            ...   \n",
       "4041987    2021-12-31  fff4c6f39c08a9cb5b55        2              2   \n",
       "4041988    2021-12-31  fff5a4b98e96b4363e5e        1              1   \n",
       "4041989    2021-12-31  fff652b6e52c0778c2de        2              2   \n",
       "4041990    2021-12-31  fff99802e958caf47ceb        7              1   \n",
       "4041991    2021-12-31  fffe956d3fce9c2251dd        4              2   \n",
       "\n",
       "         p&g_product  total customer_age_group gender          enr_channel  \\\n",
       "0                  0      2          [26 - 30]      F                  SMS   \n",
       "1                  0      6          [41 - 45]      F                  SMS   \n",
       "2                  0      3          [31 - 35]      M           Mobile App   \n",
       "3                  0      3          [46 - 50]      U           Mobile App   \n",
       "4                  0      3          [31 - 35]      M           Mobile App   \n",
       "...              ...    ...                ...    ...                  ...   \n",
       "4041987            0      4          [36 - 40]      F           Mobile App   \n",
       "4041988            0      2          [26 - 30]      M           Batch File   \n",
       "4041989            1      4      [51 and more]      F                  SMS   \n",
       "4041990            0      8          [36 - 40]      F  Customer Web Portal   \n",
       "4041991            0      6          [36 - 40]      F          Back Office   \n",
       "\n",
       "          enr_date  \n",
       "0       2020-09-12  \n",
       "1       2019-11-09  \n",
       "2       2019-10-25  \n",
       "3       2020-03-14  \n",
       "4       2019-11-03  \n",
       "...            ...  \n",
       "4041987 2019-10-28  \n",
       "4041988 2020-10-10  \n",
       "4041989 2019-11-05  \n",
       "4041990 2019-10-31  \n",
       "4041991 2020-04-11  \n",
       "\n",
       "[4041992 rows x 10 columns]"
      ]
     },
     "execution_count": 65,
     "metadata": {},
     "output_type": "execute_result"
    }
   ],
   "source": [
    "checks"
   ]
  },
  {
   "cell_type": "code",
   "execution_count": 66,
   "id": "2251dd88",
   "metadata": {},
   "outputs": [],
   "source": [
    "# посчитаем число уникальных покупателей продукции P&G по их половозрастному составу. для этого вычленим из нашей таблицы с чекми только уникальных покупателей\n",
    "checksun = pd.DataFrame(check['customer'].unique())\n",
    "checksun.columns = ['customer']\n",
    "checksun = checksun.merge(right = customers, on='customer', how='left') "
   ]
  },
  {
   "cell_type": "code",
   "execution_count": 67,
   "id": "85500621",
   "metadata": {},
   "outputs": [
    {
     "data": {
      "text/html": [
       "<div>\n",
       "<style scoped>\n",
       "    .dataframe tbody tr th:only-of-type {\n",
       "        vertical-align: middle;\n",
       "    }\n",
       "\n",
       "    .dataframe tbody tr th {\n",
       "        vertical-align: top;\n",
       "    }\n",
       "\n",
       "    .dataframe thead th {\n",
       "        text-align: right;\n",
       "    }\n",
       "</style>\n",
       "<table border=\"1\" class=\"dataframe\">\n",
       "  <thead>\n",
       "    <tr style=\"text-align: right;\">\n",
       "      <th>gender</th>\n",
       "      <th>F</th>\n",
       "      <th>M</th>\n",
       "      <th>U</th>\n",
       "      <th>total</th>\n",
       "    </tr>\n",
       "    <tr>\n",
       "      <th>customer_age_group</th>\n",
       "      <th></th>\n",
       "      <th></th>\n",
       "      <th></th>\n",
       "      <th></th>\n",
       "    </tr>\n",
       "  </thead>\n",
       "  <tbody>\n",
       "    <tr>\n",
       "      <th>[51 and more]</th>\n",
       "      <td>57579</td>\n",
       "      <td>14997</td>\n",
       "      <td>4623</td>\n",
       "      <td>77199</td>\n",
       "    </tr>\n",
       "    <tr>\n",
       "      <th>[46 - 50]</th>\n",
       "      <td>19918</td>\n",
       "      <td>6740</td>\n",
       "      <td>2238</td>\n",
       "      <td>28896</td>\n",
       "    </tr>\n",
       "    <tr>\n",
       "      <th>[41 - 45]</th>\n",
       "      <td>26144</td>\n",
       "      <td>9609</td>\n",
       "      <td>3257</td>\n",
       "      <td>39010</td>\n",
       "    </tr>\n",
       "    <tr>\n",
       "      <th>[36 - 40]</th>\n",
       "      <td>32526</td>\n",
       "      <td>12870</td>\n",
       "      <td>4394</td>\n",
       "      <td>49790</td>\n",
       "    </tr>\n",
       "    <tr>\n",
       "      <th>[31 - 35]</th>\n",
       "      <td>32748</td>\n",
       "      <td>16142</td>\n",
       "      <td>5010</td>\n",
       "      <td>53900</td>\n",
       "    </tr>\n",
       "    <tr>\n",
       "      <th>[26 - 30]</th>\n",
       "      <td>22162</td>\n",
       "      <td>15858</td>\n",
       "      <td>4733</td>\n",
       "      <td>42753</td>\n",
       "    </tr>\n",
       "    <tr>\n",
       "      <th>[21 - 25]</th>\n",
       "      <td>17981</td>\n",
       "      <td>17871</td>\n",
       "      <td>4943</td>\n",
       "      <td>40795</td>\n",
       "    </tr>\n",
       "    <tr>\n",
       "      <th>[18 - 20]</th>\n",
       "      <td>5284</td>\n",
       "      <td>1648</td>\n",
       "      <td>1574</td>\n",
       "      <td>8506</td>\n",
       "    </tr>\n",
       "  </tbody>\n",
       "</table>\n",
       "</div>"
      ],
      "text/plain": [
       "gender                  F      M     U  total\n",
       "customer_age_group                           \n",
       "[51 and more]       57579  14997  4623  77199\n",
       "[46 - 50]           19918   6740  2238  28896\n",
       "[41 - 45]           26144   9609  3257  39010\n",
       "[36 - 40]           32526  12870  4394  49790\n",
       "[31 - 35]           32748  16142  5010  53900\n",
       "[26 - 30]           22162  15858  4733  42753\n",
       "[21 - 25]           17981  17871  4943  40795\n",
       "[18 - 20]            5284   1648  1574   8506"
      ]
     },
     "metadata": {},
     "output_type": "display_data"
    },
    {
     "data": {
      "text/plain": [
       "Text(0.5, 1.0, \"Соотношение возрастных групп и гендеров покупателей p&g продуктов в 'Магнит Косметик'\")"
      ]
     },
     "execution_count": 67,
     "metadata": {},
     "output_type": "execute_result"
    },
    {
     "data": {
      "image/png": "[encoded data removed]",
      "text/plain": [
       "<Figure size 576x432 with 1 Axes>"
      ]
     },
     "metadata": {
      "needs_background": "light"
     },
     "output_type": "display_data"
    }
   ],
   "source": [
    "report = checksun.pivot_table(index = 'customer_age_group', columns = 'gender', values = 'customer', aggfunc = 'nunique')\n",
    "report['total'] = report['F'] + report['M']+ report['U']\n",
    "report = report.sort_values('customer_age_group', ascending = False)\n",
    "display(report)\n",
    "report[['F', 'M', 'U']].plot(kind = 'barh', figsize = (8, 6))\n",
    "plt.ylabel(\"Возраст покупателей\")\n",
    "plt.xlabel(\"Гендер\")\n",
    "plt.title (\"Соотношение возрастных групп и гендеров покупателей p&g продуктов в 'Магнит Косметик'\")"
   ]
  },
  {
   "cell_type": "markdown",
   "id": "97516ba3",
   "metadata": {},
   "source": [
    "Отражает ли этот график половозростные особенности покупателей P&G продукции, либо это распределение стандартно для покупателей \"Магнит Косметик\" в целом? Для того, чтобы это узнать, сравним этот график покупателей P&G с общими покупателями, зарегистрированными в \"Магнит Косметик\"."
   ]
  },
  {
   "cell_type": "code",
   "execution_count": 68,
   "id": "bfa74530",
   "metadata": {},
   "outputs": [
    {
     "data": {
      "text/html": [
       "<div>\n",
       "<style scoped>\n",
       "    .dataframe tbody tr th:only-of-type {\n",
       "        vertical-align: middle;\n",
       "    }\n",
       "\n",
       "    .dataframe tbody tr th {\n",
       "        vertical-align: top;\n",
       "    }\n",
       "\n",
       "    .dataframe thead th {\n",
       "        text-align: right;\n",
       "    }\n",
       "</style>\n",
       "<table border=\"1\" class=\"dataframe\">\n",
       "  <thead>\n",
       "    <tr style=\"text-align: right;\">\n",
       "      <th>gender</th>\n",
       "      <th>F</th>\n",
       "      <th>M</th>\n",
       "      <th>U</th>\n",
       "      <th>total</th>\n",
       "    </tr>\n",
       "    <tr>\n",
       "      <th>customer_age_group</th>\n",
       "      <th></th>\n",
       "      <th></th>\n",
       "      <th></th>\n",
       "      <th></th>\n",
       "    </tr>\n",
       "  </thead>\n",
       "  <tbody>\n",
       "    <tr>\n",
       "      <th>[51 and more]</th>\n",
       "      <td>58935</td>\n",
       "      <td>15782</td>\n",
       "      <td>4782</td>\n",
       "      <td>79499</td>\n",
       "    </tr>\n",
       "    <tr>\n",
       "      <th>[46 - 50]</th>\n",
       "      <td>20424</td>\n",
       "      <td>7070</td>\n",
       "      <td>2319</td>\n",
       "      <td>29813</td>\n",
       "    </tr>\n",
       "    <tr>\n",
       "      <th>[41 - 45]</th>\n",
       "      <td>26788</td>\n",
       "      <td>10052</td>\n",
       "      <td>3377</td>\n",
       "      <td>40217</td>\n",
       "    </tr>\n",
       "    <tr>\n",
       "      <th>[36 - 40]</th>\n",
       "      <td>33274</td>\n",
       "      <td>13490</td>\n",
       "      <td>4533</td>\n",
       "      <td>51297</td>\n",
       "    </tr>\n",
       "    <tr>\n",
       "      <th>[31 - 35]</th>\n",
       "      <td>33367</td>\n",
       "      <td>17040</td>\n",
       "      <td>5167</td>\n",
       "      <td>55574</td>\n",
       "    </tr>\n",
       "    <tr>\n",
       "      <th>[26 - 30]</th>\n",
       "      <td>22681</td>\n",
       "      <td>16699</td>\n",
       "      <td>4915</td>\n",
       "      <td>44295</td>\n",
       "    </tr>\n",
       "    <tr>\n",
       "      <th>[21 - 25]</th>\n",
       "      <td>18449</td>\n",
       "      <td>18806</td>\n",
       "      <td>5143</td>\n",
       "      <td>42398</td>\n",
       "    </tr>\n",
       "    <tr>\n",
       "      <th>[18 - 20]</th>\n",
       "      <td>5420</td>\n",
       "      <td>1784</td>\n",
       "      <td>1654</td>\n",
       "      <td>8858</td>\n",
       "    </tr>\n",
       "  </tbody>\n",
       "</table>\n",
       "</div>"
      ],
      "text/plain": [
       "gender                  F      M     U  total\n",
       "customer_age_group                           \n",
       "[51 and more]       58935  15782  4782  79499\n",
       "[46 - 50]           20424   7070  2319  29813\n",
       "[41 - 45]           26788  10052  3377  40217\n",
       "[36 - 40]           33274  13490  4533  51297\n",
       "[31 - 35]           33367  17040  5167  55574\n",
       "[26 - 30]           22681  16699  4915  44295\n",
       "[21 - 25]           18449  18806  5143  42398\n",
       "[18 - 20]            5420   1784  1654   8858"
      ]
     },
     "metadata": {},
     "output_type": "display_data"
    },
    {
     "data": {
      "text/plain": [
       "Text(0.5, 1.0, 'Соотношение возрастных групп и гендеров покупателей, зарегистрированных в \"Магнит Косметик\"')"
      ]
     },
     "execution_count": 68,
     "metadata": {},
     "output_type": "execute_result"
    },
    {
     "data": {
      "image/png": "[encoded data removed]",
      "text/plain": [
       "<Figure size 576x432 with 1 Axes>"
      ]
     },
     "metadata": {
      "needs_background": "light"
     },
     "output_type": "display_data"
    }
   ],
   "source": [
    "# половозрастное распределение покупателей системы \"Магнит Косметик\"\n",
    "report = customers.pivot_table(index = 'customer_age_group', columns = 'gender', values = 'customer', aggfunc = 'nunique')\n",
    "report['total'] = report['F'] + report['M']+ report['U']\n",
    "report = report.sort_values('customer_age_group', ascending = False)\n",
    "display(report)\n",
    "report[['F', 'M', 'U']].plot(kind = 'barh', figsize = (8, 6))\n",
    "plt.ylabel(\"Возраст покупателей\")\n",
    "plt.xlabel(\"Гендер\")\n",
    "plt.title ('Соотношение возрастных групп и гендеров покупателей, зарегистрированных в \"Магнит Косметик\"')"
   ]
  },
  {
   "cell_type": "markdown",
   "id": "01c5a169",
   "metadata": {},
   "source": [
    "Графики практически идентичны. Это означает, что половозрастной состав покупателей, у которых в чеке есть хотя бы один товар P&G, не отличаются от общего половозрастного состава покупателей магазина \"Магнит-косметик\". Мы также можем отметить, что абсолютное численное выражаение покупающих P&G не сильно отличается от общего числа зарегистрированных в магните. Это значит, что подавляющее число зарегистрированных в системе \"Магнит Косметик\" покупают или покупали продукцию P&G."
   ]
  },
  {
   "cell_type": "markdown",
   "id": "220b4f6e",
   "metadata": {},
   "source": [
    "Мы посмотрели частоту покупок, а какие половозрастные группы покупают больше товаров? По графикам боксплот и информации о квартилях данных мы можем увидеть, что в 25% - 3 и больше товара P&G. Посмотрим, в чьих чеках мы чаще всего можем увидеть больше трех товаров P&G. "
   ]
  },
  {
   "cell_type": "code",
   "execution_count": 69,
   "id": "75bcb40f",
   "metadata": {},
   "outputs": [],
   "source": [
    "# вычленим айди тех покупателей, которые в течении года купили больше 3 товаров P&G в одном чеке\n",
    "oftencus = checks.loc[checks['product'] > 3]\n",
    "oftencust = checks.loc[checks['product'] > 3, \"customer\"] "
   ]
  },
  {
   "cell_type": "code",
   "execution_count": 70,
   "id": "61cd383c",
   "metadata": {},
   "outputs": [],
   "source": [
    "# посчитаем число уникальных покупателей продукции P&G по их половозрастному составу (те, кто купили больше 3 товаров). для этого вычленим из нашей таблицы с чеками только уникальных покупателей\n",
    "checksunof = pd.DataFrame(oftencust.unique())\n",
    "checksunof.columns = ['customer']\n",
    "checksunof = checksunof.merge(right = customers, on='customer', how='left') "
   ]
  },
  {
   "cell_type": "code",
   "execution_count": 71,
   "id": "c9f91921",
   "metadata": {},
   "outputs": [
    {
     "data": {
      "text/plain": [
       "customer              251708\n",
       "customer_age_group    251278\n",
       "gender                251278\n",
       "enr_channel           251278\n",
       "enr_date              251278\n",
       "dtype: int64"
      ]
     },
     "execution_count": 71,
     "metadata": {},
     "output_type": "execute_result"
    }
   ],
   "source": [
    "checksunof.count()"
   ]
  },
  {
   "cell_type": "code",
   "execution_count": 72,
   "id": "80083295",
   "metadata": {},
   "outputs": [
    {
     "data": {
      "text/html": [
       "<div>\n",
       "<style scoped>\n",
       "    .dataframe tbody tr th:only-of-type {\n",
       "        vertical-align: middle;\n",
       "    }\n",
       "\n",
       "    .dataframe tbody tr th {\n",
       "        vertical-align: top;\n",
       "    }\n",
       "\n",
       "    .dataframe thead th {\n",
       "        text-align: right;\n",
       "    }\n",
       "</style>\n",
       "<table border=\"1\" class=\"dataframe\">\n",
       "  <thead>\n",
       "    <tr style=\"text-align: right;\">\n",
       "      <th>gender</th>\n",
       "      <th>F</th>\n",
       "      <th>M</th>\n",
       "      <th>U</th>\n",
       "      <th>total</th>\n",
       "    </tr>\n",
       "    <tr>\n",
       "      <th>customer_age_group</th>\n",
       "      <th></th>\n",
       "      <th></th>\n",
       "      <th></th>\n",
       "      <th></th>\n",
       "    </tr>\n",
       "  </thead>\n",
       "  <tbody>\n",
       "    <tr>\n",
       "      <th>[51 and more]</th>\n",
       "      <td>43601</td>\n",
       "      <td>8883</td>\n",
       "      <td>3206</td>\n",
       "      <td>55690</td>\n",
       "    </tr>\n",
       "    <tr>\n",
       "      <th>[46 - 50]</th>\n",
       "      <td>15624</td>\n",
       "      <td>4162</td>\n",
       "      <td>1612</td>\n",
       "      <td>21398</td>\n",
       "    </tr>\n",
       "    <tr>\n",
       "      <th>[41 - 45]</th>\n",
       "      <td>20937</td>\n",
       "      <td>6293</td>\n",
       "      <td>2387</td>\n",
       "      <td>29617</td>\n",
       "    </tr>\n",
       "    <tr>\n",
       "      <th>[36 - 40]</th>\n",
       "      <td>26464</td>\n",
       "      <td>8479</td>\n",
       "      <td>3299</td>\n",
       "      <td>38242</td>\n",
       "    </tr>\n",
       "    <tr>\n",
       "      <th>[31 - 35]</th>\n",
       "      <td>26550</td>\n",
       "      <td>10615</td>\n",
       "      <td>3754</td>\n",
       "      <td>40919</td>\n",
       "    </tr>\n",
       "    <tr>\n",
       "      <th>[26 - 30]</th>\n",
       "      <td>17702</td>\n",
       "      <td>10508</td>\n",
       "      <td>3415</td>\n",
       "      <td>31625</td>\n",
       "    </tr>\n",
       "    <tr>\n",
       "      <th>[21 - 25]</th>\n",
       "      <td>13347</td>\n",
       "      <td>11871</td>\n",
       "      <td>3409</td>\n",
       "      <td>28627</td>\n",
       "    </tr>\n",
       "    <tr>\n",
       "      <th>[18 - 20]</th>\n",
       "      <td>3458</td>\n",
       "      <td>750</td>\n",
       "      <td>952</td>\n",
       "      <td>5160</td>\n",
       "    </tr>\n",
       "  </tbody>\n",
       "</table>\n",
       "</div>"
      ],
      "text/plain": [
       "gender                  F      M     U  total\n",
       "customer_age_group                           \n",
       "[51 and more]       43601   8883  3206  55690\n",
       "[46 - 50]           15624   4162  1612  21398\n",
       "[41 - 45]           20937   6293  2387  29617\n",
       "[36 - 40]           26464   8479  3299  38242\n",
       "[31 - 35]           26550  10615  3754  40919\n",
       "[26 - 30]           17702  10508  3415  31625\n",
       "[21 - 25]           13347  11871  3409  28627\n",
       "[18 - 20]            3458    750   952   5160"
      ]
     },
     "metadata": {},
     "output_type": "display_data"
    },
    {
     "data": {
      "text/plain": [
       "Text(0.5, 1.0, \"Соотношение возрастных групп и гендеров покупателей p&g продуктов (купили больше трех продуктов) в 'Магнит Косметик'\")"
      ]
     },
     "execution_count": 72,
     "metadata": {},
     "output_type": "execute_result"
    },
    {
     "data": {
      "image/png": "[encoded data removed]",
      "text/plain": [
       "<Figure size 576x432 with 1 Axes>"
      ]
     },
     "metadata": {
      "needs_background": "light"
     },
     "output_type": "display_data"
    }
   ],
   "source": [
    "report = checksunof.pivot_table(index = 'customer_age_group', columns = 'gender', values = 'customer', aggfunc = 'nunique')\n",
    "report['total'] = report['F'] + report['M']+ report['U']\n",
    "report = report.sort_values('customer_age_group', ascending = False)\n",
    "display(report)\n",
    "report[['F', 'M', 'U']].plot(kind = 'barh', figsize = (8, 6))\n",
    "plt.ylabel(\"Возраст покупателей\")\n",
    "plt.xlabel(\"Гендер\")\n",
    "plt.title (\"Соотношение возрастных групп и гендеров покупателей p&g продуктов (купили больше трех продуктов) в 'Магнит Косметик'\")"
   ]
  },
  {
   "cell_type": "markdown",
   "id": "a870386f",
   "metadata": {},
   "source": [
    "Покупатели больше 3х товаров в магазине косметики не отличаются от среднего покупателя в \"Магнит Косметик\" и среднего покупателя P&G товаров. Что чаще всего покупают эти люди?  "
   ]
  },
  {
   "cell_type": "code",
   "execution_count": 73,
   "id": "58c5c7ce",
   "metadata": {},
   "outputs": [],
   "source": [
    "checksunofag = checksunof['customer']"
   ]
  },
  {
   "cell_type": "code",
   "execution_count": 74,
   "id": "98d4f685",
   "metadata": {},
   "outputs": [],
   "source": [
    "# требуется слишком много памяти, чтобы открыть таблицу (и полностью посмотреть информацию), необходимо сократить: \n",
    "minimdata = data.iloc[0:13600000:100]\n",
    "oftenchechpur = minimdata.query('customer in @checksunofag')\n"
   ]
  },
  {
   "cell_type": "code",
   "execution_count": 75,
   "id": "6f84d349",
   "metadata": {},
   "outputs": [
    {
     "data": {
      "text/plain": [
       "Туалетная бумага                   5543\n",
       "Хозяйственные товары для уборки    4231\n",
       "Пасты зубные                       3672\n",
       "Влажные корма для кошек и котят    3163\n",
       "Шампуни                            3039\n",
       "Чулочно-носочные изделия           2922\n",
       "Влажные салфетки                   2890\n",
       "Ватная продукция                   2829\n",
       "Краска для волос                   2790\n",
       "Чистящие средства                  2711\n",
       "Name: product, dtype: int64"
      ]
     },
     "execution_count": 75,
     "metadata": {},
     "output_type": "execute_result"
    }
   ],
   "source": [
    "oftenchechpur['product'].value_counts().head(10)"
   ]
  },
  {
   "cell_type": "markdown",
   "id": "0f38d1fd",
   "metadata": {},
   "source": [
    "Чаще всего покупатели, которые покупали больше 3 товаров P&G в одном чеке, покупают топ-5:   \n",
    "Туалетная бумага, Хозяйственные товары для уборки, Пасты зубные, Влажные корма для кошек и котят, Шампуни. Эти показатели практически не отличается от среднего покупателя.              "
   ]
  },
  {
   "cell_type": "markdown",
   "id": "3d2e8d99",
   "metadata": {},
   "source": [
    "Также посмотрим, как покупательская способность меняется в течение года, и сколько в среднем товаров P&G приобретается каждый месяц. "
   ]
  },
  {
   "cell_type": "code",
   "execution_count": 76,
   "id": "5130ec67",
   "metadata": {},
   "outputs": [],
   "source": [
    "checks['month'] = checks['purchase date'].dt.month"
   ]
  },
  {
   "cell_type": "code",
   "execution_count": 77,
   "id": "e546dcfa",
   "metadata": {},
   "outputs": [],
   "source": [
    "# для того, чтобы сократить время обработки данных, сократим данные, сохраняя баланс: \n",
    "mindata = checks.iloc[0:4042000:10]"
   ]
  },
  {
   "cell_type": "code",
   "execution_count": 78,
   "id": "6025dde5",
   "metadata": {},
   "outputs": [
    {
     "data": {
      "text/plain": [
       "<AxesSubplot:xlabel='month', ylabel='total'>"
      ]
     },
     "execution_count": 78,
     "metadata": {},
     "output_type": "execute_result"
    },
    {
     "data": {
      "image/png": "[encoded data removed]",
      "text/plain": [
       "<Figure size 432x288 with 1 Axes>"
      ]
     },
     "metadata": {
      "needs_background": "light"
     },
     "output_type": "display_data"
    }
   ],
   "source": [
    "sns.lineplot(data=mindata, x=\"month\", y=\"total\", estimator=np.mean)"
   ]
  },
  {
   "cell_type": "markdown",
   "id": "961914e1",
   "metadata": {},
   "source": [
    "Мы видим небольшое проседание на 0.08 пунктов среднего количества всех покупок в чеке в апреле, медленное падение с мая по сентябрь. Сентябрь представляется мксяцев, когда среднее количество покупок в чеке падает сильнее всего в течение года. Пик покупок приходятся на март."
   ]
  },
  {
   "cell_type": "markdown",
   "id": "9174b739",
   "metadata": {},
   "source": [
    "Эта картинка сохраняется и в отношении товаров от P&G, а не по общему чеку. "
   ]
  },
  {
   "cell_type": "code",
   "execution_count": 79,
   "id": "0238ff83",
   "metadata": {},
   "outputs": [
    {
     "data": {
      "text/plain": [
       "<AxesSubplot:xlabel='month', ylabel='product'>"
      ]
     },
     "execution_count": 79,
     "metadata": {},
     "output_type": "execute_result"
    },
    {
     "data": {
      "image/png": "[encoded data removed]",
      "text/plain": [
       "<Figure size 432x288 with 1 Axes>"
      ]
     },
     "metadata": {
      "needs_background": "light"
     },
     "output_type": "display_data"
    }
   ],
   "source": [
    "sns.lineplot(data=mindata, x=\"month\", y=\"product\", estimator=np.mean)"
   ]
  },
  {
   "cell_type": "markdown",
   "id": "fea6b38c",
   "metadata": {},
   "source": [
    "Найдем распределение покупателей по количеству соверешенных покупок за год. "
   ]
  },
  {
   "cell_type": "code",
   "execution_count": 80,
   "id": "71a57dd1",
   "metadata": {},
   "outputs": [],
   "source": [
    "countyear = checks.groupby('customer').agg({'purchase date':'count'})"
   ]
  },
  {
   "cell_type": "code",
   "execution_count": 81,
   "id": "61f1bb77",
   "metadata": {
    "scrolled": true
   },
   "outputs": [
    {
     "data": {
      "image/png": "[encoded data removed]",
      "text/plain": [
       "<Figure size 432x288 with 1 Axes>"
      ]
     },
     "metadata": {
      "needs_background": "light"
     },
     "output_type": "display_data"
    }
   ],
   "source": [
    "plt.hist(countyear['purchase date'], weights=np.ones(len(countyear['purchase date'])) / len(countyear['purchase date']), range = (0, 20),bins=[0, 1, 2, 3, 4, 5, 6,7,8,9,10, 11, 12, 13, 14,15, 16,17,18,19,20, 21,22,23,24,25,26,27,28,29,30,31,32,33,34,35,36])\n",
    "plt.grid()\n",
    "plt.gca().yaxis.set_major_formatter(PercentFormatter(1))\n",
    "plt.title('Распределение покупателей по количеству совершенных покупок за год, %')\n",
    "plt.xlabel(\"Количество покупок за год\")\n",
    "plt.ylabel(\"Процент покупателей, %\")\n",
    "plt.show()\n"
   ]
  },
  {
   "cell_type": "markdown",
   "id": "76e29760",
   "metadata": {},
   "source": [
    "Мы можем заметить, что 9% покупателей купили продукты(ы) P&G только один раз."
   ]
  },
  {
   "cell_type": "code",
   "execution_count": 82,
   "id": "6bf4cadc",
   "metadata": {},
   "outputs": [
    {
     "data": {
      "text/plain": [
       "0.01     1.0\n",
       "0.25     4.0\n",
       "0.50     8.0\n",
       "0.75    16.0\n",
       "0.95    36.0\n",
       "0.99    59.0\n",
       "Name: purchase date, dtype: float64"
      ]
     },
     "execution_count": 82,
     "metadata": {},
     "output_type": "execute_result"
    }
   ],
   "source": [
    "countyear['purchase date'].quantile([0.01, 0.25, 0.5, 0.75, 0.95, 0.99])"
   ]
  },
  {
   "cell_type": "markdown",
   "id": "586b375e",
   "metadata": {},
   "source": [
    "Покупателей, которые в течении года совершили покупку больше 36 раз можно считать выбросами. 50% покутелей совершают 8 и более покупок в магазине в течение года. "
   ]
  },
  {
   "cell_type": "markdown",
   "id": "3bb87b3e",
   "metadata": {},
   "source": [
    "Что чаще всего покупают покупатели, которые затем не возвращаются за повторными покупками в магазин? "
   ]
  },
  {
   "cell_type": "code",
   "execution_count": 83,
   "id": "3dd41d4b",
   "metadata": {},
   "outputs": [],
   "source": [
    "rearcust = countyear[countyear['purchase date'] == 1]"
   ]
  },
  {
   "cell_type": "code",
   "execution_count": 84,
   "id": "209ff314",
   "metadata": {},
   "outputs": [],
   "source": [
    "rearcust = rearcust.merge(right = purchases, on='customer', how='left') "
   ]
  },
  {
   "cell_type": "code",
   "execution_count": 85,
   "id": "3de34b1d",
   "metadata": {},
   "outputs": [
    {
     "data": {
      "text/plain": [
       "Туалетная бумага                           5999\n",
       "Пасты зубные                               5720\n",
       "Хозяйственные товары для уборки            5700\n",
       "Шампуни                                    5193\n",
       "Чистящие средства                          4121\n",
       "Дезодоранты женские                        4041\n",
       "Ватная продукция                           4028\n",
       "Чулочно-носочные изделия                   3516\n",
       "Влажные салфетки                           3511\n",
       "Женские гели                               3476\n",
       "Мыло жидкое                                3329\n",
       "Мыло кусковое                              3239\n",
       "Краска для волос                           3098\n",
       "Ополаскиватели для белья                   2946\n",
       "Дезинфицирующие средства для сантехники    2600\n",
       "Для глаз                                   2416\n",
       "Для губ                                    2407\n",
       "Блоки для унитаза                          2358\n",
       "Зубные щетки и насадки                     2322\n",
       "Маски для лица                             2294\n",
       "Бальзамы и кондиционеры                    2225\n",
       "Дезодоранты мужские                        2086\n",
       "Очищение                                   2051\n",
       "Бритвы и лезвия                            2046\n",
       "Влажные корма для кошек и котят            2017\n",
       "Прокладки                                  1940\n",
       "Бумажные салфетки                          1933\n",
       "Средства для ручного мытья посуды          1928\n",
       "Кремы                                      1792\n",
       "Для ногтей                                 1716\n",
       "Name: product, dtype: int64"
      ]
     },
     "execution_count": 85,
     "metadata": {},
     "output_type": "execute_result"
    }
   ],
   "source": [
    "rearcust['product'].value_counts().sort_values(ascending = False).head(30) "
   ]
  },
  {
   "cell_type": "markdown",
   "id": "787ee480",
   "metadata": {},
   "source": [
    "Покупатели, которые зашли купить товары (купили товар(ы) P&G) и больше не возвращались, покупают самые популярные товары, не отличаются от среднего покупателя. Топ-5 товаров в среднем для покупателей в магазине \"Магнит Косметик\" (по всем чекам): \n",
    "Туалетная бумага, Хозяйственные товары для уборки, Пасты зубные, Влажные корма для кошек и котят, Шампуни, Чулочно-носочные изделия. \n",
    "Топ-5 товаров для тех, кто купил в Магнит Косметик один раз (в чеке был товар P&G):Туалетная бумага, Хозяйственные товары для уборки, Пасты зубные, Шампуни, Краска для волос.      "
   ]
  },
  {
   "cell_type": "markdown",
   "id": "14497b72",
   "metadata": {},
   "source": [
    "Что чаще всего покупают покупатели, которые покупают товары в магазине не меньше 8 раз в год? "
   ]
  },
  {
   "cell_type": "code",
   "execution_count": 86,
   "id": "63cf88b6",
   "metadata": {},
   "outputs": [],
   "source": [
    "oftendcust = countyear[countyear['purchase date'] >= 8]"
   ]
  },
  {
   "cell_type": "code",
   "execution_count": 87,
   "id": "10bda105",
   "metadata": {},
   "outputs": [],
   "source": [
    "oftendcust = oftendcust.merge(right = purchases, on='customer', how='left') "
   ]
  },
  {
   "cell_type": "code",
   "execution_count": 88,
   "id": "9139b621",
   "metadata": {},
   "outputs": [
    {
     "data": {
      "text/plain": [
       "Туалетная бумага                           512372\n",
       "Хозяйственные товары для уборки            378112\n",
       "Пасты зубные                               319854\n",
       "Влажные корма для кошек и котят            314453\n",
       "Шампуни                                    262421\n",
       "Чулочно-носочные изделия                   259147\n",
       "Краска для волос                           252587\n",
       "Ватная продукция                           250606\n",
       "Влажные салфетки                           249684\n",
       "Дезодоранты женские                        240282\n",
       "Чистящие средства                          234347\n",
       "Мыло жидкое                                210752\n",
       "Сухие корма для кошек и котят              198689\n",
       "Мыло кусковое                              194094\n",
       "Бумажные салфетки                          176563\n",
       "Женские гели                               175614\n",
       "Ополаскиватели для белья                   167222\n",
       "Прокладки                                  162315\n",
       "Для глаз                                   156875\n",
       "Для губ                                    151150\n",
       "Маски для лица                             145797\n",
       "Дезинфицирующие средства для сантехники    142017\n",
       "Средства для ручного мытья посуды          140784\n",
       "Очищение                                   138662\n",
       "Блоки для унитаза                          138359\n",
       "Для ногтей                                 133240\n",
       "Кремы                                      126938\n",
       "Прокладки ежедневные                       121847\n",
       "Бальзамы и кондиционеры                    121816\n",
       "Средства для укладки и стайлинга волос     111176\n",
       "Name: product, dtype: int64"
      ]
     },
     "execution_count": 88,
     "metadata": {},
     "output_type": "execute_result"
    }
   ],
   "source": [
    "oftendcust['product'].value_counts().sort_values(ascending = False).head(30) "
   ]
  },
  {
   "cell_type": "markdown",
   "id": "8c8f068f",
   "metadata": {},
   "source": [
    "И снова мы видим, что список популяных товаров частых покупателей не сильно отличается от списка популярных товаров среднего покупателя. "
   ]
  },
  {
   "cell_type": "markdown",
   "id": "0f9baa0e",
   "metadata": {},
   "source": [
    "Выделим \"золотых\" покупателей: то есть тех, кто закупался за год больше 8 раз, и у кого в чеке хотя бы раз было больше 3 товаров от P&G."
   ]
  },
  {
   "cell_type": "code",
   "execution_count": 89,
   "id": "1182fbd1",
   "metadata": {},
   "outputs": [],
   "source": [
    "goldenone = oftendcust.query('customer in @checksunofag')"
   ]
  },
  {
   "cell_type": "code",
   "execution_count": 90,
   "id": "eeaec9f3",
   "metadata": {},
   "outputs": [
    {
     "data": {
      "text/plain": [
       "Туалетная бумага                           494420\n",
       "Хозяйственные товары для уборки            367462\n",
       "Пасты зубные                               307773\n",
       "Влажные корма для кошек и котят            298502\n",
       "Шампуни                                    252450\n",
       "Чулочно-носочные изделия                   250867\n",
       "Ватная продукция                           243745\n",
       "Влажные салфетки                           242959\n",
       "Краска для волос                           238692\n",
       "Дезодоранты женские                        231297\n",
       "Чистящие средства                          226398\n",
       "Мыло жидкое                                204644\n",
       "Сухие корма для кошек и котят              188683\n",
       "Мыло кусковое                              186508\n",
       "Бумажные салфетки                          172378\n",
       "Женские гели                               170902\n",
       "Ополаскиватели для белья                   162492\n",
       "Прокладки                                  155606\n",
       "Для глаз                                   150622\n",
       "Для губ                                    145395\n",
       "Маски для лица                             141794\n",
       "Дезинфицирующие средства для сантехники    137464\n",
       "Средства для ручного мытья посуды          136211\n",
       "Блоки для унитаза                          134977\n",
       "Очищение                                   134534\n",
       "Для ногтей                                 127228\n",
       "Кремы                                      122001\n",
       "Прокладки ежедневные                       118168\n",
       "Бальзамы и кондиционеры                    118118\n",
       "Средства для укладки и стайлинга волос     106424\n",
       "Name: product, dtype: int64"
      ]
     },
     "execution_count": 90,
     "metadata": {},
     "output_type": "execute_result"
    }
   ],
   "source": [
    "goldenone['product'].value_counts().sort_values(ascending = False).head(30)  "
   ]
  },
  {
   "cell_type": "markdown",
   "id": "2605d0bb",
   "metadata": {},
   "source": [
    "\"Золотые\" покупатели также чаще всего покупают туалетную бумагу, товары для уборки, зубные пасты, корма для кошек, шампуни."
   ]
  },
  {
   "cell_type": "code",
   "execution_count": 91,
   "id": "acf7d926",
   "metadata": {},
   "outputs": [],
   "source": [
    "goldenone = goldenone.merge(right = customers, on='customer', how='left')"
   ]
  },
  {
   "cell_type": "code",
   "execution_count": 92,
   "id": "f8ebbcbe",
   "metadata": {},
   "outputs": [
    {
     "data": {
      "text/html": [
       "<div>\n",
       "<style scoped>\n",
       "    .dataframe tbody tr th:only-of-type {\n",
       "        vertical-align: middle;\n",
       "    }\n",
       "\n",
       "    .dataframe tbody tr th {\n",
       "        vertical-align: top;\n",
       "    }\n",
       "\n",
       "    .dataframe thead th {\n",
       "        text-align: right;\n",
       "    }\n",
       "</style>\n",
       "<table border=\"1\" class=\"dataframe\">\n",
       "  <thead>\n",
       "    <tr style=\"text-align: right;\">\n",
       "      <th>gender</th>\n",
       "      <th>F</th>\n",
       "      <th>M</th>\n",
       "      <th>U</th>\n",
       "      <th>total</th>\n",
       "    </tr>\n",
       "    <tr>\n",
       "      <th>customer_age_group</th>\n",
       "      <th></th>\n",
       "      <th></th>\n",
       "      <th></th>\n",
       "      <th></th>\n",
       "    </tr>\n",
       "  </thead>\n",
       "  <tbody>\n",
       "    <tr>\n",
       "      <th>[51 and more]</th>\n",
       "      <td>29495</td>\n",
       "      <td>5226</td>\n",
       "      <td>2026</td>\n",
       "      <td>36747</td>\n",
       "    </tr>\n",
       "    <tr>\n",
       "      <th>[46 - 50]</th>\n",
       "      <td>10784</td>\n",
       "      <td>2389</td>\n",
       "      <td>1053</td>\n",
       "      <td>14226</td>\n",
       "    </tr>\n",
       "    <tr>\n",
       "      <th>[41 - 45]</th>\n",
       "      <td>14597</td>\n",
       "      <td>3651</td>\n",
       "      <td>1487</td>\n",
       "      <td>19735</td>\n",
       "    </tr>\n",
       "    <tr>\n",
       "      <th>[36 - 40]</th>\n",
       "      <td>18624</td>\n",
       "      <td>4742</td>\n",
       "      <td>2108</td>\n",
       "      <td>25474</td>\n",
       "    </tr>\n",
       "    <tr>\n",
       "      <th>[31 - 35]</th>\n",
       "      <td>18146</td>\n",
       "      <td>5633</td>\n",
       "      <td>2363</td>\n",
       "      <td>26142</td>\n",
       "    </tr>\n",
       "    <tr>\n",
       "      <th>[26 - 30]</th>\n",
       "      <td>11629</td>\n",
       "      <td>5385</td>\n",
       "      <td>2041</td>\n",
       "      <td>19055</td>\n",
       "    </tr>\n",
       "    <tr>\n",
       "      <th>[21 - 25]</th>\n",
       "      <td>8362</td>\n",
       "      <td>6029</td>\n",
       "      <td>1965</td>\n",
       "      <td>16356</td>\n",
       "    </tr>\n",
       "    <tr>\n",
       "      <th>[18 - 20]</th>\n",
       "      <td>2018</td>\n",
       "      <td>339</td>\n",
       "      <td>535</td>\n",
       "      <td>2892</td>\n",
       "    </tr>\n",
       "  </tbody>\n",
       "</table>\n",
       "</div>"
      ],
      "text/plain": [
       "gender                  F     M     U  total\n",
       "customer_age_group                          \n",
       "[51 and more]       29495  5226  2026  36747\n",
       "[46 - 50]           10784  2389  1053  14226\n",
       "[41 - 45]           14597  3651  1487  19735\n",
       "[36 - 40]           18624  4742  2108  25474\n",
       "[31 - 35]           18146  5633  2363  26142\n",
       "[26 - 30]           11629  5385  2041  19055\n",
       "[21 - 25]            8362  6029  1965  16356\n",
       "[18 - 20]            2018   339   535   2892"
      ]
     },
     "metadata": {},
     "output_type": "display_data"
    },
    {
     "data": {
      "text/plain": [
       "Text(0.5, 1.0, \"Соотношение возрастных групп и гендеров 'золотых' покупателей p&g продуктов (купили больше трех продуктов, закупались чаще 8 раз в год) в 'Магнит Косметик'\")"
      ]
     },
     "execution_count": 92,
     "metadata": {},
     "output_type": "execute_result"
    },
    {
     "data": {
      "image/png": "[encoded data removed]",
      "text/plain": [
       "<Figure size 576x432 with 1 Axes>"
      ]
     },
     "metadata": {
      "needs_background": "light"
     },
     "output_type": "display_data"
    }
   ],
   "source": [
    "report = goldenone.pivot_table(index = 'customer_age_group', columns = 'gender', values = 'customer', aggfunc = 'nunique')\n",
    "report['total'] = report['F'] + report['M']+ report['U']\n",
    "report = report.sort_values('customer_age_group', ascending = False)\n",
    "display(report)\n",
    "report[['F', 'M', 'U']].plot(kind = 'barh', figsize = (8, 6))\n",
    "plt.ylabel(\"Возраст покупателей\")\n",
    "plt.xlabel(\"Гендер\")\n",
    "plt.title (\"Соотношение возрастных групп и гендеров 'золотых' покупателей p&g продуктов (купили больше трех продуктов, закупались чаще 8 раз в год) в 'Магнит Косметик'\")"
   ]
  },
  {
   "cell_type": "markdown",
   "id": "b15cf87f",
   "metadata": {},
   "source": [
    "Возможно существует разница между популярными товарами у мужчин и женщин? Посмотрим популярные товары у \"золотых\" клиентов и клиенток. "
   ]
  },
  {
   "cell_type": "code",
   "execution_count": 93,
   "id": "13ba003d",
   "metadata": {},
   "outputs": [],
   "source": [
    "#goldenone"
   ]
  },
  {
   "cell_type": "code",
   "execution_count": 94,
   "id": "c51df6aa",
   "metadata": {},
   "outputs": [
    {
     "data": {
      "text/plain": [
       "Туалетная бумага                   102203\n",
       "Хозяйственные товары для уборки     75159\n",
       "Пасты зубные                        63615\n",
       "Влажные корма для кошек и котят     52548\n",
       "Шампуни                             45600\n",
       "Чистящие средства                   44286\n",
       "Влажные салфетки                    44272\n",
       "Ватная продукция                    42844\n",
       "Чулочно-носочные изделия            40684\n",
       "Мыло кусковое                       40053\n",
       "Name: product, dtype: int64"
      ]
     },
     "execution_count": 94,
     "metadata": {},
     "output_type": "execute_result"
    }
   ],
   "source": [
    "# топ-10 покупки мужчин\n",
    "goldoneman = goldenone[goldenone['gender'] == 'M'] \n",
    "goldoneman['product'].value_counts().head(10)"
   ]
  },
  {
   "cell_type": "code",
   "execution_count": 95,
   "id": "0eb58999",
   "metadata": {},
   "outputs": [
    {
     "data": {
      "text/plain": [
       "Туалетная бумага                   352891\n",
       "Хозяйственные товары для уборки    262295\n",
       "Влажные корма для кошек и котят    223659\n",
       "Пасты зубные                       219752\n",
       "Чулочно-носочные изделия           190073\n",
       "Шампуни                            184849\n",
       "Краска для волос                   182133\n",
       "Ватная продукция                   181174\n",
       "Влажные салфетки                   178911\n",
       "Дезодоранты женские                176640\n",
       "Name: product, dtype: int64"
      ]
     },
     "execution_count": 95,
     "metadata": {},
     "output_type": "execute_result"
    }
   ],
   "source": [
    "# топ-10 покупок женщин\n",
    "goldonewoman = goldenone[goldenone['gender'] == 'F'] \n",
    "goldonewoman['product'].value_counts().head(10)"
   ]
  },
  {
   "cell_type": "markdown",
   "id": "84b1dec0",
   "metadata": {},
   "source": [
    "# 4. Кросс-категорийные продажи P&G "
   ]
  },
  {
   "cell_type": "markdown",
   "id": "b05d0c41",
   "metadata": {},
   "source": [
    "Создадим общую таблицу по всем чекам всех покупателей. "
   ]
  },
  {
   "cell_type": "code",
   "execution_count": 96,
   "id": "f387eea6",
   "metadata": {
    "scrolled": true
   },
   "outputs": [],
   "source": [
    "#data"
   ]
  },
  {
   "cell_type": "code",
   "execution_count": 97,
   "id": "a52e4eb3",
   "metadata": {},
   "outputs": [],
   "source": [
    "# данный объем данных выбран из-за ограничений персональных компьютеров аналитиков, работающих над этим проектом \n",
    "mindata = data.iloc[0:10000000:50]"
   ]
  },
  {
   "cell_type": "code",
   "execution_count": 98,
   "id": "619202c0",
   "metadata": {},
   "outputs": [],
   "source": [
    "groupgoods = mindata.groupby(['customer', 'product']).agg({'product': 'nunique'}).unstack().reset_index(drop = True).fillna(0)"
   ]
  },
  {
   "cell_type": "code",
   "execution_count": 99,
   "id": "e4f26fad",
   "metadata": {},
   "outputs": [],
   "source": [
    "groupgoods.columns = groupgoods.columns.droplevel(0)"
   ]
  },
  {
   "cell_type": "code",
   "execution_count": 100,
   "id": "7b9401a2",
   "metadata": {
    "scrolled": true
   },
   "outputs": [],
   "source": [
    "#groupgoods.head(30)"
   ]
  },
  {
   "cell_type": "code",
   "execution_count": 101,
   "id": "f1ff8b05",
   "metadata": {},
   "outputs": [
    {
     "name": "stdout",
     "output_type": "stream",
     "text": [
      "195149.0\n"
     ]
    },
    {
     "data": {
      "text/html": [
       "<div>\n",
       "<style scoped>\n",
       "    .dataframe tbody tr th:only-of-type {\n",
       "        vertical-align: middle;\n",
       "    }\n",
       "\n",
       "    .dataframe tbody tr th {\n",
       "        vertical-align: top;\n",
       "    }\n",
       "\n",
       "    .dataframe thead th {\n",
       "        text-align: right;\n",
       "    }\n",
       "</style>\n",
       "<table border=\"1\" class=\"dataframe\">\n",
       "  <thead>\n",
       "    <tr style=\"text-align: right;\">\n",
       "      <th></th>\n",
       "      <th>item_name</th>\n",
       "      <th>item_count</th>\n",
       "    </tr>\n",
       "  </thead>\n",
       "  <tbody>\n",
       "    <tr>\n",
       "      <th>0</th>\n",
       "      <td>Туалетная бумага</td>\n",
       "      <td>8579.0</td>\n",
       "    </tr>\n",
       "    <tr>\n",
       "      <th>1</th>\n",
       "      <td>Хозяйственные товары для уборки</td>\n",
       "      <td>6605.0</td>\n",
       "    </tr>\n",
       "    <tr>\n",
       "      <th>2</th>\n",
       "      <td>Пасты зубные</td>\n",
       "      <td>5848.0</td>\n",
       "    </tr>\n",
       "    <tr>\n",
       "      <th>3</th>\n",
       "      <td>Шампуни</td>\n",
       "      <td>4952.0</td>\n",
       "    </tr>\n",
       "    <tr>\n",
       "      <th>4</th>\n",
       "      <td>Чулочно-носочные изделия</td>\n",
       "      <td>4632.0</td>\n",
       "    </tr>\n",
       "    <tr>\n",
       "      <th>5</th>\n",
       "      <td>Ватная продукция</td>\n",
       "      <td>4625.0</td>\n",
       "    </tr>\n",
       "    <tr>\n",
       "      <th>6</th>\n",
       "      <td>Краска для волос</td>\n",
       "      <td>4518.0</td>\n",
       "    </tr>\n",
       "    <tr>\n",
       "      <th>7</th>\n",
       "      <td>Влажные корма для кошек и котят</td>\n",
       "      <td>4490.0</td>\n",
       "    </tr>\n",
       "    <tr>\n",
       "      <th>8</th>\n",
       "      <td>Влажные салфетки</td>\n",
       "      <td>4430.0</td>\n",
       "    </tr>\n",
       "    <tr>\n",
       "      <th>9</th>\n",
       "      <td>Дезодоранты женские</td>\n",
       "      <td>4312.0</td>\n",
       "    </tr>\n",
       "  </tbody>\n",
       "</table>\n",
       "</div>"
      ],
      "text/plain": [
       "                         item_name  item_count\n",
       "0                 Туалетная бумага      8579.0\n",
       "1  Хозяйственные товары для уборки      6605.0\n",
       "2                     Пасты зубные      5848.0\n",
       "3                          Шампуни      4952.0\n",
       "4         Чулочно-носочные изделия      4632.0\n",
       "5                 Ватная продукция      4625.0\n",
       "6                 Краска для волос      4518.0\n",
       "7  Влажные корма для кошек и котят      4490.0\n",
       "8                 Влажные салфетки      4430.0\n",
       "9              Дезодоранты женские      4312.0"
      ]
     },
     "execution_count": 101,
     "metadata": {},
     "output_type": "execute_result"
    }
   ],
   "source": [
    "total_item_count = sum(groupgoods.sum())\n",
    "print(total_item_count)\n",
    "item_summary_df = groupgoods.sum().sort_values(ascending = False).reset_index().head(n=20)\n",
    "item_summary_df.rename(columns={item_summary_df.columns[0]:'item_name',item_summary_df.columns[1]:'item_count'}, inplace=True)\n",
    "item_summary_df.head(10)"
   ]
  },
  {
   "cell_type": "code",
   "execution_count": 102,
   "id": "6f59bbce",
   "metadata": {},
   "outputs": [
    {
     "data": {
      "text/plain": [
       "Text(0.5, 1.0, 'Самые часто покупаемые товары')"
      ]
     },
     "execution_count": 102,
     "metadata": {},
     "output_type": "execute_result"
    },
    {
     "data": {
      "image/png": "[encoded data removed]",
      "text/plain": [
       "<Figure size 432x288 with 1 Axes>"
      ]
     },
     "metadata": {
      "needs_background": "light"
     },
     "output_type": "display_data"
    }
   ],
   "source": [
    "objects = (list(item_summary_df['item_name'].head(n=20)))\n",
    "y_pos = np.arange(len(objects))\n",
    "performance = list(item_summary_df['item_count'].head(n=20))\n",
    " \n",
    "plt.bar(y_pos, performance, align='center', alpha=0.5)\n",
    "plt.xticks(y_pos, objects)\n",
    "plt.xticks(rotation=45, ha='right')\n",
    "plt.ylabel('Item count')\n",
    "plt.title('Самые часто покупаемые товары')"
   ]
  },
  {
   "cell_type": "code",
   "execution_count": 103,
   "id": "e35d50f2",
   "metadata": {},
   "outputs": [
    {
     "data": {
      "text/html": [
       "<div>\n",
       "<style scoped>\n",
       "    .dataframe tbody tr th:only-of-type {\n",
       "        vertical-align: middle;\n",
       "    }\n",
       "\n",
       "    .dataframe tbody tr th {\n",
       "        vertical-align: top;\n",
       "    }\n",
       "\n",
       "    .dataframe thead th {\n",
       "        text-align: right;\n",
       "    }\n",
       "</style>\n",
       "<table border=\"1\" class=\"dataframe\">\n",
       "  <thead>\n",
       "    <tr style=\"text-align: right;\">\n",
       "      <th></th>\n",
       "      <th>item_name</th>\n",
       "      <th>item_count</th>\n",
       "      <th>item_perc</th>\n",
       "      <th>total_perc</th>\n",
       "    </tr>\n",
       "  </thead>\n",
       "  <tbody>\n",
       "    <tr>\n",
       "      <th>0</th>\n",
       "      <td>Туалетная бумага</td>\n",
       "      <td>8579.0</td>\n",
       "      <td>0.043961</td>\n",
       "      <td>0.043961</td>\n",
       "    </tr>\n",
       "    <tr>\n",
       "      <th>1</th>\n",
       "      <td>Хозяйственные товары для уборки</td>\n",
       "      <td>6605.0</td>\n",
       "      <td>0.033846</td>\n",
       "      <td>0.077807</td>\n",
       "    </tr>\n",
       "    <tr>\n",
       "      <th>2</th>\n",
       "      <td>Пасты зубные</td>\n",
       "      <td>5848.0</td>\n",
       "      <td>0.029967</td>\n",
       "      <td>0.107774</td>\n",
       "    </tr>\n",
       "    <tr>\n",
       "      <th>3</th>\n",
       "      <td>Шампуни</td>\n",
       "      <td>4952.0</td>\n",
       "      <td>0.025375</td>\n",
       "      <td>0.133150</td>\n",
       "    </tr>\n",
       "    <tr>\n",
       "      <th>4</th>\n",
       "      <td>Чулочно-носочные изделия</td>\n",
       "      <td>4632.0</td>\n",
       "      <td>0.023736</td>\n",
       "      <td>0.156885</td>\n",
       "    </tr>\n",
       "    <tr>\n",
       "      <th>5</th>\n",
       "      <td>Ватная продукция</td>\n",
       "      <td>4625.0</td>\n",
       "      <td>0.023700</td>\n",
       "      <td>0.180585</td>\n",
       "    </tr>\n",
       "    <tr>\n",
       "      <th>6</th>\n",
       "      <td>Краска для волос</td>\n",
       "      <td>4518.0</td>\n",
       "      <td>0.023152</td>\n",
       "      <td>0.203737</td>\n",
       "    </tr>\n",
       "    <tr>\n",
       "      <th>7</th>\n",
       "      <td>Влажные корма для кошек и котят</td>\n",
       "      <td>4490.0</td>\n",
       "      <td>0.023008</td>\n",
       "      <td>0.226745</td>\n",
       "    </tr>\n",
       "    <tr>\n",
       "      <th>8</th>\n",
       "      <td>Влажные салфетки</td>\n",
       "      <td>4430.0</td>\n",
       "      <td>0.022701</td>\n",
       "      <td>0.249445</td>\n",
       "    </tr>\n",
       "    <tr>\n",
       "      <th>9</th>\n",
       "      <td>Дезодоранты женские</td>\n",
       "      <td>4312.0</td>\n",
       "      <td>0.022096</td>\n",
       "      <td>0.271541</td>\n",
       "    </tr>\n",
       "  </tbody>\n",
       "</table>\n",
       "</div>"
      ],
      "text/plain": [
       "                         item_name  item_count  item_perc  total_perc\n",
       "0                 Туалетная бумага      8579.0   0.043961    0.043961\n",
       "1  Хозяйственные товары для уборки      6605.0   0.033846    0.077807\n",
       "2                     Пасты зубные      5848.0   0.029967    0.107774\n",
       "3                          Шампуни      4952.0   0.025375    0.133150\n",
       "4         Чулочно-носочные изделия      4632.0   0.023736    0.156885\n",
       "5                 Ватная продукция      4625.0   0.023700    0.180585\n",
       "6                 Краска для волос      4518.0   0.023152    0.203737\n",
       "7  Влажные корма для кошек и котят      4490.0   0.023008    0.226745\n",
       "8                 Влажные салфетки      4430.0   0.022701    0.249445\n",
       "9              Дезодоранты женские      4312.0   0.022096    0.271541"
      ]
     },
     "execution_count": 103,
     "metadata": {},
     "output_type": "execute_result"
    }
   ],
   "source": [
    "item_summary_df['item_perc'] = item_summary_df['item_count']/total_item_count\n",
    "item_summary_df['total_perc'] = item_summary_df.item_perc.cumsum()\n",
    "item_summary_df.head(10)"
   ]
  },
  {
   "cell_type": "code",
   "execution_count": 104,
   "id": "baf82787",
   "metadata": {},
   "outputs": [],
   "source": [
    "def clean_data (x):\n",
    "    if x <= 0: \n",
    "        return 0\n",
    "    if x >= 0:\n",
    "        return 1\n",
    "    \n",
    "groupgoods = groupgoods.applymap(clean_data)    "
   ]
  },
  {
   "cell_type": "code",
   "execution_count": 105,
   "id": "2434e1f6",
   "metadata": {
    "scrolled": true
   },
   "outputs": [],
   "source": [
    "# groupgoods "
   ]
  },
  {
   "cell_type": "code",
   "execution_count": 106,
   "id": "8e33c570",
   "metadata": {},
   "outputs": [],
   "source": [
    "groupgoods = groupgoods.astype('uint8')"
   ]
  },
  {
   "cell_type": "code",
   "execution_count": 107,
   "id": "6b530851",
   "metadata": {},
   "outputs": [
    {
     "data": {
      "text/html": [
       "<div>\n",
       "<style scoped>\n",
       "    .dataframe tbody tr th:only-of-type {\n",
       "        vertical-align: middle;\n",
       "    }\n",
       "\n",
       "    .dataframe tbody tr th {\n",
       "        vertical-align: top;\n",
       "    }\n",
       "\n",
       "    .dataframe thead th {\n",
       "        text-align: right;\n",
       "    }\n",
       "</style>\n",
       "<table border=\"1\" class=\"dataframe\">\n",
       "  <thead>\n",
       "    <tr style=\"text-align: right;\">\n",
       "      <th></th>\n",
       "      <th>support</th>\n",
       "      <th>itemsets</th>\n",
       "    </tr>\n",
       "  </thead>\n",
       "  <tbody>\n",
       "    <tr>\n",
       "      <th>0</th>\n",
       "      <td>0.005573</td>\n",
       "      <td>(Автоматические освежители воздуха)</td>\n",
       "    </tr>\n",
       "    <tr>\n",
       "      <th>1</th>\n",
       "      <td>0.001102</td>\n",
       "      <td>(Автохимия и косметика)</td>\n",
       "    </tr>\n",
       "    <tr>\n",
       "      <th>2</th>\n",
       "      <td>0.010580</td>\n",
       "      <td>(Аксессуары для волос)</td>\n",
       "    </tr>\n",
       "    <tr>\n",
       "      <th>3</th>\n",
       "      <td>0.009867</td>\n",
       "      <td>(Аксессуары для гигиены тела)</td>\n",
       "    </tr>\n",
       "    <tr>\n",
       "      <th>4</th>\n",
       "      <td>0.003362</td>\n",
       "      <td>(Аксессуары для детей)</td>\n",
       "    </tr>\n",
       "    <tr>\n",
       "      <th>5</th>\n",
       "      <td>0.001199</td>\n",
       "      <td>(Аксессуары для обуви)</td>\n",
       "    </tr>\n",
       "    <tr>\n",
       "      <th>6</th>\n",
       "      <td>0.001061</td>\n",
       "      <td>(Аксессуары для телефонов и планшетов)</td>\n",
       "    </tr>\n",
       "    <tr>\n",
       "      <th>7</th>\n",
       "      <td>0.001717</td>\n",
       "      <td>(Аксессуары и посуда для кормления)</td>\n",
       "    </tr>\n",
       "    <tr>\n",
       "      <th>8</th>\n",
       "      <td>0.002568</td>\n",
       "      <td>(Антисептики)</td>\n",
       "    </tr>\n",
       "    <tr>\n",
       "      <th>9</th>\n",
       "      <td>0.012556</td>\n",
       "      <td>(Аэрозольные освежители воздуха)</td>\n",
       "    </tr>\n",
       "    <tr>\n",
       "      <th>10</th>\n",
       "      <td>0.001280</td>\n",
       "      <td>(Бальзамы для губ детские)</td>\n",
       "    </tr>\n",
       "    <tr>\n",
       "      <th>11</th>\n",
       "      <td>0.018138</td>\n",
       "      <td>(Бальзамы и кондиционеры)</td>\n",
       "    </tr>\n",
       "    <tr>\n",
       "      <th>12</th>\n",
       "      <td>0.006165</td>\n",
       "      <td>(Батарейки)</td>\n",
       "    </tr>\n",
       "    <tr>\n",
       "      <th>13</th>\n",
       "      <td>0.001142</td>\n",
       "      <td>(Бижутерия)</td>\n",
       "    </tr>\n",
       "    <tr>\n",
       "      <th>14</th>\n",
       "      <td>0.020649</td>\n",
       "      <td>(Блоки для унитаза)</td>\n",
       "    </tr>\n",
       "    <tr>\n",
       "      <th>15</th>\n",
       "      <td>0.012913</td>\n",
       "      <td>(Бритвы и лезвия)</td>\n",
       "    </tr>\n",
       "    <tr>\n",
       "      <th>16</th>\n",
       "      <td>0.015197</td>\n",
       "      <td>(Бумажные полотенца)</td>\n",
       "    </tr>\n",
       "    <tr>\n",
       "      <th>17</th>\n",
       "      <td>0.024643</td>\n",
       "      <td>(Бумажные салфетки)</td>\n",
       "    </tr>\n",
       "    <tr>\n",
       "      <th>18</th>\n",
       "      <td>0.003046</td>\n",
       "      <td>(Бумажные салфетки для лица)</td>\n",
       "    </tr>\n",
       "    <tr>\n",
       "      <th>19</th>\n",
       "      <td>0.037466</td>\n",
       "      <td>(Ватная продукция)</td>\n",
       "    </tr>\n",
       "  </tbody>\n",
       "</table>\n",
       "</div>"
      ],
      "text/plain": [
       "     support                                itemsets\n",
       "0   0.005573     (Автоматические освежители воздуха)\n",
       "1   0.001102                 (Автохимия и косметика)\n",
       "2   0.010580                  (Аксессуары для волос)\n",
       "3   0.009867           (Аксессуары для гигиены тела)\n",
       "4   0.003362                  (Аксессуары для детей)\n",
       "5   0.001199                  (Аксессуары для обуви)\n",
       "6   0.001061  (Аксессуары для телефонов и планшетов)\n",
       "7   0.001717     (Аксессуары и посуда для кормления)\n",
       "8   0.002568                           (Антисептики)\n",
       "9   0.012556        (Аэрозольные освежители воздуха)\n",
       "10  0.001280              (Бальзамы для губ детские)\n",
       "11  0.018138               (Бальзамы и кондиционеры)\n",
       "12  0.006165                             (Батарейки)\n",
       "13  0.001142                             (Бижутерия)\n",
       "14  0.020649                     (Блоки для унитаза)\n",
       "15  0.012913                       (Бритвы и лезвия)\n",
       "16  0.015197                    (Бумажные полотенца)\n",
       "17  0.024643                     (Бумажные салфетки)\n",
       "18  0.003046            (Бумажные салфетки для лица)\n",
       "19  0.037466                      (Ватная продукция)"
      ]
     },
     "execution_count": 107,
     "metadata": {},
     "output_type": "execute_result"
    }
   ],
   "source": [
    "md=mlxtend.frequent_patterns.apriori(groupgoods)\n",
    "md_minsup=mlxtend.frequent_patterns.apriori(groupgoods,\n",
    "                                           min_support=0.001, \n",
    "                                            use_colnames=True)\n",
    "md_minsup.head(20)"
   ]
  },
  {
   "cell_type": "code",
   "execution_count": 108,
   "id": "b6ee05ef",
   "metadata": {},
   "outputs": [],
   "source": [
    "rules=mlxtend.frequent_patterns.association_rules(\n",
    "md_minsup, metric=\"confidence\",min_threshold=0.0001,support_only=False)"
   ]
  },
  {
   "cell_type": "code",
   "execution_count": 109,
   "id": "4c738ddd",
   "metadata": {
    "scrolled": true
   },
   "outputs": [],
   "source": [
    "#rules "
   ]
  },
  {
   "cell_type": "code",
   "execution_count": 110,
   "id": "dbff3e4d",
   "metadata": {},
   "outputs": [
    {
     "data": {
      "text/html": [
       "<div>\n",
       "<style scoped>\n",
       "    .dataframe tbody tr th:only-of-type {\n",
       "        vertical-align: middle;\n",
       "    }\n",
       "\n",
       "    .dataframe tbody tr th {\n",
       "        vertical-align: top;\n",
       "    }\n",
       "\n",
       "    .dataframe thead th {\n",
       "        text-align: right;\n",
       "    }\n",
       "</style>\n",
       "<table border=\"1\" class=\"dataframe\">\n",
       "  <thead>\n",
       "    <tr style=\"text-align: right;\">\n",
       "      <th></th>\n",
       "      <th>antecedents</th>\n",
       "      <th>consequents</th>\n",
       "      <th>antecedent support</th>\n",
       "      <th>consequent support</th>\n",
       "      <th>support</th>\n",
       "      <th>confidence</th>\n",
       "      <th>lift</th>\n",
       "      <th>leverage</th>\n",
       "      <th>conviction</th>\n",
       "    </tr>\n",
       "  </thead>\n",
       "  <tbody>\n",
       "    <tr>\n",
       "      <th>34</th>\n",
       "      <td>(Сухие корма для кошек и котят)</td>\n",
       "      <td>(Влажные корма для кошек и котят)</td>\n",
       "      <td>0.024667</td>\n",
       "      <td>0.036372</td>\n",
       "      <td>0.003743</td>\n",
       "      <td>0.151724</td>\n",
       "      <td>4.171400</td>\n",
       "      <td>0.002845</td>\n",
       "      <td>1.135984</td>\n",
       "    </tr>\n",
       "    <tr>\n",
       "      <th>35</th>\n",
       "      <td>(Влажные корма для кошек и котят)</td>\n",
       "      <td>(Сухие корма для кошек и котят)</td>\n",
       "      <td>0.036372</td>\n",
       "      <td>0.024667</td>\n",
       "      <td>0.003743</td>\n",
       "      <td>0.102895</td>\n",
       "      <td>4.171400</td>\n",
       "      <td>0.002845</td>\n",
       "      <td>1.087201</td>\n",
       "    </tr>\n",
       "    <tr>\n",
       "      <th>3</th>\n",
       "      <td>(Бумажные полотенца)</td>\n",
       "      <td>(Туалетная бумага)</td>\n",
       "      <td>0.015197</td>\n",
       "      <td>0.069497</td>\n",
       "      <td>0.001304</td>\n",
       "      <td>0.085821</td>\n",
       "      <td>1.234895</td>\n",
       "      <td>0.000248</td>\n",
       "      <td>1.017857</td>\n",
       "    </tr>\n",
       "    <tr>\n",
       "      <th>9</th>\n",
       "      <td>(Бумажные салфетки)</td>\n",
       "      <td>(Туалетная бумага)</td>\n",
       "      <td>0.024643</td>\n",
       "      <td>0.069497</td>\n",
       "      <td>0.001977</td>\n",
       "      <td>0.080210</td>\n",
       "      <td>1.154164</td>\n",
       "      <td>0.000264</td>\n",
       "      <td>1.011648</td>\n",
       "    </tr>\n",
       "    <tr>\n",
       "      <th>119</th>\n",
       "      <td>(Хозяйственные товары для уборки)</td>\n",
       "      <td>(Туалетная бумага)</td>\n",
       "      <td>0.053506</td>\n",
       "      <td>0.069497</td>\n",
       "      <td>0.003848</td>\n",
       "      <td>0.071915</td>\n",
       "      <td>1.034803</td>\n",
       "      <td>0.000129</td>\n",
       "      <td>1.002606</td>\n",
       "    </tr>\n",
       "    <tr>\n",
       "      <th>107</th>\n",
       "      <td>(Прокладки ежедневные)</td>\n",
       "      <td>(Туалетная бумага)</td>\n",
       "      <td>0.017271</td>\n",
       "      <td>0.069497</td>\n",
       "      <td>0.001223</td>\n",
       "      <td>0.070826</td>\n",
       "      <td>1.019123</td>\n",
       "      <td>0.000023</td>\n",
       "      <td>1.001430</td>\n",
       "    </tr>\n",
       "    <tr>\n",
       "      <th>117</th>\n",
       "      <td>(Упаковка для выпечки и хранения продуктов)</td>\n",
       "      <td>(Туалетная бумага)</td>\n",
       "      <td>0.014849</td>\n",
       "      <td>0.069497</td>\n",
       "      <td>0.001037</td>\n",
       "      <td>0.069831</td>\n",
       "      <td>1.004811</td>\n",
       "      <td>0.000005</td>\n",
       "      <td>1.000359</td>\n",
       "    </tr>\n",
       "    <tr>\n",
       "      <th>37</th>\n",
       "      <td>(Влажные корма для кошек и котят)</td>\n",
       "      <td>(Туалетная бумага)</td>\n",
       "      <td>0.036372</td>\n",
       "      <td>0.069497</td>\n",
       "      <td>0.002446</td>\n",
       "      <td>0.067261</td>\n",
       "      <td>0.967826</td>\n",
       "      <td>-0.000081</td>\n",
       "      <td>0.997603</td>\n",
       "    </tr>\n",
       "    <tr>\n",
       "      <th>5</th>\n",
       "      <td>(Бумажные полотенца)</td>\n",
       "      <td>(Хозяйственные товары для уборки)</td>\n",
       "      <td>0.015197</td>\n",
       "      <td>0.053506</td>\n",
       "      <td>0.001013</td>\n",
       "      <td>0.066631</td>\n",
       "      <td>1.245311</td>\n",
       "      <td>0.000199</td>\n",
       "      <td>1.014063</td>\n",
       "    </tr>\n",
       "    <tr>\n",
       "      <th>113</th>\n",
       "      <td>(Сухие корма для кошек и котят)</td>\n",
       "      <td>(Туалетная бумага)</td>\n",
       "      <td>0.024667</td>\n",
       "      <td>0.069497</td>\n",
       "      <td>0.001636</td>\n",
       "      <td>0.066338</td>\n",
       "      <td>0.954555</td>\n",
       "      <td>-0.000078</td>\n",
       "      <td>0.996617</td>\n",
       "    </tr>\n",
       "    <tr>\n",
       "      <th>49</th>\n",
       "      <td>(Влажные салфетки)</td>\n",
       "      <td>(Туалетная бумага)</td>\n",
       "      <td>0.035886</td>\n",
       "      <td>0.069497</td>\n",
       "      <td>0.002317</td>\n",
       "      <td>0.064560</td>\n",
       "      <td>0.928965</td>\n",
       "      <td>-0.000177</td>\n",
       "      <td>0.994723</td>\n",
       "    </tr>\n",
       "    <tr>\n",
       "      <th>87</th>\n",
       "      <td>(Мыло кусковое)</td>\n",
       "      <td>(Туалетная бумага)</td>\n",
       "      <td>0.028709</td>\n",
       "      <td>0.069497</td>\n",
       "      <td>0.001806</td>\n",
       "      <td>0.062923</td>\n",
       "      <td>0.905416</td>\n",
       "      <td>-0.000189</td>\n",
       "      <td>0.992985</td>\n",
       "    </tr>\n",
       "    <tr>\n",
       "      <th>11</th>\n",
       "      <td>(Бумажные салфетки)</td>\n",
       "      <td>(Хозяйственные товары для уборки)</td>\n",
       "      <td>0.024643</td>\n",
       "      <td>0.053506</td>\n",
       "      <td>0.001507</td>\n",
       "      <td>0.061144</td>\n",
       "      <td>1.142758</td>\n",
       "      <td>0.000188</td>\n",
       "      <td>1.008136</td>\n",
       "    </tr>\n",
       "    <tr>\n",
       "      <th>57</th>\n",
       "      <td>(Дезинфицирующие средства для сантехники)</td>\n",
       "      <td>(Туалетная бумага)</td>\n",
       "      <td>0.021030</td>\n",
       "      <td>0.069497</td>\n",
       "      <td>0.001280</td>\n",
       "      <td>0.060863</td>\n",
       "      <td>0.875768</td>\n",
       "      <td>-0.000182</td>\n",
       "      <td>0.990807</td>\n",
       "    </tr>\n",
       "    <tr>\n",
       "      <th>121</th>\n",
       "      <td>(Чистящие средства)</td>\n",
       "      <td>(Туалетная бумага)</td>\n",
       "      <td>0.034874</td>\n",
       "      <td>0.069497</td>\n",
       "      <td>0.002090</td>\n",
       "      <td>0.059930</td>\n",
       "      <td>0.862350</td>\n",
       "      <td>-0.000334</td>\n",
       "      <td>0.989824</td>\n",
       "    </tr>\n",
       "    <tr>\n",
       "      <th>81</th>\n",
       "      <td>(Мыло жидкое)</td>\n",
       "      <td>(Туалетная бумага)</td>\n",
       "      <td>0.030183</td>\n",
       "      <td>0.069497</td>\n",
       "      <td>0.001806</td>\n",
       "      <td>0.059850</td>\n",
       "      <td>0.861190</td>\n",
       "      <td>-0.000291</td>\n",
       "      <td>0.989739</td>\n",
       "    </tr>\n",
       "    <tr>\n",
       "      <th>95</th>\n",
       "      <td>(Пасты зубные)</td>\n",
       "      <td>(Туалетная бумага)</td>\n",
       "      <td>0.047373</td>\n",
       "      <td>0.069497</td>\n",
       "      <td>0.002835</td>\n",
       "      <td>0.059850</td>\n",
       "      <td>0.861187</td>\n",
       "      <td>-0.000457</td>\n",
       "      <td>0.989739</td>\n",
       "    </tr>\n",
       "    <tr>\n",
       "      <th>109</th>\n",
       "      <td>(Средства для ручного мытья посуды)</td>\n",
       "      <td>(Туалетная бумага)</td>\n",
       "      <td>0.020495</td>\n",
       "      <td>0.069497</td>\n",
       "      <td>0.001223</td>\n",
       "      <td>0.059684</td>\n",
       "      <td>0.858802</td>\n",
       "      <td>-0.000201</td>\n",
       "      <td>0.989564</td>\n",
       "    </tr>\n",
       "    <tr>\n",
       "      <th>19</th>\n",
       "      <td>(Ватная продукция)</td>\n",
       "      <td>(Туалетная бумага)</td>\n",
       "      <td>0.037466</td>\n",
       "      <td>0.069497</td>\n",
       "      <td>0.002236</td>\n",
       "      <td>0.059676</td>\n",
       "      <td>0.858686</td>\n",
       "      <td>-0.000368</td>\n",
       "      <td>0.989556</td>\n",
       "    </tr>\n",
       "    <tr>\n",
       "      <th>91</th>\n",
       "      <td>(Ополаскиватели для белья)</td>\n",
       "      <td>(Туалетная бумага)</td>\n",
       "      <td>0.023978</td>\n",
       "      <td>0.069497</td>\n",
       "      <td>0.001418</td>\n",
       "      <td>0.059122</td>\n",
       "      <td>0.850713</td>\n",
       "      <td>-0.000249</td>\n",
       "      <td>0.988973</td>\n",
       "    </tr>\n",
       "    <tr>\n",
       "      <th>105</th>\n",
       "      <td>(Прокладки)</td>\n",
       "      <td>(Туалетная бумага)</td>\n",
       "      <td>0.022666</td>\n",
       "      <td>0.069497</td>\n",
       "      <td>0.001264</td>\n",
       "      <td>0.055754</td>\n",
       "      <td>0.802257</td>\n",
       "      <td>-0.000311</td>\n",
       "      <td>0.985446</td>\n",
       "    </tr>\n",
       "    <tr>\n",
       "      <th>118</th>\n",
       "      <td>(Туалетная бумага)</td>\n",
       "      <td>(Хозяйственные товары для уборки)</td>\n",
       "      <td>0.069497</td>\n",
       "      <td>0.053506</td>\n",
       "      <td>0.003848</td>\n",
       "      <td>0.055368</td>\n",
       "      <td>1.034803</td>\n",
       "      <td>0.000129</td>\n",
       "      <td>1.001971</td>\n",
       "    </tr>\n",
       "    <tr>\n",
       "      <th>123</th>\n",
       "      <td>(Чулочно-носочные изделия)</td>\n",
       "      <td>(Туалетная бумага)</td>\n",
       "      <td>0.037523</td>\n",
       "      <td>0.069497</td>\n",
       "      <td>0.002041</td>\n",
       "      <td>0.054404</td>\n",
       "      <td>0.782832</td>\n",
       "      <td>-0.000566</td>\n",
       "      <td>0.984039</td>\n",
       "    </tr>\n",
       "    <tr>\n",
       "      <th>77</th>\n",
       "      <td>(Маски для лица)</td>\n",
       "      <td>(Туалетная бумага)</td>\n",
       "      <td>0.021475</td>\n",
       "      <td>0.069497</td>\n",
       "      <td>0.001150</td>\n",
       "      <td>0.053565</td>\n",
       "      <td>0.770753</td>\n",
       "      <td>-0.000342</td>\n",
       "      <td>0.983166</td>\n",
       "    </tr>\n",
       "    <tr>\n",
       "      <th>110</th>\n",
       "      <td>(Средства для ручного мытья посуды)</td>\n",
       "      <td>(Хозяйственные товары для уборки)</td>\n",
       "      <td>0.020495</td>\n",
       "      <td>0.053506</td>\n",
       "      <td>0.001086</td>\n",
       "      <td>0.052964</td>\n",
       "      <td>0.989885</td>\n",
       "      <td>-0.000011</td>\n",
       "      <td>0.999429</td>\n",
       "    </tr>\n",
       "    <tr>\n",
       "      <th>67</th>\n",
       "      <td>(Женские гели)</td>\n",
       "      <td>(Туалетная бумага)</td>\n",
       "      <td>0.025809</td>\n",
       "      <td>0.069497</td>\n",
       "      <td>0.001345</td>\n",
       "      <td>0.052103</td>\n",
       "      <td>0.749720</td>\n",
       "      <td>-0.000449</td>\n",
       "      <td>0.981650</td>\n",
       "    </tr>\n",
       "    <tr>\n",
       "      <th>59</th>\n",
       "      <td>(Дезинфицирующие средства для сантехники)</td>\n",
       "      <td>(Хозяйственные товары для уборки)</td>\n",
       "      <td>0.021030</td>\n",
       "      <td>0.053506</td>\n",
       "      <td>0.001094</td>\n",
       "      <td>0.052003</td>\n",
       "      <td>0.971918</td>\n",
       "      <td>-0.000032</td>\n",
       "      <td>0.998415</td>\n",
       "    </tr>\n",
       "    <tr>\n",
       "      <th>127</th>\n",
       "      <td>(Чистящие средства)</td>\n",
       "      <td>(Хозяйственные товары для уборки)</td>\n",
       "      <td>0.034874</td>\n",
       "      <td>0.053506</td>\n",
       "      <td>0.001798</td>\n",
       "      <td>0.051568</td>\n",
       "      <td>0.963786</td>\n",
       "      <td>-0.000068</td>\n",
       "      <td>0.997957</td>\n",
       "    </tr>\n",
       "    <tr>\n",
       "      <th>125</th>\n",
       "      <td>(Шампуни)</td>\n",
       "      <td>(Туалетная бумага)</td>\n",
       "      <td>0.040115</td>\n",
       "      <td>0.069497</td>\n",
       "      <td>0.002058</td>\n",
       "      <td>0.051292</td>\n",
       "      <td>0.738057</td>\n",
       "      <td>-0.000730</td>\n",
       "      <td>0.980812</td>\n",
       "    </tr>\n",
       "    <tr>\n",
       "      <th>1</th>\n",
       "      <td>(Блоки для унитаза)</td>\n",
       "      <td>(Туалетная бумага)</td>\n",
       "      <td>0.020649</td>\n",
       "      <td>0.069497</td>\n",
       "      <td>0.001053</td>\n",
       "      <td>0.051000</td>\n",
       "      <td>0.733855</td>\n",
       "      <td>-0.000382</td>\n",
       "      <td>0.980510</td>\n",
       "    </tr>\n",
       "  </tbody>\n",
       "</table>\n",
       "</div>"
      ],
      "text/plain": [
       "                                     antecedents  \\\n",
       "34               (Сухие корма для кошек и котят)   \n",
       "35             (Влажные корма для кошек и котят)   \n",
       "3                           (Бумажные полотенца)   \n",
       "9                            (Бумажные салфетки)   \n",
       "119            (Хозяйственные товары для уборки)   \n",
       "107                       (Прокладки ежедневные)   \n",
       "117  (Упаковка для выпечки и хранения продуктов)   \n",
       "37             (Влажные корма для кошек и котят)   \n",
       "5                           (Бумажные полотенца)   \n",
       "113              (Сухие корма для кошек и котят)   \n",
       "49                            (Влажные салфетки)   \n",
       "87                               (Мыло кусковое)   \n",
       "11                           (Бумажные салфетки)   \n",
       "57     (Дезинфицирующие средства для сантехники)   \n",
       "121                          (Чистящие средства)   \n",
       "81                                 (Мыло жидкое)   \n",
       "95                                (Пасты зубные)   \n",
       "109          (Средства для ручного мытья посуды)   \n",
       "19                            (Ватная продукция)   \n",
       "91                    (Ополаскиватели для белья)   \n",
       "105                                  (Прокладки)   \n",
       "118                           (Туалетная бумага)   \n",
       "123                   (Чулочно-носочные изделия)   \n",
       "77                              (Маски для лица)   \n",
       "110          (Средства для ручного мытья посуды)   \n",
       "67                                (Женские гели)   \n",
       "59     (Дезинфицирующие средства для сантехники)   \n",
       "127                          (Чистящие средства)   \n",
       "125                                    (Шампуни)   \n",
       "1                            (Блоки для унитаза)   \n",
       "\n",
       "                           consequents  antecedent support  \\\n",
       "34   (Влажные корма для кошек и котят)            0.024667   \n",
       "35     (Сухие корма для кошек и котят)            0.036372   \n",
       "3                   (Туалетная бумага)            0.015197   \n",
       "9                   (Туалетная бумага)            0.024643   \n",
       "119                 (Туалетная бумага)            0.053506   \n",
       "107                 (Туалетная бумага)            0.017271   \n",
       "117                 (Туалетная бумага)            0.014849   \n",
       "37                  (Туалетная бумага)            0.036372   \n",
       "5    (Хозяйственные товары для уборки)            0.015197   \n",
       "113                 (Туалетная бумага)            0.024667   \n",
       "49                  (Туалетная бумага)            0.035886   \n",
       "87                  (Туалетная бумага)            0.028709   \n",
       "11   (Хозяйственные товары для уборки)            0.024643   \n",
       "57                  (Туалетная бумага)            0.021030   \n",
       "121                 (Туалетная бумага)            0.034874   \n",
       "81                  (Туалетная бумага)            0.030183   \n",
       "95                  (Туалетная бумага)            0.047373   \n",
       "109                 (Туалетная бумага)            0.020495   \n",
       "19                  (Туалетная бумага)            0.037466   \n",
       "91                  (Туалетная бумага)            0.023978   \n",
       "105                 (Туалетная бумага)            0.022666   \n",
       "118  (Хозяйственные товары для уборки)            0.069497   \n",
       "123                 (Туалетная бумага)            0.037523   \n",
       "77                  (Туалетная бумага)            0.021475   \n",
       "110  (Хозяйственные товары для уборки)            0.020495   \n",
       "67                  (Туалетная бумага)            0.025809   \n",
       "59   (Хозяйственные товары для уборки)            0.021030   \n",
       "127  (Хозяйственные товары для уборки)            0.034874   \n",
       "125                 (Туалетная бумага)            0.040115   \n",
       "1                   (Туалетная бумага)            0.020649   \n",
       "\n",
       "     consequent support   support  confidence      lift  leverage  conviction  \n",
       "34             0.036372  0.003743    0.151724  4.171400  0.002845    1.135984  \n",
       "35             0.024667  0.003743    0.102895  4.171400  0.002845    1.087201  \n",
       "3              0.069497  0.001304    0.085821  1.234895  0.000248    1.017857  \n",
       "9              0.069497  0.001977    0.080210  1.154164  0.000264    1.011648  \n",
       "119            0.069497  0.003848    0.071915  1.034803  0.000129    1.002606  \n",
       "107            0.069497  0.001223    0.070826  1.019123  0.000023    1.001430  \n",
       "117            0.069497  0.001037    0.069831  1.004811  0.000005    1.000359  \n",
       "37             0.069497  0.002446    0.067261  0.967826 -0.000081    0.997603  \n",
       "5              0.053506  0.001013    0.066631  1.245311  0.000199    1.014063  \n",
       "113            0.069497  0.001636    0.066338  0.954555 -0.000078    0.996617  \n",
       "49             0.069497  0.002317    0.064560  0.928965 -0.000177    0.994723  \n",
       "87             0.069497  0.001806    0.062923  0.905416 -0.000189    0.992985  \n",
       "11             0.053506  0.001507    0.061144  1.142758  0.000188    1.008136  \n",
       "57             0.069497  0.001280    0.060863  0.875768 -0.000182    0.990807  \n",
       "121            0.069497  0.002090    0.059930  0.862350 -0.000334    0.989824  \n",
       "81             0.069497  0.001806    0.059850  0.861190 -0.000291    0.989739  \n",
       "95             0.069497  0.002835    0.059850  0.861187 -0.000457    0.989739  \n",
       "109            0.069497  0.001223    0.059684  0.858802 -0.000201    0.989564  \n",
       "19             0.069497  0.002236    0.059676  0.858686 -0.000368    0.989556  \n",
       "91             0.069497  0.001418    0.059122  0.850713 -0.000249    0.988973  \n",
       "105            0.069497  0.001264    0.055754  0.802257 -0.000311    0.985446  \n",
       "118            0.053506  0.003848    0.055368  1.034803  0.000129    1.001971  \n",
       "123            0.069497  0.002041    0.054404  0.782832 -0.000566    0.984039  \n",
       "77             0.069497  0.001150    0.053565  0.770753 -0.000342    0.983166  \n",
       "110            0.053506  0.001086    0.052964  0.989885 -0.000011    0.999429  \n",
       "67             0.069497  0.001345    0.052103  0.749720 -0.000449    0.981650  \n",
       "59             0.053506  0.001094    0.052003  0.971918 -0.000032    0.998415  \n",
       "127            0.053506  0.001798    0.051568  0.963786 -0.000068    0.997957  \n",
       "125            0.069497  0.002058    0.051292  0.738057 -0.000730    0.980812  \n",
       "1              0.069497  0.001053    0.051000  0.733855 -0.000382    0.980510  "
      ]
     },
     "execution_count": 110,
     "metadata": {},
     "output_type": "execute_result"
    }
   ],
   "source": [
    "# общие данные по всем чекам отсортированы по confidence\n",
    "rulescon = rules.sort_values(by = 'confidence', ascending = False)\n",
    "rulescon.head(30)"
   ]
  },
  {
   "cell_type": "code",
   "execution_count": 111,
   "id": "51acb69b",
   "metadata": {},
   "outputs": [],
   "source": [
    "# отсортированно по support\n",
    "#rulessup = rules.sort_values(by = 'support', ascending = False)\n",
    "#rulessup.head(10)"
   ]
  },
  {
   "cell_type": "code",
   "execution_count": 112,
   "id": "9c0981a4",
   "metadata": {},
   "outputs": [],
   "source": [
    "#rulescon = rules.sort_values(by = 'conviction', ascending = False)\n",
    "#rulescon.head(10)"
   ]
  },
  {
   "cell_type": "markdown",
   "id": "6627c55b",
   "metadata": {},
   "source": [
    "Посчитаем эту же таблицу кросс-продаж для \"золотых покупателей\", для мужчин и женщин.  "
   ]
  },
  {
   "cell_type": "markdown",
   "id": "8464396f",
   "metadata": {},
   "source": [
    "Для \"золотых\" мужчин:"
   ]
  },
  {
   "cell_type": "code",
   "execution_count": 113,
   "id": "153c83ba",
   "metadata": {},
   "outputs": [],
   "source": [
    "goldoneman = goldoneman.iloc[0:2000000:20]"
   ]
  },
  {
   "cell_type": "code",
   "execution_count": 114,
   "id": "c250f645",
   "metadata": {},
   "outputs": [
    {
     "name": "stdout",
     "output_type": "stream",
     "text": [
      "<class 'pandas.core.frame.DataFrame'>\n",
      "Int64Index: 96418 entries, 0 to 10493261\n",
      "Data columns (total 15 columns):\n",
      " #   Column              Non-Null Count  Dtype         \n",
      "---  ------              --------------  -----         \n",
      " 0   customer            96418 non-null  object        \n",
      " 1   purchase date_x     96418 non-null  int64         \n",
      " 2   index               96418 non-null  int64         \n",
      " 3   purchase date_y     96418 non-null  datetime64[ns]\n",
      " 4   product             96418 non-null  object        \n",
      " 5   other_product       96418 non-null  int32         \n",
      " 6   p&g_product         96418 non-null  int32         \n",
      " 7   cost_product        96418 non-null  float64       \n",
      " 8   cost_p&g            669 non-null    float64       \n",
      " 9   product_segment     96418 non-null  int32         \n",
      " 10  p&g_segment         669 non-null    float64       \n",
      " 11  customer_age_group  96418 non-null  object        \n",
      " 12  gender              96418 non-null  object        \n",
      " 13  enr_channel         96418 non-null  object        \n",
      " 14  enr_date            96418 non-null  datetime64[ns]\n",
      "dtypes: datetime64[ns](2), float64(3), int32(3), int64(2), object(5)\n",
      "memory usage: 10.7+ MB\n"
     ]
    }
   ],
   "source": [
    "goldoneman.info()"
   ]
  },
  {
   "cell_type": "code",
   "execution_count": 115,
   "id": "0fc1bd3f",
   "metadata": {},
   "outputs": [],
   "source": [
    "groupgoodsgman = goldoneman.groupby(['customer', 'product']).agg({'product': 'nunique'}).unstack().reset_index(drop = True).fillna(0)"
   ]
  },
  {
   "cell_type": "code",
   "execution_count": 116,
   "id": "ce921ab7",
   "metadata": {},
   "outputs": [],
   "source": [
    "groupgoodsgman.columns = groupgoodsgman.columns.droplevel(0)"
   ]
  },
  {
   "cell_type": "code",
   "execution_count": 117,
   "id": "f32415ed",
   "metadata": {},
   "outputs": [
    {
     "name": "stdout",
     "output_type": "stream",
     "text": [
      "90029.0\n"
     ]
    },
    {
     "data": {
      "text/html": [
       "<div>\n",
       "<style scoped>\n",
       "    .dataframe tbody tr th:only-of-type {\n",
       "        vertical-align: middle;\n",
       "    }\n",
       "\n",
       "    .dataframe tbody tr th {\n",
       "        vertical-align: top;\n",
       "    }\n",
       "\n",
       "    .dataframe thead th {\n",
       "        text-align: right;\n",
       "    }\n",
       "</style>\n",
       "<table border=\"1\" class=\"dataframe\">\n",
       "  <thead>\n",
       "    <tr style=\"text-align: right;\">\n",
       "      <th></th>\n",
       "      <th>item_name</th>\n",
       "      <th>item_count</th>\n",
       "    </tr>\n",
       "  </thead>\n",
       "  <tbody>\n",
       "    <tr>\n",
       "      <th>0</th>\n",
       "      <td>Туалетная бумага</td>\n",
       "      <td>4469.0</td>\n",
       "    </tr>\n",
       "    <tr>\n",
       "      <th>1</th>\n",
       "      <td>Хозяйственные товары для уборки</td>\n",
       "      <td>3368.0</td>\n",
       "    </tr>\n",
       "    <tr>\n",
       "      <th>2</th>\n",
       "      <td>Пасты зубные</td>\n",
       "      <td>2898.0</td>\n",
       "    </tr>\n",
       "    <tr>\n",
       "      <th>3</th>\n",
       "      <td>Шампуни</td>\n",
       "      <td>2156.0</td>\n",
       "    </tr>\n",
       "    <tr>\n",
       "      <th>4</th>\n",
       "      <td>Чистящие средства</td>\n",
       "      <td>2149.0</td>\n",
       "    </tr>\n",
       "    <tr>\n",
       "      <th>5</th>\n",
       "      <td>Ватная продукция</td>\n",
       "      <td>2019.0</td>\n",
       "    </tr>\n",
       "    <tr>\n",
       "      <th>6</th>\n",
       "      <td>Влажные салфетки</td>\n",
       "      <td>1938.0</td>\n",
       "    </tr>\n",
       "    <tr>\n",
       "      <th>7</th>\n",
       "      <td>Чулочно-носочные изделия</td>\n",
       "      <td>1920.0</td>\n",
       "    </tr>\n",
       "    <tr>\n",
       "      <th>8</th>\n",
       "      <td>Мыло жидкое</td>\n",
       "      <td>1849.0</td>\n",
       "    </tr>\n",
       "    <tr>\n",
       "      <th>9</th>\n",
       "      <td>Мыло кусковое</td>\n",
       "      <td>1842.0</td>\n",
       "    </tr>\n",
       "  </tbody>\n",
       "</table>\n",
       "</div>"
      ],
      "text/plain": [
       "                         item_name  item_count\n",
       "0                 Туалетная бумага      4469.0\n",
       "1  Хозяйственные товары для уборки      3368.0\n",
       "2                     Пасты зубные      2898.0\n",
       "3                          Шампуни      2156.0\n",
       "4                Чистящие средства      2149.0\n",
       "5                 Ватная продукция      2019.0\n",
       "6                 Влажные салфетки      1938.0\n",
       "7         Чулочно-носочные изделия      1920.0\n",
       "8                      Мыло жидкое      1849.0\n",
       "9                    Мыло кусковое      1842.0"
      ]
     },
     "execution_count": 117,
     "metadata": {},
     "output_type": "execute_result"
    }
   ],
   "source": [
    "total_item_count = sum(groupgoodsgman.sum())\n",
    "print(total_item_count)\n",
    "item_summary_df = groupgoodsgman.sum().sort_values(ascending = False).reset_index().head(n=20)\n",
    "item_summary_df.rename(columns={item_summary_df.columns[0]:'item_name',item_summary_df.columns[1]:'item_count'}, inplace=True)\n",
    "item_summary_df.head(10)"
   ]
  },
  {
   "cell_type": "code",
   "execution_count": 118,
   "id": "ea3f827b",
   "metadata": {},
   "outputs": [
    {
     "data": {
      "text/plain": [
       "Text(0.5, 1.0, 'Самые часто покупаемые товары \"золотыми\" мужчинами')"
      ]
     },
     "execution_count": 118,
     "metadata": {},
     "output_type": "execute_result"
    },
    {
     "data": {
      "image/png": "[encoded data removed]",
      "text/plain": [
       "<Figure size 432x288 with 1 Axes>"
      ]
     },
     "metadata": {
      "needs_background": "light"
     },
     "output_type": "display_data"
    }
   ],
   "source": [
    "objects = (list(item_summary_df['item_name'].head(n=20)))\n",
    "y_pos = np.arange(len(objects))\n",
    "performance = list(item_summary_df['item_count'].head(n=20))\n",
    " \n",
    "plt.bar(y_pos, performance, align='center', alpha=0.5)\n",
    "plt.xticks(y_pos, objects)\n",
    "plt.xticks(rotation=45, ha='right')\n",
    "plt.ylabel('Item count')\n",
    "plt.title('Самые часто покупаемые товары \"золотыми\" мужчинами')"
   ]
  },
  {
   "cell_type": "code",
   "execution_count": 119,
   "id": "c8a64e55",
   "metadata": {},
   "outputs": [],
   "source": [
    "groupgoodsgman = groupgoodsgman.applymap(clean_data)    "
   ]
  },
  {
   "cell_type": "code",
   "execution_count": 120,
   "id": "544e7a21",
   "metadata": {},
   "outputs": [],
   "source": [
    "groupgoodsgman = groupgoodsgman.astype('uint8')"
   ]
  },
  {
   "cell_type": "code",
   "execution_count": 121,
   "id": "d4d157eb",
   "metadata": {},
   "outputs": [
    {
     "data": {
      "text/html": [
       "<div>\n",
       "<style scoped>\n",
       "    .dataframe tbody tr th:only-of-type {\n",
       "        vertical-align: middle;\n",
       "    }\n",
       "\n",
       "    .dataframe tbody tr th {\n",
       "        vertical-align: top;\n",
       "    }\n",
       "\n",
       "    .dataframe thead th {\n",
       "        text-align: right;\n",
       "    }\n",
       "</style>\n",
       "<table border=\"1\" class=\"dataframe\">\n",
       "  <thead>\n",
       "    <tr style=\"text-align: right;\">\n",
       "      <th></th>\n",
       "      <th>support</th>\n",
       "      <th>itemsets</th>\n",
       "    </tr>\n",
       "  </thead>\n",
       "  <tbody>\n",
       "    <tr>\n",
       "      <th>0</th>\n",
       "      <td>0.010652</td>\n",
       "      <td>(Автоматические освежители воздуха)</td>\n",
       "    </tr>\n",
       "    <tr>\n",
       "      <th>1</th>\n",
       "      <td>0.002784</td>\n",
       "      <td>(Автохимия и косметика)</td>\n",
       "    </tr>\n",
       "    <tr>\n",
       "      <th>2</th>\n",
       "      <td>0.015858</td>\n",
       "      <td>(Аксессуары для волос)</td>\n",
       "    </tr>\n",
       "    <tr>\n",
       "      <th>3</th>\n",
       "      <td>0.015616</td>\n",
       "      <td>(Аксессуары для гигиены тела)</td>\n",
       "    </tr>\n",
       "    <tr>\n",
       "      <th>4</th>\n",
       "      <td>0.005417</td>\n",
       "      <td>(Аксессуары для детей)</td>\n",
       "    </tr>\n",
       "    <tr>\n",
       "      <th>5</th>\n",
       "      <td>0.002028</td>\n",
       "      <td>(Аксессуары для обуви)</td>\n",
       "    </tr>\n",
       "    <tr>\n",
       "      <th>6</th>\n",
       "      <td>0.001967</td>\n",
       "      <td>(Аксессуары для телефонов и планшетов)</td>\n",
       "    </tr>\n",
       "    <tr>\n",
       "      <th>7</th>\n",
       "      <td>0.002693</td>\n",
       "      <td>(Аксессуары и посуда для кормления)</td>\n",
       "    </tr>\n",
       "    <tr>\n",
       "      <th>8</th>\n",
       "      <td>0.004630</td>\n",
       "      <td>(Антисептики)</td>\n",
       "    </tr>\n",
       "    <tr>\n",
       "      <th>9</th>\n",
       "      <td>0.023333</td>\n",
       "      <td>(Аэрозольные освежители воздуха)</td>\n",
       "    </tr>\n",
       "    <tr>\n",
       "      <th>10</th>\n",
       "      <td>0.001997</td>\n",
       "      <td>(Бальзамы для губ детские)</td>\n",
       "    </tr>\n",
       "    <tr>\n",
       "      <th>11</th>\n",
       "      <td>0.027085</td>\n",
       "      <td>(Бальзамы и кондиционеры)</td>\n",
       "    </tr>\n",
       "    <tr>\n",
       "      <th>12</th>\n",
       "      <td>0.013830</td>\n",
       "      <td>(Батарейки)</td>\n",
       "    </tr>\n",
       "    <tr>\n",
       "      <th>13</th>\n",
       "      <td>0.001604</td>\n",
       "      <td>(Бижутерия)</td>\n",
       "    </tr>\n",
       "    <tr>\n",
       "      <th>14</th>\n",
       "      <td>0.036981</td>\n",
       "      <td>(Блоки для унитаза)</td>\n",
       "    </tr>\n",
       "    <tr>\n",
       "      <th>15</th>\n",
       "      <td>0.019187</td>\n",
       "      <td>(Бритвы и лезвия)</td>\n",
       "    </tr>\n",
       "    <tr>\n",
       "      <th>16</th>\n",
       "      <td>0.031534</td>\n",
       "      <td>(Бумажные полотенца)</td>\n",
       "    </tr>\n",
       "    <tr>\n",
       "      <th>17</th>\n",
       "      <td>0.046726</td>\n",
       "      <td>(Бумажные салфетки)</td>\n",
       "    </tr>\n",
       "    <tr>\n",
       "      <th>18</th>\n",
       "      <td>0.005538</td>\n",
       "      <td>(Бумажные салфетки для лица)</td>\n",
       "    </tr>\n",
       "    <tr>\n",
       "      <th>19</th>\n",
       "      <td>0.061100</td>\n",
       "      <td>(Ватная продукция)</td>\n",
       "    </tr>\n",
       "  </tbody>\n",
       "</table>\n",
       "</div>"
      ],
      "text/plain": [
       "     support                                itemsets\n",
       "0   0.010652     (Автоматические освежители воздуха)\n",
       "1   0.002784                 (Автохимия и косметика)\n",
       "2   0.015858                  (Аксессуары для волос)\n",
       "3   0.015616           (Аксессуары для гигиены тела)\n",
       "4   0.005417                  (Аксессуары для детей)\n",
       "5   0.002028                  (Аксессуары для обуви)\n",
       "6   0.001967  (Аксессуары для телефонов и планшетов)\n",
       "7   0.002693     (Аксессуары и посуда для кормления)\n",
       "8   0.004630                           (Антисептики)\n",
       "9   0.023333        (Аэрозольные освежители воздуха)\n",
       "10  0.001997              (Бальзамы для губ детские)\n",
       "11  0.027085               (Бальзамы и кондиционеры)\n",
       "12  0.013830                             (Батарейки)\n",
       "13  0.001604                             (Бижутерия)\n",
       "14  0.036981                     (Блоки для унитаза)\n",
       "15  0.019187                       (Бритвы и лезвия)\n",
       "16  0.031534                    (Бумажные полотенца)\n",
       "17  0.046726                     (Бумажные салфетки)\n",
       "18  0.005538            (Бумажные салфетки для лица)\n",
       "19  0.061100                      (Ватная продукция)"
      ]
     },
     "execution_count": 121,
     "metadata": {},
     "output_type": "execute_result"
    }
   ],
   "source": [
    "md=mlxtend.frequent_patterns.apriori(groupgoodsgman)\n",
    "md_minsup=mlxtend.frequent_patterns.apriori(groupgoodsgman,\n",
    "                                           min_support=0.001, \n",
    "                                            use_colnames=True)\n",
    "md_minsup.head(20)"
   ]
  },
  {
   "cell_type": "code",
   "execution_count": 122,
   "id": "ebe35d11",
   "metadata": {},
   "outputs": [],
   "source": [
    "rulesgoldman = mlxtend.frequent_patterns.association_rules(\n",
    "md_minsup, metric=\"confidence\",min_threshold=0.0001,support_only=False)"
   ]
  },
  {
   "cell_type": "code",
   "execution_count": 123,
   "id": "af587f1e",
   "metadata": {},
   "outputs": [],
   "source": [
    "#rulesgoldman"
   ]
  },
  {
   "cell_type": "code",
   "execution_count": 124,
   "id": "d719c06c",
   "metadata": {},
   "outputs": [
    {
     "data": {
      "text/html": [
       "<div>\n",
       "<style scoped>\n",
       "    .dataframe tbody tr th:only-of-type {\n",
       "        vertical-align: middle;\n",
       "    }\n",
       "\n",
       "    .dataframe tbody tr th {\n",
       "        vertical-align: top;\n",
       "    }\n",
       "\n",
       "    .dataframe thead th {\n",
       "        text-align: right;\n",
       "    }\n",
       "</style>\n",
       "<table border=\"1\" class=\"dataframe\">\n",
       "  <thead>\n",
       "    <tr style=\"text-align: right;\">\n",
       "      <th></th>\n",
       "      <th>antecedents</th>\n",
       "      <th>consequents</th>\n",
       "      <th>antecedent support</th>\n",
       "      <th>consequent support</th>\n",
       "      <th>support</th>\n",
       "      <th>confidence</th>\n",
       "      <th>lift</th>\n",
       "      <th>leverage</th>\n",
       "      <th>conviction</th>\n",
       "    </tr>\n",
       "  </thead>\n",
       "  <tbody>\n",
       "    <tr>\n",
       "      <th>1780</th>\n",
       "      <td>(Бумажные полотенца, Бумажные салфетки)</td>\n",
       "      <td>(Туалетная бумага)</td>\n",
       "      <td>0.002512</td>\n",
       "      <td>0.135244</td>\n",
       "      <td>0.001180</td>\n",
       "      <td>0.469880</td>\n",
       "      <td>3.474312</td>\n",
       "      <td>0.000841</td>\n",
       "      <td>1.631244</td>\n",
       "    </tr>\n",
       "    <tr>\n",
       "      <th>1922</th>\n",
       "      <td>(Сухие корма для кошек и котят, Шампуни)</td>\n",
       "      <td>(Влажные корма для кошек и котят)</td>\n",
       "      <td>0.002451</td>\n",
       "      <td>0.054866</td>\n",
       "      <td>0.001029</td>\n",
       "      <td>0.419753</td>\n",
       "      <td>7.650480</td>\n",
       "      <td>0.000894</td>\n",
       "      <td>1.628848</td>\n",
       "    </tr>\n",
       "    <tr>\n",
       "      <th>2008</th>\n",
       "      <td>(Средства для ручного мытья посуды, Мыло жидкое)</td>\n",
       "      <td>(Туалетная бумага)</td>\n",
       "      <td>0.002875</td>\n",
       "      <td>0.135244</td>\n",
       "      <td>0.001089</td>\n",
       "      <td>0.378947</td>\n",
       "      <td>2.801955</td>\n",
       "      <td>0.000701</td>\n",
       "      <td>1.392404</td>\n",
       "    </tr>\n",
       "    <tr>\n",
       "      <th>1905</th>\n",
       "      <td>(Туалетная бумага, Сухие корма для кошек и котят)</td>\n",
       "      <td>(Влажные корма для кошек и котят)</td>\n",
       "      <td>0.006446</td>\n",
       "      <td>0.054866</td>\n",
       "      <td>0.002360</td>\n",
       "      <td>0.366197</td>\n",
       "      <td>6.674363</td>\n",
       "      <td>0.002007</td>\n",
       "      <td>1.491211</td>\n",
       "    </tr>\n",
       "    <tr>\n",
       "      <th>1916</th>\n",
       "      <td>(Сухие корма для кошек и котят, Чулочно-носочн...</td>\n",
       "      <td>(Влажные корма для кошек и котят)</td>\n",
       "      <td>0.002845</td>\n",
       "      <td>0.054866</td>\n",
       "      <td>0.001029</td>\n",
       "      <td>0.361702</td>\n",
       "      <td>6.592435</td>\n",
       "      <td>0.000873</td>\n",
       "      <td>1.480710</td>\n",
       "    </tr>\n",
       "    <tr>\n",
       "      <th>480</th>\n",
       "      <td>(Лакомства для кошек и котят)</td>\n",
       "      <td>(Влажные корма для кошек и котят)</td>\n",
       "      <td>0.004025</td>\n",
       "      <td>0.054866</td>\n",
       "      <td>0.001453</td>\n",
       "      <td>0.360902</td>\n",
       "      <td>6.577857</td>\n",
       "      <td>0.001232</td>\n",
       "      <td>1.478856</td>\n",
       "    </tr>\n",
       "    <tr>\n",
       "      <th>1816</th>\n",
       "      <td>(Бумажные салфетки, Мыло жидкое)</td>\n",
       "      <td>(Туалетная бумага)</td>\n",
       "      <td>0.003692</td>\n",
       "      <td>0.135244</td>\n",
       "      <td>0.001301</td>\n",
       "      <td>0.352459</td>\n",
       "      <td>2.606099</td>\n",
       "      <td>0.000802</td>\n",
       "      <td>1.335446</td>\n",
       "    </tr>\n",
       "    <tr>\n",
       "      <th>1786</th>\n",
       "      <td>(Бумажные полотенца, Ватная продукция)</td>\n",
       "      <td>(Туалетная бумага)</td>\n",
       "      <td>0.002935</td>\n",
       "      <td>0.135244</td>\n",
       "      <td>0.001029</td>\n",
       "      <td>0.350515</td>\n",
       "      <td>2.591728</td>\n",
       "      <td>0.000632</td>\n",
       "      <td>1.331450</td>\n",
       "    </tr>\n",
       "    <tr>\n",
       "      <th>1792</th>\n",
       "      <td>(Хозяйственные товары для уборки, Бумажные пол...</td>\n",
       "      <td>(Туалетная бумага)</td>\n",
       "      <td>0.005145</td>\n",
       "      <td>0.135244</td>\n",
       "      <td>0.001785</td>\n",
       "      <td>0.347059</td>\n",
       "      <td>2.566170</td>\n",
       "      <td>0.001090</td>\n",
       "      <td>1.324401</td>\n",
       "    </tr>\n",
       "    <tr>\n",
       "      <th>1846</th>\n",
       "      <td>(Чулочно-носочные изделия, Бумажные салфетки)</td>\n",
       "      <td>(Туалетная бумага)</td>\n",
       "      <td>0.003147</td>\n",
       "      <td>0.135244</td>\n",
       "      <td>0.001059</td>\n",
       "      <td>0.336538</td>\n",
       "      <td>2.488381</td>\n",
       "      <td>0.000634</td>\n",
       "      <td>1.303400</td>\n",
       "    </tr>\n",
       "    <tr>\n",
       "      <th>1910</th>\n",
       "      <td>(Сухие корма для кошек и котят, Хозяйственные ...</td>\n",
       "      <td>(Влажные корма для кошек и котят)</td>\n",
       "      <td>0.004751</td>\n",
       "      <td>0.054866</td>\n",
       "      <td>0.001574</td>\n",
       "      <td>0.331210</td>\n",
       "      <td>6.036685</td>\n",
       "      <td>0.001313</td>\n",
       "      <td>1.413200</td>\n",
       "    </tr>\n",
       "    <tr>\n",
       "      <th>1804</th>\n",
       "      <td>(Влажные салфетки, Бумажные салфетки)</td>\n",
       "      <td>(Туалетная бумага)</td>\n",
       "      <td>0.004116</td>\n",
       "      <td>0.135244</td>\n",
       "      <td>0.001332</td>\n",
       "      <td>0.323529</td>\n",
       "      <td>2.392192</td>\n",
       "      <td>0.000775</td>\n",
       "      <td>1.278335</td>\n",
       "    </tr>\n",
       "    <tr>\n",
       "      <th>1972</th>\n",
       "      <td>(Хозяйственные товары для уборки, Дезинфицирую...</td>\n",
       "      <td>(Туалетная бумага)</td>\n",
       "      <td>0.005478</td>\n",
       "      <td>0.135244</td>\n",
       "      <td>0.001755</td>\n",
       "      <td>0.320442</td>\n",
       "      <td>2.369363</td>\n",
       "      <td>0.001014</td>\n",
       "      <td>1.272527</td>\n",
       "    </tr>\n",
       "    <tr>\n",
       "      <th>1798</th>\n",
       "      <td>(Ватная продукция, Бумажные салфетки)</td>\n",
       "      <td>(Туалетная бумага)</td>\n",
       "      <td>0.003541</td>\n",
       "      <td>0.135244</td>\n",
       "      <td>0.001089</td>\n",
       "      <td>0.307692</td>\n",
       "      <td>2.275092</td>\n",
       "      <td>0.000611</td>\n",
       "      <td>1.249092</td>\n",
       "    </tr>\n",
       "    <tr>\n",
       "      <th>1840</th>\n",
       "      <td>(Хозяйственные товары для уборки, Бумажные сал...</td>\n",
       "      <td>(Туалетная бумага)</td>\n",
       "      <td>0.007051</td>\n",
       "      <td>0.135244</td>\n",
       "      <td>0.002118</td>\n",
       "      <td>0.300429</td>\n",
       "      <td>2.221388</td>\n",
       "      <td>0.001165</td>\n",
       "      <td>1.236124</td>\n",
       "    </tr>\n",
       "    <tr>\n",
       "      <th>1858</th>\n",
       "      <td>(Дезодоранты женские, Ватная продукция)</td>\n",
       "      <td>(Туалетная бумага)</td>\n",
       "      <td>0.004146</td>\n",
       "      <td>0.135244</td>\n",
       "      <td>0.001241</td>\n",
       "      <td>0.299270</td>\n",
       "      <td>2.212817</td>\n",
       "      <td>0.000680</td>\n",
       "      <td>1.234079</td>\n",
       "    </tr>\n",
       "    <tr>\n",
       "      <th>1948</th>\n",
       "      <td>(Влажные салфетки, Мыло кусковое)</td>\n",
       "      <td>(Туалетная бумага)</td>\n",
       "      <td>0.003843</td>\n",
       "      <td>0.135244</td>\n",
       "      <td>0.001150</td>\n",
       "      <td>0.299213</td>\n",
       "      <td>2.212392</td>\n",
       "      <td>0.000630</td>\n",
       "      <td>1.233978</td>\n",
       "    </tr>\n",
       "    <tr>\n",
       "      <th>1822</th>\n",
       "      <td>(Бумажные салфетки, Мыло кусковое)</td>\n",
       "      <td>(Туалетная бумага)</td>\n",
       "      <td>0.004267</td>\n",
       "      <td>0.135244</td>\n",
       "      <td>0.001271</td>\n",
       "      <td>0.297872</td>\n",
       "      <td>2.202482</td>\n",
       "      <td>0.000694</td>\n",
       "      <td>1.231622</td>\n",
       "    </tr>\n",
       "    <tr>\n",
       "      <th>1882</th>\n",
       "      <td>(Хозяйственные товары для уборки, Ватная проду...</td>\n",
       "      <td>(Туалетная бумага)</td>\n",
       "      <td>0.007535</td>\n",
       "      <td>0.135244</td>\n",
       "      <td>0.002209</td>\n",
       "      <td>0.293173</td>\n",
       "      <td>2.167733</td>\n",
       "      <td>0.001190</td>\n",
       "      <td>1.223433</td>\n",
       "    </tr>\n",
       "    <tr>\n",
       "      <th>2080</th>\n",
       "      <td>(Сухие корма для кошек и котят, Хозяйственные ...</td>\n",
       "      <td>(Туалетная бумага)</td>\n",
       "      <td>0.004751</td>\n",
       "      <td>0.135244</td>\n",
       "      <td>0.001362</td>\n",
       "      <td>0.286624</td>\n",
       "      <td>2.119313</td>\n",
       "      <td>0.000719</td>\n",
       "      <td>1.212203</td>\n",
       "    </tr>\n",
       "    <tr>\n",
       "      <th>1990</th>\n",
       "      <td>(Дезодоранты женские, Чистящие средства)</td>\n",
       "      <td>(Туалетная бумага)</td>\n",
       "      <td>0.003601</td>\n",
       "      <td>0.135244</td>\n",
       "      <td>0.001029</td>\n",
       "      <td>0.285714</td>\n",
       "      <td>2.112585</td>\n",
       "      <td>0.000542</td>\n",
       "      <td>1.210659</td>\n",
       "    </tr>\n",
       "    <tr>\n",
       "      <th>1828</th>\n",
       "      <td>(Бумажные салфетки, Пасты зубные)</td>\n",
       "      <td>(Туалетная бумага)</td>\n",
       "      <td>0.005114</td>\n",
       "      <td>0.135244</td>\n",
       "      <td>0.001453</td>\n",
       "      <td>0.284024</td>\n",
       "      <td>2.100085</td>\n",
       "      <td>0.000761</td>\n",
       "      <td>1.207800</td>\n",
       "    </tr>\n",
       "    <tr>\n",
       "      <th>1894</th>\n",
       "      <td>(Влажные салфетки, Влажные корма для кошек и к...</td>\n",
       "      <td>(Туалетная бумага)</td>\n",
       "      <td>0.004267</td>\n",
       "      <td>0.135244</td>\n",
       "      <td>0.001211</td>\n",
       "      <td>0.283688</td>\n",
       "      <td>2.097602</td>\n",
       "      <td>0.000633</td>\n",
       "      <td>1.207234</td>\n",
       "    </tr>\n",
       "    <tr>\n",
       "      <th>1984</th>\n",
       "      <td>(Хозяйственные товары для уборки, Дезодоранты ...</td>\n",
       "      <td>(Туалетная бумага)</td>\n",
       "      <td>0.005659</td>\n",
       "      <td>0.135244</td>\n",
       "      <td>0.001604</td>\n",
       "      <td>0.283422</td>\n",
       "      <td>2.095639</td>\n",
       "      <td>0.000839</td>\n",
       "      <td>1.206786</td>\n",
       "    </tr>\n",
       "    <tr>\n",
       "      <th>1774</th>\n",
       "      <td>(Хозяйственные товары для уборки, Блоки для ун...</td>\n",
       "      <td>(Туалетная бумага)</td>\n",
       "      <td>0.004933</td>\n",
       "      <td>0.135244</td>\n",
       "      <td>0.001392</td>\n",
       "      <td>0.282209</td>\n",
       "      <td>2.086664</td>\n",
       "      <td>0.000725</td>\n",
       "      <td>1.204746</td>\n",
       "    </tr>\n",
       "    <tr>\n",
       "      <th>2074</th>\n",
       "      <td>(Средства для ручного мытья посуды, Хозяйствен...</td>\n",
       "      <td>(Туалетная бумага)</td>\n",
       "      <td>0.004418</td>\n",
       "      <td>0.135244</td>\n",
       "      <td>0.001241</td>\n",
       "      <td>0.280822</td>\n",
       "      <td>2.076411</td>\n",
       "      <td>0.000643</td>\n",
       "      <td>1.202423</td>\n",
       "    </tr>\n",
       "    <tr>\n",
       "      <th>1930</th>\n",
       "      <td>(Хозяйственные товары для уборки, Влажные корм...</td>\n",
       "      <td>(Туалетная бумага)</td>\n",
       "      <td>0.006506</td>\n",
       "      <td>0.135244</td>\n",
       "      <td>0.001816</td>\n",
       "      <td>0.279070</td>\n",
       "      <td>2.063455</td>\n",
       "      <td>0.000936</td>\n",
       "      <td>1.199500</td>\n",
       "    </tr>\n",
       "    <tr>\n",
       "      <th>2014</th>\n",
       "      <td>(Хозяйственные товары для уборки, Мыло жидкое)</td>\n",
       "      <td>(Туалетная бумага)</td>\n",
       "      <td>0.007081</td>\n",
       "      <td>0.135244</td>\n",
       "      <td>0.001967</td>\n",
       "      <td>0.277778</td>\n",
       "      <td>2.053902</td>\n",
       "      <td>0.001009</td>\n",
       "      <td>1.197355</td>\n",
       "    </tr>\n",
       "    <tr>\n",
       "      <th>1942</th>\n",
       "      <td>(Влажные салфетки, Мыло жидкое)</td>\n",
       "      <td>(Туалетная бумага)</td>\n",
       "      <td>0.004388</td>\n",
       "      <td>0.135244</td>\n",
       "      <td>0.001211</td>\n",
       "      <td>0.275862</td>\n",
       "      <td>2.039737</td>\n",
       "      <td>0.000617</td>\n",
       "      <td>1.194187</td>\n",
       "    </tr>\n",
       "    <tr>\n",
       "      <th>2068</th>\n",
       "      <td>(Хозяйственные товары для уборки, Прокладки)</td>\n",
       "      <td>(Туалетная бумага)</td>\n",
       "      <td>0.003874</td>\n",
       "      <td>0.135244</td>\n",
       "      <td>0.001059</td>\n",
       "      <td>0.273438</td>\n",
       "      <td>2.021810</td>\n",
       "      <td>0.000535</td>\n",
       "      <td>1.190202</td>\n",
       "    </tr>\n",
       "  </tbody>\n",
       "</table>\n",
       "</div>"
      ],
      "text/plain": [
       "                                            antecedents  \\\n",
       "1780            (Бумажные полотенца, Бумажные салфетки)   \n",
       "1922           (Сухие корма для кошек и котят, Шампуни)   \n",
       "2008   (Средства для ручного мытья посуды, Мыло жидкое)   \n",
       "1905  (Туалетная бумага, Сухие корма для кошек и котят)   \n",
       "1916  (Сухие корма для кошек и котят, Чулочно-носочн...   \n",
       "480                       (Лакомства для кошек и котят)   \n",
       "1816                   (Бумажные салфетки, Мыло жидкое)   \n",
       "1786             (Бумажные полотенца, Ватная продукция)   \n",
       "1792  (Хозяйственные товары для уборки, Бумажные пол...   \n",
       "1846      (Чулочно-носочные изделия, Бумажные салфетки)   \n",
       "1910  (Сухие корма для кошек и котят, Хозяйственные ...   \n",
       "1804              (Влажные салфетки, Бумажные салфетки)   \n",
       "1972  (Хозяйственные товары для уборки, Дезинфицирую...   \n",
       "1798              (Ватная продукция, Бумажные салфетки)   \n",
       "1840  (Хозяйственные товары для уборки, Бумажные сал...   \n",
       "1858            (Дезодоранты женские, Ватная продукция)   \n",
       "1948                  (Влажные салфетки, Мыло кусковое)   \n",
       "1822                 (Бумажные салфетки, Мыло кусковое)   \n",
       "1882  (Хозяйственные товары для уборки, Ватная проду...   \n",
       "2080  (Сухие корма для кошек и котят, Хозяйственные ...   \n",
       "1990           (Дезодоранты женские, Чистящие средства)   \n",
       "1828                  (Бумажные салфетки, Пасты зубные)   \n",
       "1894  (Влажные салфетки, Влажные корма для кошек и к...   \n",
       "1984  (Хозяйственные товары для уборки, Дезодоранты ...   \n",
       "1774  (Хозяйственные товары для уборки, Блоки для ун...   \n",
       "2074  (Средства для ручного мытья посуды, Хозяйствен...   \n",
       "1930  (Хозяйственные товары для уборки, Влажные корм...   \n",
       "2014     (Хозяйственные товары для уборки, Мыло жидкое)   \n",
       "1942                    (Влажные салфетки, Мыло жидкое)   \n",
       "2068       (Хозяйственные товары для уборки, Прокладки)   \n",
       "\n",
       "                            consequents  antecedent support  \\\n",
       "1780                 (Туалетная бумага)            0.002512   \n",
       "1922  (Влажные корма для кошек и котят)            0.002451   \n",
       "2008                 (Туалетная бумага)            0.002875   \n",
       "1905  (Влажные корма для кошек и котят)            0.006446   \n",
       "1916  (Влажные корма для кошек и котят)            0.002845   \n",
       "480   (Влажные корма для кошек и котят)            0.004025   \n",
       "1816                 (Туалетная бумага)            0.003692   \n",
       "1786                 (Туалетная бумага)            0.002935   \n",
       "1792                 (Туалетная бумага)            0.005145   \n",
       "1846                 (Туалетная бумага)            0.003147   \n",
       "1910  (Влажные корма для кошек и котят)            0.004751   \n",
       "1804                 (Туалетная бумага)            0.004116   \n",
       "1972                 (Туалетная бумага)            0.005478   \n",
       "1798                 (Туалетная бумага)            0.003541   \n",
       "1840                 (Туалетная бумага)            0.007051   \n",
       "1858                 (Туалетная бумага)            0.004146   \n",
       "1948                 (Туалетная бумага)            0.003843   \n",
       "1822                 (Туалетная бумага)            0.004267   \n",
       "1882                 (Туалетная бумага)            0.007535   \n",
       "2080                 (Туалетная бумага)            0.004751   \n",
       "1990                 (Туалетная бумага)            0.003601   \n",
       "1828                 (Туалетная бумага)            0.005114   \n",
       "1894                 (Туалетная бумага)            0.004267   \n",
       "1984                 (Туалетная бумага)            0.005659   \n",
       "1774                 (Туалетная бумага)            0.004933   \n",
       "2074                 (Туалетная бумага)            0.004418   \n",
       "1930                 (Туалетная бумага)            0.006506   \n",
       "2014                 (Туалетная бумага)            0.007081   \n",
       "1942                 (Туалетная бумага)            0.004388   \n",
       "2068                 (Туалетная бумага)            0.003874   \n",
       "\n",
       "      consequent support   support  confidence      lift  leverage  conviction  \n",
       "1780            0.135244  0.001180    0.469880  3.474312  0.000841    1.631244  \n",
       "1922            0.054866  0.001029    0.419753  7.650480  0.000894    1.628848  \n",
       "2008            0.135244  0.001089    0.378947  2.801955  0.000701    1.392404  \n",
       "1905            0.054866  0.002360    0.366197  6.674363  0.002007    1.491211  \n",
       "1916            0.054866  0.001029    0.361702  6.592435  0.000873    1.480710  \n",
       "480             0.054866  0.001453    0.360902  6.577857  0.001232    1.478856  \n",
       "1816            0.135244  0.001301    0.352459  2.606099  0.000802    1.335446  \n",
       "1786            0.135244  0.001029    0.350515  2.591728  0.000632    1.331450  \n",
       "1792            0.135244  0.001785    0.347059  2.566170  0.001090    1.324401  \n",
       "1846            0.135244  0.001059    0.336538  2.488381  0.000634    1.303400  \n",
       "1910            0.054866  0.001574    0.331210  6.036685  0.001313    1.413200  \n",
       "1804            0.135244  0.001332    0.323529  2.392192  0.000775    1.278335  \n",
       "1972            0.135244  0.001755    0.320442  2.369363  0.001014    1.272527  \n",
       "1798            0.135244  0.001089    0.307692  2.275092  0.000611    1.249092  \n",
       "1840            0.135244  0.002118    0.300429  2.221388  0.001165    1.236124  \n",
       "1858            0.135244  0.001241    0.299270  2.212817  0.000680    1.234079  \n",
       "1948            0.135244  0.001150    0.299213  2.212392  0.000630    1.233978  \n",
       "1822            0.135244  0.001271    0.297872  2.202482  0.000694    1.231622  \n",
       "1882            0.135244  0.002209    0.293173  2.167733  0.001190    1.223433  \n",
       "2080            0.135244  0.001362    0.286624  2.119313  0.000719    1.212203  \n",
       "1990            0.135244  0.001029    0.285714  2.112585  0.000542    1.210659  \n",
       "1828            0.135244  0.001453    0.284024  2.100085  0.000761    1.207800  \n",
       "1894            0.135244  0.001211    0.283688  2.097602  0.000633    1.207234  \n",
       "1984            0.135244  0.001604    0.283422  2.095639  0.000839    1.206786  \n",
       "1774            0.135244  0.001392    0.282209  2.086664  0.000725    1.204746  \n",
       "2074            0.135244  0.001241    0.280822  2.076411  0.000643    1.202423  \n",
       "1930            0.135244  0.001816    0.279070  2.063455  0.000936    1.199500  \n",
       "2014            0.135244  0.001967    0.277778  2.053902  0.001009    1.197355  \n",
       "1942            0.135244  0.001211    0.275862  2.039737  0.000617    1.194187  \n",
       "2068            0.135244  0.001059    0.273438  2.021810  0.000535    1.190202  "
      ]
     },
     "execution_count": 124,
     "metadata": {},
     "output_type": "execute_result"
    }
   ],
   "source": [
    "# таблица для \"золотых\" покупателей-мужчин,отсортирована по confidence \n",
    "rulesgoldmanсon = rulesgoldman.sort_values(by = 'confidence', ascending = False)\n",
    "rulesgoldmanсon.head(30)"
   ]
  },
  {
   "cell_type": "code",
   "execution_count": 125,
   "id": "87b814ef",
   "metadata": {},
   "outputs": [],
   "source": [
    "# таблица для \"золотых\" покупателей-мужчин,отсортирована по support\n",
    "#rulesgoldmansup = rulesgoldman.sort_values(by = 'support', ascending = False)\n",
    "#rulesgoldmansup.head(10)"
   ]
  },
  {
   "cell_type": "markdown",
   "id": "f691f239",
   "metadata": {},
   "source": [
    "Для \"золотых\" женщин:"
   ]
  },
  {
   "cell_type": "code",
   "execution_count": 126,
   "id": "284f3249",
   "metadata": {},
   "outputs": [],
   "source": [
    "goldonewoman = goldonewoman.iloc[0:8000000:80]"
   ]
  },
  {
   "cell_type": "code",
   "execution_count": 127,
   "id": "95afdf1e",
   "metadata": {},
   "outputs": [],
   "source": [
    "groupgoodsgwoman = goldonewoman.groupby(['customer', 'product']).agg({'product': 'nunique'}).unstack().reset_index(drop = True).fillna(0)"
   ]
  },
  {
   "cell_type": "code",
   "execution_count": 128,
   "id": "ab3f98c1",
   "metadata": {},
   "outputs": [],
   "source": [
    "groupgoodsgwoman.columns = groupgoodsgwoman.columns.droplevel(0)"
   ]
  },
  {
   "cell_type": "code",
   "execution_count": 129,
   "id": "42c77855",
   "metadata": {},
   "outputs": [
    {
     "name": "stdout",
     "output_type": "stream",
     "text": [
      "95007.0\n"
     ]
    },
    {
     "data": {
      "text/html": [
       "<div>\n",
       "<style scoped>\n",
       "    .dataframe tbody tr th:only-of-type {\n",
       "        vertical-align: middle;\n",
       "    }\n",
       "\n",
       "    .dataframe tbody tr th {\n",
       "        vertical-align: top;\n",
       "    }\n",
       "\n",
       "    .dataframe thead th {\n",
       "        text-align: right;\n",
       "    }\n",
       "</style>\n",
       "<table border=\"1\" class=\"dataframe\">\n",
       "  <thead>\n",
       "    <tr style=\"text-align: right;\">\n",
       "      <th></th>\n",
       "      <th>item_name</th>\n",
       "      <th>item_count</th>\n",
       "    </tr>\n",
       "  </thead>\n",
       "  <tbody>\n",
       "    <tr>\n",
       "      <th>0</th>\n",
       "      <td>Туалетная бумага</td>\n",
       "      <td>4290.0</td>\n",
       "    </tr>\n",
       "    <tr>\n",
       "      <th>1</th>\n",
       "      <td>Хозяйственные товары для уборки</td>\n",
       "      <td>3239.0</td>\n",
       "    </tr>\n",
       "    <tr>\n",
       "      <th>2</th>\n",
       "      <td>Пасты зубные</td>\n",
       "      <td>2765.0</td>\n",
       "    </tr>\n",
       "    <tr>\n",
       "      <th>3</th>\n",
       "      <td>Влажные корма для кошек и котят</td>\n",
       "      <td>2601.0</td>\n",
       "    </tr>\n",
       "    <tr>\n",
       "      <th>4</th>\n",
       "      <td>Шампуни</td>\n",
       "      <td>2334.0</td>\n",
       "    </tr>\n",
       "    <tr>\n",
       "      <th>5</th>\n",
       "      <td>Чулочно-носочные изделия</td>\n",
       "      <td>2320.0</td>\n",
       "    </tr>\n",
       "    <tr>\n",
       "      <th>6</th>\n",
       "      <td>Ватная продукция</td>\n",
       "      <td>2312.0</td>\n",
       "    </tr>\n",
       "    <tr>\n",
       "      <th>7</th>\n",
       "      <td>Краска для волос</td>\n",
       "      <td>2273.0</td>\n",
       "    </tr>\n",
       "    <tr>\n",
       "      <th>8</th>\n",
       "      <td>Влажные салфетки</td>\n",
       "      <td>2206.0</td>\n",
       "    </tr>\n",
       "    <tr>\n",
       "      <th>9</th>\n",
       "      <td>Дезодоранты женские</td>\n",
       "      <td>2170.0</td>\n",
       "    </tr>\n",
       "  </tbody>\n",
       "</table>\n",
       "</div>"
      ],
      "text/plain": [
       "                         item_name  item_count\n",
       "0                 Туалетная бумага      4290.0\n",
       "1  Хозяйственные товары для уборки      3239.0\n",
       "2                     Пасты зубные      2765.0\n",
       "3  Влажные корма для кошек и котят      2601.0\n",
       "4                          Шампуни      2334.0\n",
       "5         Чулочно-носочные изделия      2320.0\n",
       "6                 Ватная продукция      2312.0\n",
       "7                 Краска для волос      2273.0\n",
       "8                 Влажные салфетки      2206.0\n",
       "9              Дезодоранты женские      2170.0"
      ]
     },
     "execution_count": 129,
     "metadata": {},
     "output_type": "execute_result"
    }
   ],
   "source": [
    "total_item_count = sum(groupgoodsgwoman.sum())\n",
    "print(total_item_count)\n",
    "item_summary_df = groupgoodsgwoman.sum().sort_values(ascending = False).reset_index().head(n=20)\n",
    "item_summary_df.rename(columns={item_summary_df.columns[0]:'item_name',item_summary_df.columns[1]:'item_count'}, inplace=True)\n",
    "item_summary_df.head(10)"
   ]
  },
  {
   "cell_type": "code",
   "execution_count": 130,
   "id": "e02ae724",
   "metadata": {},
   "outputs": [
    {
     "data": {
      "text/plain": [
       "Text(0.5, 1.0, 'Самые часто покупаемые товары \"золотыми\" женщинами')"
      ]
     },
     "execution_count": 130,
     "metadata": {},
     "output_type": "execute_result"
    },
    {
     "data": {
      "image/png": "[encoded data removed]",
      "text/plain": [
       "<Figure size 432x288 with 1 Axes>"
      ]
     },
     "metadata": {
      "needs_background": "light"
     },
     "output_type": "display_data"
    }
   ],
   "source": [
    "objects = (list(item_summary_df['item_name'].head(n=20)))\n",
    "y_pos = np.arange(len(objects))\n",
    "performance = list(item_summary_df['item_count'].head(n=20))\n",
    " \n",
    "plt.bar(y_pos, performance, align='center', alpha=0.5)\n",
    "plt.xticks(y_pos, objects)\n",
    "plt.xticks(rotation=45, ha='right')\n",
    "plt.ylabel('Item count')\n",
    "plt.title('Самые часто покупаемые товары \"золотыми\" женщинами')"
   ]
  },
  {
   "cell_type": "code",
   "execution_count": 131,
   "id": "6d5bcbe7",
   "metadata": {},
   "outputs": [],
   "source": [
    "groupgoodsgwoman = groupgoodsgwoman.applymap(clean_data)    \n",
    "groupgoodsgwoman = groupgoodsgwoman.astype('uint8')"
   ]
  },
  {
   "cell_type": "code",
   "execution_count": 132,
   "id": "588b7cf8",
   "metadata": {},
   "outputs": [
    {
     "data": {
      "text/html": [
       "<div>\n",
       "<style scoped>\n",
       "    .dataframe tbody tr th:only-of-type {\n",
       "        vertical-align: middle;\n",
       "    }\n",
       "\n",
       "    .dataframe tbody tr th {\n",
       "        vertical-align: top;\n",
       "    }\n",
       "\n",
       "    .dataframe thead th {\n",
       "        text-align: right;\n",
       "    }\n",
       "</style>\n",
       "<table border=\"1\" class=\"dataframe\">\n",
       "  <thead>\n",
       "    <tr style=\"text-align: right;\">\n",
       "      <th></th>\n",
       "      <th>support</th>\n",
       "      <th>itemsets</th>\n",
       "    </tr>\n",
       "  </thead>\n",
       "  <tbody>\n",
       "    <tr>\n",
       "      <th>0</th>\n",
       "      <td>0.004252</td>\n",
       "      <td>(Автоматические освежители воздуха)</td>\n",
       "    </tr>\n",
       "    <tr>\n",
       "      <th>1</th>\n",
       "      <td>0.008191</td>\n",
       "      <td>(Аксессуары для волос)</td>\n",
       "    </tr>\n",
       "    <tr>\n",
       "      <th>2</th>\n",
       "      <td>0.007092</td>\n",
       "      <td>(Аксессуары для гигиены тела)</td>\n",
       "    </tr>\n",
       "    <tr>\n",
       "      <th>3</th>\n",
       "      <td>0.002761</td>\n",
       "      <td>(Аксессуары для детей)</td>\n",
       "    </tr>\n",
       "    <tr>\n",
       "      <th>4</th>\n",
       "      <td>0.001099</td>\n",
       "      <td>(Аксессуары и посуда для кормления)</td>\n",
       "    </tr>\n",
       "    <tr>\n",
       "      <th>5</th>\n",
       "      <td>0.001766</td>\n",
       "      <td>(Антисептики)</td>\n",
       "    </tr>\n",
       "    <tr>\n",
       "      <th>6</th>\n",
       "      <td>0.008754</td>\n",
       "      <td>(Аэрозольные освежители воздуха)</td>\n",
       "    </tr>\n",
       "    <tr>\n",
       "      <th>7</th>\n",
       "      <td>0.014615</td>\n",
       "      <td>(Бальзамы и кондиционеры)</td>\n",
       "    </tr>\n",
       "    <tr>\n",
       "      <th>8</th>\n",
       "      <td>0.004815</td>\n",
       "      <td>(Батарейки)</td>\n",
       "    </tr>\n",
       "    <tr>\n",
       "      <th>9</th>\n",
       "      <td>0.016199</td>\n",
       "      <td>(Блоки для унитаза)</td>\n",
       "    </tr>\n",
       "    <tr>\n",
       "      <th>10</th>\n",
       "      <td>0.008283</td>\n",
       "      <td>(Бритвы и лезвия)</td>\n",
       "    </tr>\n",
       "    <tr>\n",
       "      <th>11</th>\n",
       "      <td>0.011449</td>\n",
       "      <td>(Бумажные полотенца)</td>\n",
       "    </tr>\n",
       "    <tr>\n",
       "      <th>12</th>\n",
       "      <td>0.020464</td>\n",
       "      <td>(Бумажные салфетки)</td>\n",
       "    </tr>\n",
       "    <tr>\n",
       "      <th>13</th>\n",
       "      <td>0.002630</td>\n",
       "      <td>(Бумажные салфетки для лица)</td>\n",
       "    </tr>\n",
       "    <tr>\n",
       "      <th>14</th>\n",
       "      <td>0.030251</td>\n",
       "      <td>(Ватная продукция)</td>\n",
       "    </tr>\n",
       "    <tr>\n",
       "      <th>15</th>\n",
       "      <td>0.034033</td>\n",
       "      <td>(Влажные корма для кошек и котят)</td>\n",
       "    </tr>\n",
       "    <tr>\n",
       "      <th>16</th>\n",
       "      <td>0.004697</td>\n",
       "      <td>(Влажные корма для собак)</td>\n",
       "    </tr>\n",
       "    <tr>\n",
       "      <th>17</th>\n",
       "      <td>0.028865</td>\n",
       "      <td>(Влажные салфетки)</td>\n",
       "    </tr>\n",
       "    <tr>\n",
       "      <th>18</th>\n",
       "      <td>0.001021</td>\n",
       "      <td>(Влажные салфетки для уборки)</td>\n",
       "    </tr>\n",
       "    <tr>\n",
       "      <th>19</th>\n",
       "      <td>0.001112</td>\n",
       "      <td>(Галантерея)</td>\n",
       "    </tr>\n",
       "  </tbody>\n",
       "</table>\n",
       "</div>"
      ],
      "text/plain": [
       "     support                             itemsets\n",
       "0   0.004252  (Автоматические освежители воздуха)\n",
       "1   0.008191               (Аксессуары для волос)\n",
       "2   0.007092        (Аксессуары для гигиены тела)\n",
       "3   0.002761               (Аксессуары для детей)\n",
       "4   0.001099  (Аксессуары и посуда для кормления)\n",
       "5   0.001766                        (Антисептики)\n",
       "6   0.008754     (Аэрозольные освежители воздуха)\n",
       "7   0.014615            (Бальзамы и кондиционеры)\n",
       "8   0.004815                          (Батарейки)\n",
       "9   0.016199                  (Блоки для унитаза)\n",
       "10  0.008283                    (Бритвы и лезвия)\n",
       "11  0.011449                 (Бумажные полотенца)\n",
       "12  0.020464                  (Бумажные салфетки)\n",
       "13  0.002630         (Бумажные салфетки для лица)\n",
       "14  0.030251                   (Ватная продукция)\n",
       "15  0.034033    (Влажные корма для кошек и котят)\n",
       "16  0.004697            (Влажные корма для собак)\n",
       "17  0.028865                   (Влажные салфетки)\n",
       "18  0.001021        (Влажные салфетки для уборки)\n",
       "19  0.001112                         (Галантерея)"
      ]
     },
     "execution_count": 132,
     "metadata": {},
     "output_type": "execute_result"
    }
   ],
   "source": [
    "md=mlxtend.frequent_patterns.apriori(groupgoodsgwoman)\n",
    "md_minsup=mlxtend.frequent_patterns.apriori(groupgoodsgwoman,\n",
    "                                           min_support=0.001, \n",
    "                                            use_colnames=True)\n",
    "md_minsup.head(20)"
   ]
  },
  {
   "cell_type": "code",
   "execution_count": 133,
   "id": "c857ed57",
   "metadata": {},
   "outputs": [],
   "source": [
    "rulesgoldwoman = mlxtend.frequent_patterns.association_rules(\n",
    "md_minsup, metric=\"confidence\",min_threshold=0.0001,support_only=False)"
   ]
  },
  {
   "cell_type": "code",
   "execution_count": 134,
   "id": "c729ee0b",
   "metadata": {
    "scrolled": true
   },
   "outputs": [
    {
     "data": {
      "text/html": [
       "<div>\n",
       "<style scoped>\n",
       "    .dataframe tbody tr th:only-of-type {\n",
       "        vertical-align: middle;\n",
       "    }\n",
       "\n",
       "    .dataframe tbody tr th {\n",
       "        vertical-align: top;\n",
       "    }\n",
       "\n",
       "    .dataframe thead th {\n",
       "        text-align: right;\n",
       "    }\n",
       "</style>\n",
       "<table border=\"1\" class=\"dataframe\">\n",
       "  <thead>\n",
       "    <tr style=\"text-align: right;\">\n",
       "      <th></th>\n",
       "      <th>antecedents</th>\n",
       "      <th>consequents</th>\n",
       "      <th>antecedent support</th>\n",
       "      <th>consequent support</th>\n",
       "      <th>support</th>\n",
       "      <th>confidence</th>\n",
       "      <th>lift</th>\n",
       "      <th>leverage</th>\n",
       "      <th>conviction</th>\n",
       "    </tr>\n",
       "  </thead>\n",
       "  <tbody>\n",
       "    <tr>\n",
       "      <th>0</th>\n",
       "      <td>(Сухие корма для кошек и котят)</td>\n",
       "      <td>(Влажные корма для кошек и котят)</td>\n",
       "      <td>0.021315</td>\n",
       "      <td>0.034033</td>\n",
       "      <td>0.002198</td>\n",
       "      <td>0.103131</td>\n",
       "      <td>3.030323</td>\n",
       "      <td>0.001473</td>\n",
       "      <td>1.077043</td>\n",
       "    </tr>\n",
       "    <tr>\n",
       "      <th>1</th>\n",
       "      <td>(Влажные корма для кошек и котят)</td>\n",
       "      <td>(Сухие корма для кошек и котят)</td>\n",
       "      <td>0.034033</td>\n",
       "      <td>0.021315</td>\n",
       "      <td>0.002198</td>\n",
       "      <td>0.064591</td>\n",
       "      <td>3.030323</td>\n",
       "      <td>0.001473</td>\n",
       "      <td>1.046264</td>\n",
       "    </tr>\n",
       "    <tr>\n",
       "      <th>2</th>\n",
       "      <td>(Туалетная бумага)</td>\n",
       "      <td>(Влажные корма для кошек и котят)</td>\n",
       "      <td>0.056133</td>\n",
       "      <td>0.034033</td>\n",
       "      <td>0.001413</td>\n",
       "      <td>0.025175</td>\n",
       "      <td>0.739720</td>\n",
       "      <td>-0.000497</td>\n",
       "      <td>0.990913</td>\n",
       "    </tr>\n",
       "    <tr>\n",
       "      <th>3</th>\n",
       "      <td>(Влажные корма для кошек и котят)</td>\n",
       "      <td>(Туалетная бумага)</td>\n",
       "      <td>0.034033</td>\n",
       "      <td>0.056133</td>\n",
       "      <td>0.001413</td>\n",
       "      <td>0.041522</td>\n",
       "      <td>0.739720</td>\n",
       "      <td>-0.000497</td>\n",
       "      <td>0.984757</td>\n",
       "    </tr>\n",
       "    <tr>\n",
       "      <th>4</th>\n",
       "      <td>(Туалетная бумага)</td>\n",
       "      <td>(Хозяйственные товары для уборки)</td>\n",
       "      <td>0.056133</td>\n",
       "      <td>0.042381</td>\n",
       "      <td>0.001400</td>\n",
       "      <td>0.024942</td>\n",
       "      <td>0.588514</td>\n",
       "      <td>-0.000979</td>\n",
       "      <td>0.982115</td>\n",
       "    </tr>\n",
       "    <tr>\n",
       "      <th>5</th>\n",
       "      <td>(Хозяйственные товары для уборки)</td>\n",
       "      <td>(Туалетная бумага)</td>\n",
       "      <td>0.042381</td>\n",
       "      <td>0.056133</td>\n",
       "      <td>0.001400</td>\n",
       "      <td>0.033035</td>\n",
       "      <td>0.588514</td>\n",
       "      <td>-0.000979</td>\n",
       "      <td>0.976113</td>\n",
       "    </tr>\n",
       "  </tbody>\n",
       "</table>\n",
       "</div>"
      ],
      "text/plain": [
       "                         antecedents                        consequents  \\\n",
       "0    (Сухие корма для кошек и котят)  (Влажные корма для кошек и котят)   \n",
       "1  (Влажные корма для кошек и котят)    (Сухие корма для кошек и котят)   \n",
       "2                 (Туалетная бумага)  (Влажные корма для кошек и котят)   \n",
       "3  (Влажные корма для кошек и котят)                 (Туалетная бумага)   \n",
       "4                 (Туалетная бумага)  (Хозяйственные товары для уборки)   \n",
       "5  (Хозяйственные товары для уборки)                 (Туалетная бумага)   \n",
       "\n",
       "   antecedent support  consequent support   support  confidence      lift  \\\n",
       "0            0.021315            0.034033  0.002198    0.103131  3.030323   \n",
       "1            0.034033            0.021315  0.002198    0.064591  3.030323   \n",
       "2            0.056133            0.034033  0.001413    0.025175  0.739720   \n",
       "3            0.034033            0.056133  0.001413    0.041522  0.739720   \n",
       "4            0.056133            0.042381  0.001400    0.024942  0.588514   \n",
       "5            0.042381            0.056133  0.001400    0.033035  0.588514   \n",
       "\n",
       "   leverage  conviction  \n",
       "0  0.001473    1.077043  \n",
       "1  0.001473    1.046264  \n",
       "2 -0.000497    0.990913  \n",
       "3 -0.000497    0.984757  \n",
       "4 -0.000979    0.982115  \n",
       "5 -0.000979    0.976113  "
      ]
     },
     "execution_count": 134,
     "metadata": {},
     "output_type": "execute_result"
    }
   ],
   "source": [
    "# связи по \"золотым\" женщинам\n",
    "rulesgoldwoman"
   ]
  }
 ],
 "metadata": {
  "kernelspec": {
   "display_name": "Python 3 (ipykernel)",
   "language": "python",
   "name": "python3"
  },
  "language_info": {
   "codemirror_mode": {
    "name": "ipython",
    "version": 3
   },
   "file_extension": ".py",
   "mimetype": "text/x-python",
   "name": "python",
   "nbconvert_exporter": "python",
   "pygments_lexer": "ipython3",
   "version": "3.9.7"
  }
 },
 "nbformat": 4,
 "nbformat_minor": 5
}
